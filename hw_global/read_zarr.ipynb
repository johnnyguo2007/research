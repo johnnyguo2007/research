{
 "cells": [
  {
   "cell_type": "code",
   "execution_count": null,
   "id": "initial_id",
   "metadata": {
    "collapsed": true
   },
   "outputs": [],
   "source": []
  },
  {
   "cell_type": "code",
   "outputs": [
    {
     "name": "stderr",
     "output_type": "stream",
     "text": [
      "/home/jguo/anaconda3/envs/I2000/lib/python3.10/site-packages/distributed/node.py:182: UserWarning: Port 8787 is already in use.\n",
      "Perhaps you already have a cluster running?\n",
      "Hosting the HTTP server on port 34579 instead\n",
      "  warnings.warn(\n"
     ]
    },
    {
     "name": "stdout",
     "output_type": "stream",
     "text": [
      "Dask Dashboard: http://127.0.0.1:34579/status\n",
      "<xarray.Dataset>\n",
      "Dimensions:  (lat: 192, lon: 288)\n",
      "Coordinates:\n",
      "  * lat      (lat) float32 -90.0 -89.06 -88.12 -87.17 ... 87.17 88.12 89.06 90.0\n",
      "  * lon      (lon) float32 0.0 1.25 2.5 3.75 5.0 ... 355.0 356.2 357.5 358.8\n",
      "Data variables:\n",
      "    TSA      (lat, lon) float32 230.3 230.3 230.3 230.3 ... nan nan nan nan\n",
      "    TSA_R    (lat, lon) float32 nan nan nan nan nan nan ... nan nan nan nan nan\n",
      "    TSA_U    (lat, lon) float32 nan nan nan nan nan nan ... nan nan nan nan nan\n",
      "    WBA      (lat, lon) float32 -42.89 -42.89 -42.89 -42.89 ... nan nan nan nan\n",
      "    WBA_R    (lat, lon) float32 nan nan nan nan nan nan ... nan nan nan nan nan\n",
      "    WBA_U    (lat, lon) float32 nan nan nan nan nan nan ... nan nan nan nan nan\n"
     ]
    }
   ],
   "source": [
    "import xarray as xr\n",
    "from dask.distributed import Client\n",
    "\n",
    "# Initialize a Dask client to use multiple CPUs\n",
    "client = Client()\n",
    "print(\"Dask Dashboard:\", client.dashboard_link)\n",
    "\n",
    "# Read the Zarr dataset using Xarray with automatic chunking for Dask\n",
    "dataset = xr.open_zarr('/home/jguo/process_data/zarr/i.e215.I2000Clm50SpGs.hw_production.02/3Dvars', chunks='auto')\n",
    "core_vars = ['TSA', 'TSA_R', 'TSA_U', 'WBA', 'WBA_R', 'WBA_U']\n",
    "dataset = dataset[core_vars]\n",
    "\n",
    "# Perform a computation - Example: Calculate the mean over a specific dimension\n",
    "# Replace 'time' with the dimension you want to compute over\n",
    "mean_data = dataset.mean(dim='time')\n",
    "\n",
    "# Trigger the computation with Dask\n",
    "computed_mean_data = mean_data.compute()\n",
    "print(computed_mean_data)\n",
    "\n",
    "# Your computed data is now in computed_mean_data, you can work with it as needed\n",
    "\n",
    "# Close the Dask client when done\n",
    "client.close()\n"
   ],
   "metadata": {
    "collapsed": false,
    "ExecuteTime": {
     "end_time": "2024-03-11T03:31:12.802373Z",
     "start_time": "2024-03-11T03:31:02.790605Z"
    }
   },
   "id": "7bb5657c6475e85c",
   "execution_count": 2
  }
 ],
 "metadata": {
  "kernelspec": {
   "display_name": "Python 3",
   "language": "python",
   "name": "python3"
  },
  "language_info": {
   "codemirror_mode": {
    "name": "ipython",
    "version": 2
   },
   "file_extension": ".py",
   "mimetype": "text/x-python",
   "name": "python",
   "nbconvert_exporter": "python",
   "pygments_lexer": "ipython2",
   "version": "2.7.6"
  }
 },
 "nbformat": 4,
 "nbformat_minor": 5
}
