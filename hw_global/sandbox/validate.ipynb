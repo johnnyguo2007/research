{
 "cells": [
  {
   "cell_type": "code",
   "id": "initial_id",
   "metadata": {
    "collapsed": true,
    "ExecuteTime": {
     "end_time": "2024-04-28T23:16:23.644514Z",
     "start_time": "2024-04-28T23:16:23.409656Z"
    }
   },
   "source": [
    "import pandas as pd\n",
    "import numpy as np\n",
    "import xarray as xr\n",
    "import os"
   ],
   "execution_count": 1,
   "outputs": []
  },
  {
   "metadata": {},
   "cell_type": "markdown",
   "source": "#  Validate HW definition (daily_grid_hw.nc)",
   "id": "bcee1dc1165cfed4"
  },
  {
   "metadata": {
    "ExecuteTime": {
     "end_time": "2024-04-28T23:16:23.856898Z",
     "start_time": "2024-04-28T23:16:23.645829Z"
    }
   },
   "cell_type": "code",
   "source": "ds_daily_hw = xr.open_dataset('/Trex/case_results/i.e215.I2000Clm50SpGs.hw_production.02/research_results/summary/daily_grid_hw.nc')",
   "id": "fb12f1a5b295b6e3",
   "execution_count": 2,
   "outputs": []
  },
  {
   "metadata": {
    "ExecuteTime": {
     "end_time": "2024-04-28T23:16:23.864101Z",
     "start_time": "2024-04-28T23:16:23.859292Z"
    }
   },
   "cell_type": "code",
   "source": "ds_daily_hw.info()",
   "id": "86febfb1b209145e",
   "execution_count": 3,
   "outputs": []
  },
  {
   "metadata": {
    "ExecuteTime": {
     "end_time": "2024-04-28T23:16:23.871877Z",
     "start_time": "2024-04-28T23:16:23.865253Z"
    }
   },
   "cell_type": "code",
   "source": "location_ID_ds = xr.open_dataset('/Trex/case_results/i.e215.I2000Clm50SpGs.hw_production.02/research_results/summary/location_IDs.nc')",
   "id": "2e73daba2ca0d968",
   "execution_count": 4,
   "outputs": []
  },
  {
   "metadata": {
    "ExecuteTime": {
     "end_time": "2024-04-28T23:16:23.876073Z",
     "start_time": "2024-04-28T23:16:23.873166Z"
    }
   },
   "cell_type": "code",
   "source": "location_ID_ds.info()",
   "id": "ae5a435e64d034c8",
   "execution_count": 5,
   "outputs": []
  },
  {
   "metadata": {
    "ExecuteTime": {
     "end_time": "2024-04-28T23:16:23.887060Z",
     "start_time": "2024-04-28T23:16:23.877024Z"
    }
   },
   "cell_type": "code",
   "source": [
    "# Find the lat and lon indices where the location_ID matches the given ID\n",
    "location_mask = location_ID_ds.location_ID == 35793\n",
    "if location_mask.sum() == 0:\n",
    "    print(\"Location ID not found.\")"
   ],
   "id": "7f5e45a99c8bb1a8",
   "execution_count": 6,
   "outputs": []
  },
  {
   "metadata": {
    "ExecuteTime": {
     "end_time": "2024-04-28T23:16:23.902401Z",
     "start_time": "2024-04-28T23:16:23.888704Z"
    }
   },
   "cell_type": "code",
   "source": [
    "# Extract the first instance of matching lat and lon coordinates (assuming unique ID)\n",
    "location = location_mask.where(location_mask, drop=True)\n",
    "if len(location.lat) == 0 or len(location.lon) == 0:\n",
    "    print(\"Location ID not found or multiple entries exist.\")\n",
    "\n",
    "# Use the extracted coordinates to select data\n",
    "lat_coord = location.lat.values[0]\n",
    "lon_coord = location.lon.values[0]\n",
    "\n",
    "# Extract the HW timeseries data for the identified lat and lon\n",
    "hw_timeseries = ds_daily_hw.HW.sel(lat=lat_coord, lon=lon_coord, method=\"nearest\")"
   ],
   "id": "65f62727a14cd245",
   "execution_count": 7,
   "outputs": []
  },
  {
   "metadata": {
    "ExecuteTime": {
     "end_time": "2024-04-28T23:16:23.909851Z",
     "start_time": "2024-04-28T23:16:23.903795Z"
    }
   },
   "cell_type": "code",
   "source": [
    "# Filter out null (NaN) values\n",
    "hw_timeseries = hw_timeseries.dropna(dim='time')\n",
    "print(hw_timeseries)"
   ],
   "id": "c9a29a9bf04db4da",
   "execution_count": 8,
   "outputs": []
  },
  {
   "metadata": {
    "ExecuteTime": {
     "end_time": "2024-04-28T23:16:23.914732Z",
     "start_time": "2024-04-28T23:16:23.911003Z"
    }
   },
   "cell_type": "code",
   "source": [
    "   # Print only the non-null dates\n",
    "print(\"Dates with non-null HW values:\")\n",
    "for date in hw_timeseries.time.values:\n",
    "    print(date)"
   ],
   "id": "52c5b663daf7a6e3",
   "execution_count": 9,
   "outputs": []
  },
  {
   "metadata": {},
   "cell_type": "markdown",
   "source": "#  Validate HW data in Zarr files",
   "id": "a4c9e2d0abe08cc6"
  },
  {
   "metadata": {
    "ExecuteTime": {
     "end_time": "2024-04-29T00:47:46.254590Z",
     "start_time": "2024-04-29T00:47:46.184666Z"
    }
   },
   "cell_type": "code",
   "source": "ds_zarr = xr.open_zarr('/Trex/case_results/i.e215.I2000Clm50SpGs.hw_production.02/research_results/zarr/HW', chunks='auto')",
   "id": "18a2b889b8116e96",
   "execution_count": 82,
   "outputs": []
  },
  {
   "metadata": {
    "ExecuteTime": {
     "end_time": "2024-04-29T00:24:05.449395Z",
     "start_time": "2024-04-29T00:24:02.315404Z"
    }
   },
   "cell_type": "code",
   "source": [
    "hw_timeseries_zarr = ds_zarr.HW.sel(lat=lat_coord, lon=lon_coord, method=\"nearest\")\n",
    "# Filter out null (NaN) values\n",
    "hw_timeseries_zarr = hw_timeseries_zarr.dropna(dim='time')\n",
    "print(hw_timeseries_zarr)\n",
    "# Print only the non-null dates\n",
    "print(\"Dates with non-null HW values:\")\n",
    "for date in hw_timeseries_zarr.time.values:\n",
    "    print(date)"
   ],
   "id": "f51172e13ceecd85",
   "execution_count": 70,
   "outputs": []
  },
  {
   "metadata": {
    "ExecuteTime": {
     "end_time": "2024-04-29T00:27:44.082669Z",
     "start_time": "2024-04-29T00:27:43.677935Z"
    }
   },
   "cell_type": "code",
   "source": [
    "ds_month = ds_zarr.sel(time='1987-06')[['TSA_U', 'TSA_R']].compute()  # Select all days for given month and year\n",
    "print(ds_month)"
   ],
   "id": "569850762997c8b5",
   "execution_count": 76,
   "outputs": []
  },
  {
   "metadata": {
    "ExecuteTime": {
     "end_time": "2024-04-29T00:25:04.838304Z",
     "start_time": "2024-04-29T00:25:04.093869Z"
    }
   },
   "cell_type": "code",
   "source": [
    "\n",
    "df_month = ds_month.to_dataframe(['time', 'lat', 'lon'])  # Convert to DataFrame and drop NA values"
   ],
   "id": "8b26603538240a76",
   "execution_count": 72,
   "outputs": []
  },
  {
   "metadata": {
    "ExecuteTime": {
     "end_time": "2024-04-29T00:25:06.965339Z",
     "start_time": "2024-04-29T00:25:06.817111Z"
    }
   },
   "cell_type": "code",
   "source": "df_month.dropna()",
   "id": "ecdf107ee2361651",
   "execution_count": 73,
   "outputs": []
  },
  {
   "metadata": {
    "ExecuteTime": {
     "end_time": "2024-04-29T00:14:49.441671Z",
     "start_time": "2024-04-29T00:14:49.429434Z"
    }
   },
   "cell_type": "code",
   "source": [
    "df_month = df_month.reset_index()\n",
    "df_month"
   ],
   "id": "8f8ab3b0767003d1",
   "execution_count": 51,
   "outputs": []
  },
  {
   "metadata": {},
   "cell_type": "code",
   "execution_count": 42,
   "source": [
    "\n",
    "df_month[(df_month['lat'] == lat_coord) & (df_month['lon'] == lon_coord)]"
   ],
   "id": "8a7aaef4c384e65b",
   "outputs": []
  },
  {
   "metadata": {
    "ExecuteTime": {
     "end_time": "2024-04-29T00:48:15.876469Z",
     "start_time": "2024-04-29T00:48:06.836718Z"
    }
   },
   "cell_type": "code",
   "source": [
    "import xarray as xr\n",
    "import pandas as pd\n",
    "\n",
    "# Load the dataset\n",
    "ds_zarr = xr.open_zarr('/Trex/case_results/i.e215.I2000Clm50SpGs.hw_production.02/research_results/zarr/HW', chunks='auto')\n",
    "\n",
    "# Select HW and TSA_U at the nearest coordinates\n",
    "hw_timeseries_zarr = ds_zarr.HW.sel(lat=lat_coord, lon=lon_coord, method=\"nearest\")\n",
    "tsa_u_timeseries_zarr = ds_zarr.TSA_U.sel(lat=lat_coord, lon=lon_coord, method=\"nearest\")\n",
    "\n",
    "# Filter data for May 1987\n",
    "start_date = '1985-06-01'\n",
    "end_date = '1987-06-30'\n",
    "hw_timeseries_may87 = hw_timeseries_zarr.sel(time=slice(start_date, end_date))\n",
    "tsa_u_timeseries_may87 = tsa_u_timeseries_zarr.sel(time=slice(start_date, end_date))\n",
    "\n",
    "# Drop NaN values for both HW and TSA_U timeseries for May 1987\n",
    "hw_valid_times_may87 = hw_timeseries_may87.dropna(dim='time').time.values\n",
    "tsa_u_valid_times_may87 = tsa_u_timeseries_may87.dropna(dim='time').time.values\n",
    "\n",
    "# Finding intersection of times with valid HW and TSA_U values for May 1987\n",
    "valid_times_may87 = np.intersect1d(hw_valid_times_may87, tsa_u_valid_times_may87)\n",
    "\n",
    "print(\"Dates and values for non-null HW and TSA_U in May 1987:\")\n",
    "for time in valid_times_may87:\n",
    "    hw_value = hw_timeseries_zarr.sel(time=time).values\n",
    "    tsa_u_value = tsa_u_timeseries_zarr.sel(time=time).values\n",
    "    print(f\"Date: {time}, HW: {hw_value}, TSA_U: {tsa_u_value}\")\n"
   ],
   "id": "2ef6abf70c512ee7",
   "execution_count": 83,
   "outputs": []
  },
  {
   "metadata": {
    "ExecuteTime": {
     "end_time": "2024-04-29T00:40:38.811494Z",
     "start_time": "2024-04-29T00:40:38.307376Z"
    }
   },
   "cell_type": "code",
   "source": "ds_zarr.TSA_U.isel(time=0).plot()",
   "id": "78f39cb214910719",
   "execution_count": 79,
   "outputs": []
  },
  {
   "metadata": {},
   "cell_type": "markdown",
   "source": "#  Validate HW data in Parquet files",
   "id": "2bad03bd8895298e"
  },
  {
   "metadata": {
    "ExecuteTime": {
     "end_time": "2024-04-28T23:40:09.451413Z",
     "start_time": "2024-04-28T23:40:09.303880Z"
    }
   },
   "cell_type": "code",
   "source": "df_parquet = pd.read_parquet('/Trex/case_results/i.e215.I2000Clm50SpGs.hw_production.02/research_results/parquet/ALL_HW_1985.parquet', columns=['lat', 'lon', 'time', 'HW'])",
   "id": "b7c50e503a390e94",
   "execution_count": 27,
   "outputs": []
  },
  {
   "metadata": {
    "ExecuteTime": {
     "end_time": "2024-04-28T23:35:16.730146Z",
     "start_time": "2024-04-28T23:35:16.137100Z"
    }
   },
   "cell_type": "code",
   "source": "ds_parquet = xr.Dataset.from_dataframe(df_parquet)",
   "id": "641f1a5b28031dc0",
   "execution_count": 22,
   "outputs": []
  },
  {
   "metadata": {
    "ExecuteTime": {
     "end_time": "2024-04-28T23:35:18.436929Z",
     "start_time": "2024-04-28T23:35:18.425973Z"
    }
   },
   "cell_type": "code",
   "source": [
    "hw_timeseries_parquet = ds_parquet.HW.sel(lat=lat_coord, lon=lon_coord, method=\"nearest\")\n",
    "hw_timeseries_parquet = hw_timeseries_parquet.dropna(dim='time')\n",
    "print(hw_timeseries_parquet)\n",
    "# Print only the non-null dates\n",
    "print(\"Dates with non-null HW values:\")\n",
    "for date in hw_timeseries_parquet.time.values:\n",
    "    print(date)"
   ],
   "id": "8b03c6241e044661",
   "execution_count": 23,
   "outputs": []
  },
  {
   "metadata": {
    "ExecuteTime": {
     "end_time": "2024-04-28T23:40:14.958638Z",
     "start_time": "2024-04-28T23:40:14.900775Z"
    }
   },
   "cell_type": "code",
   "source": [
    "df_parquet =df_parquet.reset_index()\n",
    "df_parquet"
   ],
   "id": "c119dc1602ff996d",
   "execution_count": 28,
   "outputs": []
  },
  {
   "metadata": {
    "ExecuteTime": {
     "end_time": "2024-04-28T23:40:22.102596Z",
     "start_time": "2024-04-28T23:40:22.089831Z"
    }
   },
   "cell_type": "code",
   "source": [
    "\n",
    "filtered_df = df_parquet[(df_parquet['lat'] == lat_coord) & (df_parquet['lon'] == lon_coord)]\n",
    "filtered_df"
   ],
   "id": "2b9dfbe49fe5edec",
   "execution_count": 29,
   "outputs": []
  }
 ],
 "metadata": {
  "kernelspec": {
   "display_name": "Python 3",
   "language": "python",
   "name": "python3"
  },
  "language_info": {
   "codemirror_mode": {
    "name": "ipython",
    "version": 2
   },
   "file_extension": ".py",
   "mimetype": "text/x-python",
   "name": "python",
   "nbconvert_exporter": "python",
   "pygments_lexer": "ipython2",
   "version": "2.7.6"
  }
 },
 "nbformat": 4,
 "nbformat_minor": 5
}
