{
 "cells": [
  {
   "cell_type": "code",
   "execution_count": null,
   "id": "initial_id",
   "metadata": {
    "collapsed": true
   },
   "outputs": [],
   "source": [
    "import xarray as xr\n",
    "import dask\n",
    "import matplotlib.pyplot as plt\n",
    "import matplotlib.dates as mdates\n",
    "import seaborn as sns\n",
    "import glob\n",
    "import pandas as pd\n",
    "import os\n",
    "import cartopy.crs as ccrs\n",
    "import numpy as np\n",
    "import pandas as pd\n",
    "import zarr\n"
   ]
  },
  {
   "cell_type": "markdown",
   "id": "137b1d9a2333fe9",
   "metadata": {
    "collapsed": false
   },
   "source": []
  },
  {
   "cell_type": "markdown",
   "id": "c423bd47ba0963a0",
   "metadata": {
    "collapsed": false
   },
   "source": [
    "#  Find the list of variables\n",
    "##  1.  Get a full list of variables in the hourly data"
   ]
  },
  {
   "cell_type": "code",
   "execution_count": null,
   "id": "7949f2353d2d8e3",
   "metadata": {
    "collapsed": false
   },
   "outputs": [],
   "source": [
    "one_hourly_file = '/tmpdata/i.e215.I2000Clm50SpGs.hw_production.02/i.e215.I2000Clm50SpGs.hw_production.02.clm2.h2.1986-01-01-00000.nc'\n",
    "ds_hourly = xr.open_dataset(one_hourly_file)\n",
    "ds_hourly"
   ]
  },
  {
   "cell_type": "code",
   "execution_count": null,
   "id": "d89a6afba014a6fc",
   "metadata": {
    "collapsed": false
   },
   "outputs": [],
   "source": [
    "ds_hourly_vars = list(ds_hourly.data_vars)\n",
    "ds_hourly_vars"
   ]
  },
  {
   "cell_type": "markdown",
   "id": "ec42c2f748c01da8",
   "metadata": {
    "collapsed": false
   },
   "source": [
    "##  2.  Define the core daily variables for UHI analysis"
   ]
  },
  {
   "cell_type": "code",
   "execution_count": null,
   "id": "84582d09a81b02fc",
   "metadata": {
    "collapsed": false
   },
   "outputs": [],
   "source": [
    "core_vars = ['TSA', 'TSA_R', 'TSA_U', 'WBA', 'WBA_R', 'WBA_U']\n",
    "# find all vars in ds_hourly_vars that has 3 dimension and are not in core_vars\n",
    "\n",
    "other_vars = [var for var in ds_hourly_vars if var not in core_vars]\n",
    "other_vars\n"
   ]
  },
  {
   "cell_type": "code",
   "execution_count": null,
   "id": "5c8005df9d3234d5",
   "metadata": {
    "collapsed": false
   },
   "outputs": [],
   "source": [
    "#3  find variables that are not in core_vars and are 3D\n",
    "other_vars_3D = [var for var in other_vars if len(ds_hourly[var].dims) == 3]\n",
    "ds_hourly[other_vars_3D]"
   ]
  },
  {
   "cell_type": "code",
   "execution_count": null,
   "id": "a85928a4e9c677f3",
   "metadata": {
    "collapsed": false
   },
   "outputs": [],
   "source": [
    "dims = ds_hourly.dims.keys()\n",
    "dims"
   ]
  },
  {
   "cell_type": "code",
   "execution_count": null,
   "id": "59573b934d35746c",
   "metadata": {
    "collapsed": false
   },
   "outputs": [],
   "source": [
    "new_chunksizes = (1080, 90, 90)\n",
    "new_chunksizes_dict = dict(zip(dims, new_chunksizes))\n",
    "new_chunksizes_dict"
   ]
  },
  {
   "cell_type": "code",
   "execution_count": 26,
   "id": "22f7a6926f1ac024",
   "metadata": {
    "ExecuteTime": {
     "end_time": "2024-03-11T03:51:12.901759Z",
     "start_time": "2024-03-11T03:51:12.860121Z"
    },
    "collapsed": false
   },
   "outputs": [],
   "source": [
    "def generate_noleap_date_range(start_date, end_date):\n",
    "    \"\"\"Generate a date range for a 'noleap' calendar.\"\"\"\n",
    "    current_date = start_date\n",
    "    date_list = []\n",
    "    while current_date <= end_date:\n",
    "        date_list.append(current_date)\n",
    "        next_day = current_date + pd.Timedelta(days=1)\n",
    "        if next_day.month == 2 and next_day.day == 29:\n",
    "            next_day += pd.Timedelta(days=1)\n",
    "        current_date = next_day\n",
    "    return date_list\n",
    "\n",
    "netcdf_dir = '/tmpdata/i.e215.I2000Clm50SpGs.hw_production.02/'\n",
    "zarr_path = '/tmpdata/zarr/i.e215.I2000Clm50SpGs.hw_production.02'\n",
    "\n",
    "start_date = pd.to_datetime('1986-01-01')\n",
    "end_date = pd.to_datetime('1986-12-31')\n",
    "date_range = generate_noleap_date_range(start_date, end_date)\n",
    "netcdf_filenames = [\n",
    "    os.path.join(netcdf_dir, f\"i.e215.I2000Clm50SpGs.hw_production.02.clm2.h2.{date.strftime('%Y-%m-%d')}-00000.nc\")\n",
    "    for date in date_range]\n",
    "\n",
    "core_vars = ['TSA', 'TSA_R', 'TSA_U', 'WBA', 'WBA_R', 'WBA_U']\n",
    "# Example to fetch other variables, adjust as per your data\n",
    "one_hourly_file = '/tmpdata/i.e215.I2000Clm50SpGs.hw_production.02/i.e215.I2000Clm50SpGs.hw_production.02.clm2.h2.1986-04-01-00000.nc'\n",
    "ds_hourly = xr.open_dataset(one_hourly_file)\n",
    "other_vars = [var for var in ds_hourly.data_vars if (var not in core_vars and len(ds_hourly[var].dims) == 3)]"
   ]
  },
  {
   "cell_type": "code",
   "execution_count": null,
   "id": "c5117a6590e27a54",
   "metadata": {
    "collapsed": false
   },
   "outputs": [],
   "source": [
    "ds_hourly.chunk({'time': 12, 'lat': 192, 'lon': 288})"
   ]
  },
  {
   "cell_type": "code",
   "execution_count": null,
   "id": "4a81f740368754e6",
   "metadata": {
    "collapsed": false
   },
   "outputs": [],
   "source": [
    "ds_hourly"
   ]
  },
  {
   "cell_type": "code",
   "execution_count": 20,
   "id": "74e6b86969883c08",
   "metadata": {
    "ExecuteTime": {
     "end_time": "2024-03-11T03:48:23.815369Z",
     "start_time": "2024-03-11T03:48:23.807826Z"
    },
    "collapsed": false
   },
   "outputs": [],
   "source": [
    "def set_unwanted_to_nan(ds):\n",
    "    # Condition for JJA in the Northern Hemisphere\n",
    "    condition_jja_nh = (ds['time.season'] == 'JJA') & (ds['lat'] >= 0)\n",
    "\n",
    "    # Condition for DJF in the Southern Hemisphere\n",
    "    condition_djf_sh = (ds['time.season'] == 'DJF') & (ds['lat'] < 0)\n",
    "\n",
    "    # Combine conditions for the desired data, set others to NaN\n",
    "    condition = condition_jja_nh | condition_djf_sh\n",
    "\n",
    "    # Apply condition, keeping structure intact\n",
    "    ds_filtered = ds.where(condition)\n",
    "\n",
    "    return ds_filtered\n"
   ]
  },
  {
   "cell_type": "code",
   "execution_count": 27,
   "id": "6747dc413b5bc24b",
   "metadata": {
    "ExecuteTime": {
     "end_time": "2024-03-11T03:51:18.206613Z",
     "start_time": "2024-03-11T03:51:17.129723Z"
    },
    "collapsed": false
   },
   "outputs": [],
   "source": [
    "ds_hourly_filtered = set_unwanted_to_nan(ds_hourly)\n",
    "ds_hourly_filtered"
   ]
  },
  {
   "cell_type": "code",
   "execution_count": 28,
   "id": "ea1830344d2ca4a6",
   "metadata": {
    "ExecuteTime": {
     "end_time": "2024-03-11T03:51:21.056766Z",
     "start_time": "2024-03-11T03:51:20.693801Z"
    },
    "collapsed": false
   },
   "outputs": [],
   "source": [
    "ds_hourly_filtered['TSA'].isel(time=0).plot()"
   ]
  },
  {
   "cell_type": "code",
   "execution_count": null,
   "id": "9a6bbbf86eabe0f5",
   "metadata": {
    "collapsed": false
   },
   "outputs": [],
   "source": []
  },
  {
   "cell_type": "code",
   "execution_count": null,
   "id": "c0989d6f011de0e4",
   "metadata": {
    "collapsed": false
   },
   "outputs": [],
   "source": [
    "import cftime\n",
    "cftime.DatetimeNoLeap.r"
   ]
  }
 ],
 "metadata": {
  "kernelspec": {
   "display_name": "pipJupyter",
   "language": "python",
   "name": "python3"
  },
  "language_info": {
   "codemirror_mode": {
    "name": "ipython",
    "version": 2
   },
   "file_extension": ".py",
   "mimetype": "text/x-python",
   "name": "python",
   "nbconvert_exporter": "python",
   "pygments_lexer": "ipython2",
   "version": "3.11.11"
  }
 },
 "nbformat": 4,
 "nbformat_minor": 5
}
