{
 "cells": [
  {
   "cell_type": "code",
   "execution_count": 1,
   "metadata": {},
   "outputs": [
    {
     "name": "stdout",
     "output_type": "stream",
     "text": [
      "<class 'pandas.core.frame.DataFrame'>\n",
      "RangeIndex: 6181728 entries, 0 to 6181727\n",
      "Columns: 109 entries, time to hw_nohw_diff_SOILWATER_10CM\n",
      "dtypes: bool(1), datetime64[ns](2), float32(96), float64(3), int32(4), object(3)\n",
      "memory usage: 2.7+ GB\n"
     ]
    }
   ],
   "source": [
    "import pandas as pd\n",
    "import numpy as np\n",
    "import os\n",
    "THRESHOLD: int = 98\n",
    "\n",
    "def replace_cold_with_continental(kg_main_group):\n",
    "    if kg_main_group == 'Cold':\n",
    "        return 'Continental'\n",
    "    return kg_main_group\n",
    "\n",
    "\n",
    "# #  3: Load Local Hour Adjusted Variables\n",
    "\n",
    "summary_dir = '/Trex/case_results/i.e215.I2000Clm50SpGs.hw_production.05/research_results/summary'\n",
    "\n",
    "FIGURE_OUTPUT_DIR = '/home/jguo/research/hw_global/paper_figure_output'\n",
    "\n",
    "# merged_feather_path = os.path.join(summary_dir, 'local_hour_adjusted_variables.feather')\n",
    "merged_feather_path = os.path.join(summary_dir, f'updated_local_hour_adjusted_variables_HW{THRESHOLD}.feather')\n",
    "\n",
    "local_hour_adjusted_df = pd.read_feather(merged_feather_path)\n",
    "local_hour_adjusted_df.info()"
   ]
  },
  {
   "cell_type": "code",
   "execution_count": 2,
   "metadata": {},
   "outputs": [
    {
     "name": "stdout",
     "output_type": "stream",
     "text": [
      "<class 'pandas.core.frame.DataFrame'>\n",
      "RangeIndex: 5 entries, 0 to 4\n",
      "Columns: 109 entries, time to hw_nohw_diff_SOILWATER_10CM\n",
      "dtypes: bool(1), datetime64[ns](2), float32(96), float64(3), int32(4), object(3)\n",
      "memory usage: 2.4+ KB\n"
     ]
    }
   ],
   "source": [
    "df_head = local_hour_adjusted_df.head()\n",
    "df_head.info()"
   ]
  },
  {
   "cell_type": "code",
   "execution_count": 25,
   "metadata": {},
   "outputs": [],
   "source": [
    "#group by location_ID, lon, lat and get the first row show  KGMajorClass\n",
    "df_loc_kg =local_hour_adjusted_df.groupby(['location_ID','lat', 'lon']).first()['KGMajorClass'].reset_index()   \n"
   ]
  },
  {
   "cell_type": "code",
   "execution_count": null,
   "metadata": {},
   "outputs": [],
   "source": [
    "df_loc_kg.head()"
   ]
  },
  {
   "cell_type": "code",
   "execution_count": 2,
   "metadata": {},
   "outputs": [
    {
     "data": {
      "text/html": [
       "<div>\n",
       "<style scoped>\n",
       "    .dataframe tbody tr th:only-of-type {\n",
       "        vertical-align: middle;\n",
       "    }\n",
       "\n",
       "    .dataframe tbody tr th {\n",
       "        vertical-align: top;\n",
       "    }\n",
       "\n",
       "    .dataframe thead th {\n",
       "        text-align: right;\n",
       "    }\n",
       "</style>\n",
       "<table border=\"1\" class=\"dataframe\">\n",
       "  <thead>\n",
       "    <tr style=\"text-align: right;\">\n",
       "      <th></th>\n",
       "      <th>time</th>\n",
       "      <th>lat</th>\n",
       "      <th>lon</th>\n",
       "      <th>APPAR_TEMP</th>\n",
       "      <th>APPAR_TEMP_R</th>\n",
       "      <th>APPAR_TEMP_U</th>\n",
       "      <th>EFLX_LH_TOT</th>\n",
       "      <th>EFLX_LH_TOT_R</th>\n",
       "      <th>EFLX_LH_TOT_U</th>\n",
       "      <th>FGR</th>\n",
       "      <th>...</th>\n",
       "      <th>hw_nohw_diff_VAPOR_PRES</th>\n",
       "      <th>hw_nohw_diff_VAPOR_PRES_R</th>\n",
       "      <th>hw_nohw_diff_VAPOR_PRES_U</th>\n",
       "      <th>hw_nohw_diff_WASTEHEAT</th>\n",
       "      <th>hw_nohw_diff_WBA</th>\n",
       "      <th>hw_nohw_diff_WBA_R</th>\n",
       "      <th>hw_nohw_diff_WBA_U</th>\n",
       "      <th>hw_nohw_diff_WIND</th>\n",
       "      <th>hw_nohw_diff_Qstor</th>\n",
       "      <th>hw_nohw_diff_SOILWATER_10CM</th>\n",
       "    </tr>\n",
       "  </thead>\n",
       "  <tbody>\n",
       "    <tr>\n",
       "      <th>264</th>\n",
       "      <td>1985-01-03 00:00:00</td>\n",
       "      <td>-45.706806</td>\n",
       "      <td>171.25</td>\n",
       "      <td>23.390411</td>\n",
       "      <td>23.394545</td>\n",
       "      <td>21.651300</td>\n",
       "      <td>204.505585</td>\n",
       "      <td>204.779617</td>\n",
       "      <td>89.210823</td>\n",
       "      <td>112.153236</td>\n",
       "      <td>...</td>\n",
       "      <td>362.310913</td>\n",
       "      <td>362.141602</td>\n",
       "      <td>433.636353</td>\n",
       "      <td>0.0</td>\n",
       "      <td>4.456452</td>\n",
       "      <td>4.457539</td>\n",
       "      <td>3.999390</td>\n",
       "      <td>-2.037997</td>\n",
       "      <td>23.156364</td>\n",
       "      <td>-0.291634</td>\n",
       "    </tr>\n",
       "    <tr>\n",
       "      <th>278</th>\n",
       "      <td>1985-01-03 01:00:00</td>\n",
       "      <td>-45.706806</td>\n",
       "      <td>171.25</td>\n",
       "      <td>22.877327</td>\n",
       "      <td>22.879993</td>\n",
       "      <td>21.755310</td>\n",
       "      <td>208.699631</td>\n",
       "      <td>208.934601</td>\n",
       "      <td>109.841888</td>\n",
       "      <td>99.971420</td>\n",
       "      <td>...</td>\n",
       "      <td>327.404541</td>\n",
       "      <td>327.329468</td>\n",
       "      <td>358.968384</td>\n",
       "      <td>0.0</td>\n",
       "      <td>4.177275</td>\n",
       "      <td>4.178172</td>\n",
       "      <td>3.800493</td>\n",
       "      <td>-1.336444</td>\n",
       "      <td>5.346214</td>\n",
       "      <td>-0.311771</td>\n",
       "    </tr>\n",
       "    <tr>\n",
       "      <th>292</th>\n",
       "      <td>1985-01-03 02:00:00</td>\n",
       "      <td>-45.706806</td>\n",
       "      <td>171.25</td>\n",
       "      <td>22.300686</td>\n",
       "      <td>22.302912</td>\n",
       "      <td>21.364279</td>\n",
       "      <td>205.660156</td>\n",
       "      <td>205.872650</td>\n",
       "      <td>116.262283</td>\n",
       "      <td>82.801186</td>\n",
       "      <td>...</td>\n",
       "      <td>295.673096</td>\n",
       "      <td>295.714355</td>\n",
       "      <td>278.319580</td>\n",
       "      <td>0.0</td>\n",
       "      <td>3.892941</td>\n",
       "      <td>3.894141</td>\n",
       "      <td>3.387270</td>\n",
       "      <td>-0.634891</td>\n",
       "      <td>-7.464249</td>\n",
       "      <td>-0.336754</td>\n",
       "    </tr>\n",
       "    <tr>\n",
       "      <th>306</th>\n",
       "      <td>1985-01-03 03:00:00</td>\n",
       "      <td>-45.706806</td>\n",
       "      <td>171.25</td>\n",
       "      <td>21.669033</td>\n",
       "      <td>21.670864</td>\n",
       "      <td>20.898022</td>\n",
       "      <td>202.824432</td>\n",
       "      <td>203.029831</td>\n",
       "      <td>116.408546</td>\n",
       "      <td>68.194717</td>\n",
       "      <td>...</td>\n",
       "      <td>243.560913</td>\n",
       "      <td>243.613037</td>\n",
       "      <td>221.650269</td>\n",
       "      <td>0.0</td>\n",
       "      <td>3.625449</td>\n",
       "      <td>3.626622</td>\n",
       "      <td>3.132274</td>\n",
       "      <td>-0.459503</td>\n",
       "      <td>0.775040</td>\n",
       "      <td>-0.367092</td>\n",
       "    </tr>\n",
       "    <tr>\n",
       "      <th>320</th>\n",
       "      <td>1985-01-03 04:00:00</td>\n",
       "      <td>-45.706806</td>\n",
       "      <td>171.25</td>\n",
       "      <td>21.000212</td>\n",
       "      <td>21.001818</td>\n",
       "      <td>20.324533</td>\n",
       "      <td>197.047501</td>\n",
       "      <td>197.247971</td>\n",
       "      <td>112.706985</td>\n",
       "      <td>53.628448</td>\n",
       "      <td>...</td>\n",
       "      <td>184.107300</td>\n",
       "      <td>184.155396</td>\n",
       "      <td>163.814453</td>\n",
       "      <td>0.0</td>\n",
       "      <td>3.369551</td>\n",
       "      <td>3.370732</td>\n",
       "      <td>2.872908</td>\n",
       "      <td>-0.459503</td>\n",
       "      <td>16.291656</td>\n",
       "      <td>-0.414169</td>\n",
       "    </tr>\n",
       "    <tr>\n",
       "      <th>...</th>\n",
       "      <td>...</td>\n",
       "      <td>...</td>\n",
       "      <td>...</td>\n",
       "      <td>...</td>\n",
       "      <td>...</td>\n",
       "      <td>...</td>\n",
       "      <td>...</td>\n",
       "      <td>...</td>\n",
       "      <td>...</td>\n",
       "      <td>...</td>\n",
       "      <td>...</td>\n",
       "      <td>...</td>\n",
       "      <td>...</td>\n",
       "      <td>...</td>\n",
       "      <td>...</td>\n",
       "      <td>...</td>\n",
       "      <td>...</td>\n",
       "      <td>...</td>\n",
       "      <td>...</td>\n",
       "      <td>...</td>\n",
       "      <td>...</td>\n",
       "    </tr>\n",
       "    <tr>\n",
       "      <th>6181611</th>\n",
       "      <td>2013-12-31 19:00:00</td>\n",
       "      <td>-9.895288</td>\n",
       "      <td>121.25</td>\n",
       "      <td>32.469646</td>\n",
       "      <td>32.469200</td>\n",
       "      <td>32.880253</td>\n",
       "      <td>20.914528</td>\n",
       "      <td>20.922876</td>\n",
       "      <td>13.212928</td>\n",
       "      <td>-42.429661</td>\n",
       "      <td>...</td>\n",
       "      <td>93.525879</td>\n",
       "      <td>93.537109</td>\n",
       "      <td>83.193848</td>\n",
       "      <td>0.0</td>\n",
       "      <td>0.405369</td>\n",
       "      <td>0.405409</td>\n",
       "      <td>0.366756</td>\n",
       "      <td>-0.651675</td>\n",
       "      <td>-4.419926</td>\n",
       "      <td>8.078863</td>\n",
       "    </tr>\n",
       "    <tr>\n",
       "      <th>6181640</th>\n",
       "      <td>2013-12-31 20:00:00</td>\n",
       "      <td>-9.895288</td>\n",
       "      <td>121.25</td>\n",
       "      <td>32.326187</td>\n",
       "      <td>32.325661</td>\n",
       "      <td>32.813431</td>\n",
       "      <td>20.051851</td>\n",
       "      <td>20.063259</td>\n",
       "      <td>9.527349</td>\n",
       "      <td>-42.166801</td>\n",
       "      <td>...</td>\n",
       "      <td>104.426514</td>\n",
       "      <td>104.438477</td>\n",
       "      <td>93.539062</td>\n",
       "      <td>0.0</td>\n",
       "      <td>0.406076</td>\n",
       "      <td>0.406097</td>\n",
       "      <td>0.388416</td>\n",
       "      <td>-0.639471</td>\n",
       "      <td>-5.839317</td>\n",
       "      <td>7.935873</td>\n",
       "    </tr>\n",
       "    <tr>\n",
       "      <th>6181669</th>\n",
       "      <td>2013-12-31 21:00:00</td>\n",
       "      <td>-9.895288</td>\n",
       "      <td>121.25</td>\n",
       "      <td>29.794952</td>\n",
       "      <td>29.794069</td>\n",
       "      <td>30.609505</td>\n",
       "      <td>42.925243</td>\n",
       "      <td>42.881519</td>\n",
       "      <td>83.261940</td>\n",
       "      <td>-52.301266</td>\n",
       "      <td>...</td>\n",
       "      <td>-580.838135</td>\n",
       "      <td>-580.881592</td>\n",
       "      <td>-540.736572</td>\n",
       "      <td>0.0</td>\n",
       "      <td>-2.413317</td>\n",
       "      <td>-2.413576</td>\n",
       "      <td>-2.173330</td>\n",
       "      <td>-0.702148</td>\n",
       "      <td>-17.687233</td>\n",
       "      <td>7.795370</td>\n",
       "    </tr>\n",
       "    <tr>\n",
       "      <th>6181698</th>\n",
       "      <td>2013-12-31 22:00:00</td>\n",
       "      <td>-9.895288</td>\n",
       "      <td>121.25</td>\n",
       "      <td>26.366024</td>\n",
       "      <td>26.364962</td>\n",
       "      <td>27.345345</td>\n",
       "      <td>73.150398</td>\n",
       "      <td>73.051315</td>\n",
       "      <td>164.556732</td>\n",
       "      <td>-65.070091</td>\n",
       "      <td>...</td>\n",
       "      <td>-1504.004395</td>\n",
       "      <td>-1504.132690</td>\n",
       "      <td>-1385.598755</td>\n",
       "      <td>0.0</td>\n",
       "      <td>-6.860239</td>\n",
       "      <td>-6.860893</td>\n",
       "      <td>-6.256300</td>\n",
       "      <td>-0.789786</td>\n",
       "      <td>-31.818230</td>\n",
       "      <td>7.637045</td>\n",
       "    </tr>\n",
       "    <tr>\n",
       "      <th>6181727</th>\n",
       "      <td>2013-12-31 23:00:00</td>\n",
       "      <td>-9.895288</td>\n",
       "      <td>121.25</td>\n",
       "      <td>23.383989</td>\n",
       "      <td>23.383038</td>\n",
       "      <td>24.262756</td>\n",
       "      <td>139.066498</td>\n",
       "      <td>138.978302</td>\n",
       "      <td>220.424423</td>\n",
       "      <td>-60.961002</td>\n",
       "      <td>...</td>\n",
       "      <td>-2344.463379</td>\n",
       "      <td>-2344.732178</td>\n",
       "      <td>-2096.555176</td>\n",
       "      <td>0.0</td>\n",
       "      <td>-11.849406</td>\n",
       "      <td>-11.850827</td>\n",
       "      <td>-10.537714</td>\n",
       "      <td>-0.877424</td>\n",
       "      <td>-41.985878</td>\n",
       "      <td>7.469902</td>\n",
       "    </tr>\n",
       "  </tbody>\n",
       "</table>\n",
       "<p>393120 rows × 109 columns</p>\n",
       "</div>"
      ],
      "text/plain": [
       "                       time        lat     lon  APPAR_TEMP  APPAR_TEMP_R  \\\n",
       "264     1985-01-03 00:00:00 -45.706806  171.25   23.390411     23.394545   \n",
       "278     1985-01-03 01:00:00 -45.706806  171.25   22.877327     22.879993   \n",
       "292     1985-01-03 02:00:00 -45.706806  171.25   22.300686     22.302912   \n",
       "306     1985-01-03 03:00:00 -45.706806  171.25   21.669033     21.670864   \n",
       "320     1985-01-03 04:00:00 -45.706806  171.25   21.000212     21.001818   \n",
       "...                     ...        ...     ...         ...           ...   \n",
       "6181611 2013-12-31 19:00:00  -9.895288  121.25   32.469646     32.469200   \n",
       "6181640 2013-12-31 20:00:00  -9.895288  121.25   32.326187     32.325661   \n",
       "6181669 2013-12-31 21:00:00  -9.895288  121.25   29.794952     29.794069   \n",
       "6181698 2013-12-31 22:00:00  -9.895288  121.25   26.366024     26.364962   \n",
       "6181727 2013-12-31 23:00:00  -9.895288  121.25   23.383989     23.383038   \n",
       "\n",
       "         APPAR_TEMP_U  EFLX_LH_TOT  EFLX_LH_TOT_R  EFLX_LH_TOT_U         FGR  \\\n",
       "264         21.651300   204.505585     204.779617      89.210823  112.153236   \n",
       "278         21.755310   208.699631     208.934601     109.841888   99.971420   \n",
       "292         21.364279   205.660156     205.872650     116.262283   82.801186   \n",
       "306         20.898022   202.824432     203.029831     116.408546   68.194717   \n",
       "320         20.324533   197.047501     197.247971     112.706985   53.628448   \n",
       "...               ...          ...            ...            ...         ...   \n",
       "6181611     32.880253    20.914528      20.922876      13.212928  -42.429661   \n",
       "6181640     32.813431    20.051851      20.063259       9.527349  -42.166801   \n",
       "6181669     30.609505    42.925243      42.881519      83.261940  -52.301266   \n",
       "6181698     27.345345    73.150398      73.051315     164.556732  -65.070091   \n",
       "6181727     24.262756   139.066498     138.978302     220.424423  -60.961002   \n",
       "\n",
       "         ...  hw_nohw_diff_VAPOR_PRES  hw_nohw_diff_VAPOR_PRES_R  \\\n",
       "264      ...               362.310913                 362.141602   \n",
       "278      ...               327.404541                 327.329468   \n",
       "292      ...               295.673096                 295.714355   \n",
       "306      ...               243.560913                 243.613037   \n",
       "320      ...               184.107300                 184.155396   \n",
       "...      ...                      ...                        ...   \n",
       "6181611  ...                93.525879                  93.537109   \n",
       "6181640  ...               104.426514                 104.438477   \n",
       "6181669  ...              -580.838135                -580.881592   \n",
       "6181698  ...             -1504.004395               -1504.132690   \n",
       "6181727  ...             -2344.463379               -2344.732178   \n",
       "\n",
       "         hw_nohw_diff_VAPOR_PRES_U  hw_nohw_diff_WASTEHEAT  hw_nohw_diff_WBA  \\\n",
       "264                     433.636353                     0.0          4.456452   \n",
       "278                     358.968384                     0.0          4.177275   \n",
       "292                     278.319580                     0.0          3.892941   \n",
       "306                     221.650269                     0.0          3.625449   \n",
       "320                     163.814453                     0.0          3.369551   \n",
       "...                            ...                     ...               ...   \n",
       "6181611                  83.193848                     0.0          0.405369   \n",
       "6181640                  93.539062                     0.0          0.406076   \n",
       "6181669                -540.736572                     0.0         -2.413317   \n",
       "6181698               -1385.598755                     0.0         -6.860239   \n",
       "6181727               -2096.555176                     0.0        -11.849406   \n",
       "\n",
       "         hw_nohw_diff_WBA_R  hw_nohw_diff_WBA_U  hw_nohw_diff_WIND  \\\n",
       "264                4.457539            3.999390          -2.037997   \n",
       "278                4.178172            3.800493          -1.336444   \n",
       "292                3.894141            3.387270          -0.634891   \n",
       "306                3.626622            3.132274          -0.459503   \n",
       "320                3.370732            2.872908          -0.459503   \n",
       "...                     ...                 ...                ...   \n",
       "6181611            0.405409            0.366756          -0.651675   \n",
       "6181640            0.406097            0.388416          -0.639471   \n",
       "6181669           -2.413576           -2.173330          -0.702148   \n",
       "6181698           -6.860893           -6.256300          -0.789786   \n",
       "6181727          -11.850827          -10.537714          -0.877424   \n",
       "\n",
       "         hw_nohw_diff_Qstor  hw_nohw_diff_SOILWATER_10CM  \n",
       "264               23.156364                    -0.291634  \n",
       "278                5.346214                    -0.311771  \n",
       "292               -7.464249                    -0.336754  \n",
       "306                0.775040                    -0.367092  \n",
       "320               16.291656                    -0.414169  \n",
       "...                     ...                          ...  \n",
       "6181611           -4.419926                     8.078863  \n",
       "6181640           -5.839317                     7.935873  \n",
       "6181669          -17.687233                     7.795370  \n",
       "6181698          -31.818230                     7.637045  \n",
       "6181727          -41.985878                     7.469902  \n",
       "\n",
       "[393120 rows x 109 columns]"
      ]
     },
     "execution_count": 2,
     "metadata": {},
     "output_type": "execute_result"
    }
   ],
   "source": [
    "#print all rows that has KGMajorClass that is empty\n",
    "local_hour_adjusted_df[local_hour_adjusted_df['KGMajorClass'].isna()]\n"
   ]
  },
  {
   "cell_type": "code",
   "execution_count": 3,
   "metadata": {},
   "outputs": [
    {
     "data": {
      "text/plain": [
       "0.06359386889879334"
      ]
     },
     "execution_count": 3,
     "metadata": {},
     "output_type": "execute_result"
    }
   ],
   "source": [
    "#pct of rows that has KGMajorClass that is empty\n",
    "local_hour_adjusted_df[local_hour_adjusted_df['KGMajorClass'].isna()].shape[0] / local_hour_adjusted_df.shape[0]\n",
    "\n",
    "\n",
    "\n"
   ]
  },
  {
   "cell_type": "code",
   "execution_count": 4,
   "metadata": {},
   "outputs": [
    {
     "data": {
      "text/plain": [
       "236"
      ]
     },
     "execution_count": 4,
     "metadata": {},
     "output_type": "execute_result"
    }
   ],
   "source": [
    "\n",
    "\n",
    "# distinct number of locations that has KGMajorClass that is empty\n",
    "local_hour_adjusted_df[local_hour_adjusted_df['KGMajorClass'].isna()]['location_ID'].nunique()\n",
    "\n"
   ]
  },
  {
   "cell_type": "code",
   "execution_count": 5,
   "metadata": {},
   "outputs": [
    {
     "data": {
      "text/plain": [
       "location_ID\n",
       "12618.0     408\n",
       "13673.0    1608\n",
       "15093.0     864\n",
       "15406.0    1728\n",
       "15781.0    2256\n",
       "           ... \n",
       "45503.0    2856\n",
       "45519.0    2832\n",
       "46961.0    1992\n",
       "47251.0    2232\n",
       "47539.0    1824\n",
       "Length: 236, dtype: int64"
      ]
     },
     "execution_count": 5,
     "metadata": {},
     "output_type": "execute_result"
    }
   ],
   "source": [
    "# number of rows missing KGMajorClass for each location\n",
    "local_hour_adjusted_df[local_hour_adjusted_df['KGMajorClass'].isna()].groupby('location_ID').size()\n",
    "\n",
    "\n"
   ]
  },
  {
   "cell_type": "code",
   "execution_count": 7,
   "metadata": {},
   "outputs": [
    {
     "data": {
      "text/plain": [
       "1610378    None\n",
       "1610401    None\n",
       "1610424    None\n",
       "1610447    None\n",
       "1610470    None\n",
       "           ... \n",
       "5477178    None\n",
       "5477184    None\n",
       "5477190    None\n",
       "5477196    None\n",
       "5477202    None\n",
       "Name: KGMajorClass, Length: 408, dtype: object"
      ]
     },
     "execution_count": 7,
     "metadata": {},
     "output_type": "execute_result"
    }
   ],
   "source": [
    "#show data with location_id is 12618\n",
    "local_hour_adjusted_df[local_hour_adjusted_df['location_ID'] == 12618][\"KGMajorClass\"]\n",
    "\n"
   ]
  },
  {
   "cell_type": "code",
   "execution_count": 8,
   "metadata": {},
   "outputs": [],
   "source": [
    "twokg_feather_path = os.path.join(summary_dir, f'twoKG_local_hour_adjusted_variables_HW98.feather')\n",
    "\n",
    "twokg_df = pd.read_feather(twokg_feather_path)\n",
    "# compare KGMainGroup and KGMajorClass show it location_id and lat and lon and KGMainGroup and KGMajorClass group by location_id    \n",
    "twokg_df[twokg_df['KGMainGroup'] != twokg_df['KGMajorClass']].groupby('location_ID')[['lat', 'lon', 'KGMainGroup', 'KGMajorClass']].first()"
   ]
  },
  {
   "cell_type": "code",
   "execution_count": 12,
   "metadata": {},
   "outputs": [
    {
     "data": {
      "text/plain": [
       "time                           datetime64[ns]\n",
       "lat                                   float32\n",
       "lon                                   float32\n",
       "APPAR_TEMP                            float32\n",
       "APPAR_TEMP_R                          float32\n",
       "                                    ...      \n",
       "hw_nohw_diff_SOILWATER_10CM           float32\n",
       "KG_ID                                 float32\n",
       "KGMainGroup                            object\n",
       "KGMainGroup_Major                      object\n",
       "Major_Main_Match                         bool\n",
       "Length: 113, dtype: object"
      ]
     },
     "execution_count": 12,
     "metadata": {},
     "output_type": "execute_result"
    }
   ],
   "source": [
    "#list all col name and types without    \n",
    "twokg_df.dtypes \n"
   ]
  },
  {
   "cell_type": "code",
   "execution_count": 22,
   "metadata": {},
   "outputs": [],
   "source": [
    "# compare KGMainGroup and KGMajorClass show it location_id and lat and lon and KGMainGroup and KGMajorClass group by location_id    \n",
    "cmp_df = twokg_df[twokg_df['KGMainGroup'] != twokg_df['KGMajorClass']].groupby('location_ID')[['lat', 'lon', 'KGMainGroup', 'KGMajorClass']].first()\n",
    "\n",
    "\n",
    "\n"
   ]
  },
  {
   "cell_type": "code",
   "execution_count": null,
   "metadata": {},
   "outputs": [],
   "source": [
    "cmp_df"
   ]
  },
  {
   "cell_type": "code",
   "execution_count": 15,
   "metadata": {},
   "outputs": [
    {
     "data": {
      "text/plain": [
       "0.26278089233301755"
      ]
     },
     "execution_count": 15,
     "metadata": {},
     "output_type": "execute_result"
    }
   ],
   "source": [
    "#pct of rows that has KGMajorClass that is different from KGMainGroup\n",
    "twokg_df[twokg_df['KGMainGroup'] != twokg_df['KGMajorClass']].shape[0] / twokg_df.shape[0]\n",
    "\n",
    "\n",
    "\n",
    "\n"
   ]
  },
  {
   "cell_type": "code",
   "execution_count": 20,
   "metadata": {},
   "outputs": [
    {
     "data": {
      "text/plain": [
       "(0.0, 358.75)"
      ]
     },
     "execution_count": 20,
     "metadata": {},
     "output_type": "execute_result"
    }
   ],
   "source": [
    "# find the min and max of lon and lat\n",
    "local_hour_adjusted_df['lon'].min(), local_hour_adjusted_df['lon'].max()\n"
   ]
  },
  {
   "cell_type": "code",
   "execution_count": 21,
   "metadata": {},
   "outputs": [
    {
     "data": {
      "text/plain": [
       "(-55.130889892578125, 70.20942687988281)"
      ]
     },
     "execution_count": 21,
     "metadata": {},
     "output_type": "execute_result"
    }
   ],
   "source": [
    "local_hour_adjusted_df['lat'].min(), local_hour_adjusted_df['lat'].max()    \n"
   ]
  }
 ],
 "metadata": {
  "kernelspec": {
   "display_name": "pipJupyter",
   "language": "python",
   "name": "python3"
  },
  "language_info": {
   "codemirror_mode": {
    "name": "ipython",
    "version": 3
   },
   "file_extension": ".py",
   "mimetype": "text/x-python",
   "name": "python",
   "nbconvert_exporter": "python",
   "pygments_lexer": "ipython3",
   "version": "3.11.11"
  }
 },
 "nbformat": 4,
 "nbformat_minor": 2
}
