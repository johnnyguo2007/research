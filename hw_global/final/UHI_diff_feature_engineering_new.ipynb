{
 "cells": [
  {
   "cell_type": "code",
   "execution_count": null,
   "id": "initial_id",
   "metadata": {
    "collapsed": true
   },
   "outputs": [],
   "source": [
    "import pandas as pd\n",
    "import numpy as np\n",
    "import xarray as xr\n",
    "import os\n",
    "import netCDF4\n",
    "from sklearn.ensemble import RandomForestRegressor\n",
    "from sklearn.feature_selection import SelectFromModel\n",
    "from sklearn.model_selection import train_test_split\n",
    "import catboost\n",
    "from catboost import CatBoostRegressor, Pool, EShapCalcType, EFeaturesSelectionAlgorithm\n",
    "import numpy as np\n",
    "from sklearn.model_selection import train_test_split\n",
    "from sklearn.metrics import mean_squared_error\n"
   ]
  },
  {
   "cell_type": "markdown",
   "id": "b573455dce7cc849",
   "metadata": {},
   "source": [
    "#  Data Loading"
   ]
  },
  {
   "cell_type": "code",
   "execution_count": null,
   "id": "693f121a0b27e778",
   "metadata": {},
   "outputs": [],
   "source": [
    "summary_dir = '/Trex/test_case_results/i.e215.I2000Clm50SpGs.hw_production.02/research_results/summary'\n",
    "# summary_dir = '/Users/yguo/DataSpellProjects/hw/uhi'\n",
    "\n",
    "\n",
    "# merged_feather_path = os.path.join(summary_dir, 'local_hour_adjusted_variables.feather')\n",
    "merged_feather_path = os.path.join(summary_dir, 'local_hour_adjusted_variables_with_location_ID_event_ID.feather')\n",
    "\n",
    "local_hour_adjusted_df = pd.read_feather(merged_feather_path)\n",
    "local_hour_adjusted_df.info()"
   ]
  },
  {
   "cell_type": "code",
   "execution_count": null,
   "id": "cf27315b03813773",
   "metadata": {},
   "outputs": [],
   "source": [
    "location_ID_path = os.path.join(summary_dir, 'location_IDs.nc')\n",
    "location_ID_ds = xr.open_dataset(location_ID_path, engine='netcdf4')"
   ]
  },
  {
   "cell_type": "code",
   "execution_count": null,
   "id": "b2989f9cf9584da3",
   "metadata": {},
   "outputs": [],
   "source": [
    "location_ID_ds"
   ]
  },
  {
   "cell_type": "markdown",
   "id": "8e64ed02b6110aab",
   "metadata": {},
   "source": [
    "## Feature list loading"
   ]
  },
  {
   "cell_type": "code",
   "execution_count": null,
   "id": "6f232ea1104df706",
   "metadata": {},
   "outputs": [],
   "source": [
    "df_daily_vars = pd.read_excel('../Data/hourlyDataSchema.xlsx')\n",
    "daily_vars =df_daily_vars.loc[df_daily_vars['X_vars2'] == 'Y', 'Variable']\n",
    "daily_var_lst = daily_vars.tolist()\n",
    "daily_var_lst"
   ]
  },
  {
   "cell_type": "code",
   "execution_count": null,
   "id": "3baba68ba8f01fbd",
   "metadata": {},
   "outputs": [],
   "source": [
    "df_daily_vars.info()"
   ]
  },
  {
   "cell_type": "code",
   "execution_count": null,
   "id": "540e735e48a60718",
   "metadata": {},
   "outputs": [],
   "source": [
    "def add_long_name(input_df, join_column='Feature', df_daily_vars=df_daily_vars):\n",
    "    # Perform a left join on the input dataframe using the specified join column\n",
    "    # This will add all columns from df_daily_vars to input_df where the join_column matches the 'Variable' in df_daily_vars\n",
    "    merged_df = pd.merge(input_df, df_daily_vars[['Variable', 'Long Name']], left_on=join_column, right_on='Variable', how='left')\n",
    "\n",
    "    # Since the 'Variable' column from df_daily_vars will be redundant, we can drop it\n",
    "    merged_df.drop(columns=['Variable'], inplace=True)\n",
    "\n",
    "    # Return the modified DataFrame\n",
    "    return merged_df\n"
   ]
  },
  {
   "cell_type": "markdown",
   "id": "6acfcf8e19c236b9",
   "metadata": {},
   "source": [
    "##  Day Night mask"
   ]
  },
  {
   "cell_type": "code",
   "execution_count": null,
   "id": "56fffe14d680c7d2",
   "metadata": {},
   "outputs": [],
   "source": [
    "# Step 1: Define masks for daytime and nighttime\n",
    "daytime_mask = local_hour_adjusted_df['local_hour'].between(8, 16)\n",
    "nighttime_mask = (local_hour_adjusted_df['local_hour'].between(20, 24) |\n",
    "                  local_hour_adjusted_df['local_hour'].between(0, 4))\n"
   ]
  },
  {
   "cell_type": "code",
   "execution_count": null,
   "id": "2751a2b7f57983e9",
   "metadata": {},
   "outputs": [],
   "source": [
    "daytime_uhi_diff = local_hour_adjusted_df[daytime_mask]\n",
    "X_day = daytime_uhi_diff[daily_var_lst]\n",
    "y_day = daytime_uhi_diff['UHI_diff']\n",
    "X_day.info()\n",
    "y_day.info()"
   ]
  },
  {
   "cell_type": "code",
   "execution_count": null,
   "id": "e37ad43d0f538a1a",
   "metadata": {},
   "outputs": [],
   "source": [
    "nighttime_uhi_diff = local_hour_adjusted_df[nighttime_mask]\n",
    "X_night = nighttime_uhi_diff[daily_var_lst]\n",
    "y_night = nighttime_uhi_diff['UHI_diff']\n",
    "\n",
    "X_night.info()\n",
    "y_night.info()"
   ]
  },
  {
   "cell_type": "markdown",
   "id": "2098559e2f0f86ce",
   "metadata": {},
   "source": [
    "#  feature selection"
   ]
  },
  {
   "cell_type": "code",
   "execution_count": null,
   "id": "6c358fee34f7de49",
   "metadata": {},
   "outputs": [],
   "source": [
    "# import catboost\n",
    "# from catboost import CatBoostRegressor, Pool, EShapCalcType, EFeaturesSelectionAlgorithm\n",
    "# import numpy as np\n",
    "# from sklearn.model_selection import train_test_split\n",
    "# from sklearn.metrics import mean_squared_error\n",
    "# \n",
    "# # Split your data into training and validation sets\n",
    "# X_train, X_val, y_train, y_val = train_test_split(X, y, test_size=0.2, random_state=42)\n",
    "# \n",
    "# train_pool = Pool(X_train, y_train)\n",
    "# validation_pool = Pool(X_val, y_val)"
   ]
  },
  {
   "cell_type": "markdown",
   "id": "b8dd3237b02c4cc7",
   "metadata": {},
   "source": [
    "#  Running the feature selection algorithm"
   ]
  },
  {
   "cell_type": "markdown",
   "id": "1245869bffc253ae",
   "metadata": {},
   "source": [
    "#   SHAP waterfall plot"
   ]
  },
  {
   "cell_type": "markdown",
   "id": "130526746b93ad39",
   "metadata": {},
   "source": [
    "#  Functions to create model and graph"
   ]
  },
  {
   "cell_type": "code",
   "execution_count": null,
   "id": "64f3c01a9306fa8b",
   "metadata": {},
   "outputs": [],
   "source": [
    "import numpy as np\n",
    "import pandas as pd\n",
    "from sklearn.model_selection import train_test_split\n",
    "from sklearn.metrics import mean_squared_error\n",
    "from catboost import CatBoostRegressor, Pool\n",
    "import shap\n",
    "\n",
    "def train_and_evaluate(time_uhi_diff, df_daily_vars):\n",
    "    daily_vars =df_daily_vars.loc[df_daily_vars['X_vars2'] == 'Y', 'Variable']\n",
    "    daily_var_lst = daily_vars.tolist()\n",
    "    # Select features and target\n",
    "    X = time_uhi_diff[daily_var_lst]\n",
    "    y = time_uhi_diff['UHI_diff']\n",
    "\n",
    "    # Split the data into training and validation sets\n",
    "    X_train, X_val, y_train, y_val = train_test_split(X, y, test_size=0.2, random_state=42)\n",
    "    train_pool = Pool(X_train, y_train)\n",
    "    validation_pool = Pool(X_val, y_val)\n",
    "\n",
    "    # Train the final model with all columns on selected features after feature selection\n",
    "    model = CatBoostRegressor(\n",
    "        iterations=3000,\n",
    "        learning_rate=0.03,\n",
    "        depth=6,\n",
    "        loss_function='RMSE',\n",
    "        eval_metric='RMSE',\n",
    "        random_seed=42,\n",
    "        task_type='GPU',\n",
    "        early_stopping_rounds=100,\n",
    "        verbose=False\n",
    "    )\n",
    "    model.fit(X_train, y_train, eval_set=(X_val, y_val),\n",
    "                       use_best_model=True, early_stopping_rounds=50, \n",
    "                       plot=True, \n",
    "                       verbose=False)\n",
    "    return model\n",
    "\n",
    "def importance_plot(model, validation_pool, df_daily_vars):\n",
    "    # Get long_feature_names\n",
    "    feature_names = validation_pool.get_feature_names()\n",
    "    feature_name_mapping = pd.Series(df_daily_vars['Long Name'].values, index=df_daily_vars['Variable']).to_dict()\n",
    "    long_feature_names = [feature_name_mapping.get(name, \"Unknown Feature\") for name in feature_names]\n",
    "    # Calculate SHAP values    \n",
    "    explainer = shap.TreeExplainer(model, feature_names=long_feature_names)\n",
    "    shap_values = explainer.shap_values(validation_pool)\n",
    "    mean_abs_shap_values = np.abs(shap_values).mean(axis=0)\n",
    "    # Normalize the SHAP values so that they sum to one\n",
    "    total = mean_abs_shap_values.sum()\n",
    "    normalized_shap_values = mean_abs_shap_values / total\n",
    "    # Plot the SHAP values for the first instance in the validation dataset\n",
    "    shap.waterfall_plot(shap.Explanation(normalized_shap_values, base_values=explainer.expected_value,\n",
    "                                         data=validation_pool.get_features()[0],\n",
    "                                         feature_names=validation_pool.get_feature_names()))\n",
    "    \n",
    "    shap.plots.waterfall(shap_values)\n"
   ]
  },
  {
   "cell_type": "code",
   "execution_count": null,
   "id": "de0a8603485bc941",
   "metadata": {},
   "outputs": [],
   "source": []
  },
  {
   "cell_type": "code",
   "execution_count": null,
   "id": "39c71604f5ca077f",
   "metadata": {},
   "outputs": [],
   "source": [
    "night_model = train_and_evaluate(nighttime_uhi_diff, df_daily_vars=df_daily_vars)\n",
    "day_model = train_and_evaluate(daytime_uhi_diff, df_daily_vars=df_daily_vars)\n"
   ]
  },
  {
   "cell_type": "code",
   "execution_count": null,
   "id": "36cd09fa76629d42",
   "metadata": {},
   "outputs": [],
   "source": [
    "#saving models\n",
    "night_model.save_model('/home/jguo/research/hw_global/results/model_night_model_lr003_it3000_depth6.cbm')\n",
    "day_model.save_model('/home/jguo/research/hw_global/results/model_day_model_lr003_it3000_depth6.cbm')"
   ]
  },
  {
   "cell_type": "markdown",
   "id": "ed5c8ecb2fb8c756",
   "metadata": {},
   "source": [
    "## Shap dependency Analysis"
   ]
  },
  {
   "cell_type": "code",
   "execution_count": null,
   "id": "b84c06b7",
   "metadata": {},
   "outputs": [],
   "source": [
    "day_full_pool = Pool(X_day, y_day)\n",
    "night_full_pool = Pool(X_night, y_night)"
   ]
  },
  {
   "cell_type": "code",
   "execution_count": null,
   "id": "6b3d6f52c4161d78",
   "metadata": {},
   "outputs": [],
   "source": [
    "# day_full_pool = Pool(X_day, y_day)\n",
    "# day_shap_interations = day_model.get_feature_importance(day_full_pool, type='ShapInteractionValues')\n",
    "# day_shap_interations"
   ]
  },
  {
   "cell_type": "code",
   "execution_count": null,
   "id": "41d513ba90166c2f",
   "metadata": {},
   "outputs": [],
   "source": [
    "def get_ordered_feature_importance(model: CatBoostRegressor, pool, type='FeatureImportance'):\n",
    "    if type == 'FeatureImportance':\n",
    "        feature_importances = model.get_feature_importance()\n",
    "    else:\n",
    "        feature_importances = model.get_feature_importance(pool, type=type)\n",
    "    feature_importance_df = pd.DataFrame({'Feature': pool.get_feature_names(), 'Importance': feature_importances})\n",
    "    feature_importance_df.sort_values(by='Importance', ascending=False, inplace=True)\n",
    "    \n",
    "    feature_importance_df = add_long_name(feature_importance_df, join_column='Feature')\n",
    "    return feature_importance_df"
   ]
  },
  {
   "cell_type": "code",
   "execution_count": null,
   "id": "d0b31245d8f94d87",
   "metadata": {},
   "outputs": [],
   "source": [
    "# Get feature importance\n",
    "get_ordered_feature_importance(day_model, day_full_pool)\n"
   ]
  },
  {
   "cell_type": "code",
   "execution_count": null,
   "id": "852791350b06deed",
   "metadata": {},
   "outputs": [],
   "source": [
    "# Get feature importance\n",
    "get_ordered_feature_importance(day_model, day_full_pool, type='LossFunctionChange')\n"
   ]
  },
  {
   "cell_type": "code",
   "execution_count": null,
   "id": "9b1f59beca911296",
   "metadata": {},
   "outputs": [],
   "source": [
    "get_ordered_feature_importance(night_model, night_full_pool)  "
   ]
  },
  {
   "cell_type": "code",
   "execution_count": null,
   "id": "5bb7853567060314",
   "metadata": {},
   "outputs": [],
   "source": [
    "get_ordered_feature_importance(night_model, night_full_pool, type='LossFunctionChange')"
   ]
  },
  {
   "cell_type": "code",
   "execution_count": null,
   "id": "1e7a9838e7be6af6",
   "metadata": {},
   "outputs": [],
   "source": [
    "import catboost\n",
    "from catboost import *\n",
    "import shap\n",
    "shap.initjs() "
   ]
  },
  {
   "cell_type": "markdown",
   "id": "6c730d78aa8ec984",
   "metadata": {},
   "source": []
  },
  {
   "cell_type": "code",
   "execution_count": null,
   "id": "75ca5b465f7ca5bb",
   "metadata": {},
   "outputs": [],
   "source": [
    "shap_values = day_model.get_feature_importance(Pool(X, y), type='ShapValues')\n",
    "\n",
    "expected_value = shap_values[0,-1]\n",
    "shap_values = shap_values[:,:-1]\n",
    "\n",
    "# visualize the first prediction's explanation\n",
    "shap.force_plot(expected_value, shap_values[0,:], X.iloc[0,:])"
   ]
  },
  {
   "cell_type": "code",
   "execution_count": null,
   "id": "a220d5ac9e7123c8",
   "metadata": {},
   "outputs": [],
   "source": [
    "shap_values[0,:]"
   ]
  },
  {
   "cell_type": "code",
   "execution_count": null,
   "id": "f5a64a13f39dab61",
   "metadata": {},
   "outputs": [],
   "source": [
    "shap_values"
   ]
  },
  {
   "cell_type": "code",
   "execution_count": null,
   "id": "fe9999be691f42a2",
   "metadata": {},
   "outputs": [],
   "source": [
    "# summarize the effects of all the features\n",
    "shap.summary_plot(shap_values, X)"
   ]
  },
  {
   "cell_type": "code",
   "execution_count": null,
   "id": "2051b0747cc50e14",
   "metadata": {},
   "outputs": [],
   "source": [
    "shap.dependence_plot(\"U10\", shap_values, X)"
   ]
  },
  {
   "cell_type": "markdown",
   "id": "c4c87ea6b40a61c2",
   "metadata": {},
   "source": [
    "##  Dependence plots for all feature pairs"
   ]
  },
  {
   "cell_type": "code",
   "execution_count": null,
   "id": "72dece40dc8e59cd",
   "metadata": {},
   "outputs": [],
   "source": [
    "import shap\n",
    "import matplotlib.pyplot as plt\n",
    "\n",
    "# Assuming your model variable is stored as 'model'\n",
    "# Calculate SHAP values for the validation data\n",
    "shap_values = day_model.get_feature_importance(validation_pool, type='ShapValues')\n",
    "\n",
    "# Remove the last column from shap_values which is the base value\n",
    "shap_values = shap_values[:,:-1]\n",
    "\n",
    "# List of features for pairwise dependence plots\n",
    "features = X_train.columns.tolist()\n",
    "\n",
    "# Loop over each pair of features and create a dependence plot\n",
    "for i in range(len(features)):\n",
    "    for j in range(i + 1, len(features)):\n",
    "        shap.dependence_plot((features[i], features[j]), shap_values, X_val, interaction_index=features[j])\n",
    "        plt.title(f'Dependence Plot: {features[i]} vs {features[j]}')\n",
    "        plt.show()\n"
   ]
  },
  {
   "cell_type": "code",
   "execution_count": null,
   "id": "24dbf238bb3a94d4",
   "metadata": {},
   "outputs": [],
   "source": [
    "from matplotlib import pyplot as plt\n",
    "\n",
    "plt.figure(figsize=(10, 6))\n",
    "plt.scatter(X['U10'], y)\n",
    "plt.title('Plot of ColumnX vs ColumnY')\n",
    "plt.xlabel('ColumnX')\n",
    "plt.ylabel('ColumnY')\n",
    "plt.grid(True)\n",
    "plt.show()"
   ]
  }
 ],
 "metadata": {
  "kernelspec": {
   "display_name": "Python 3 (ipykernel)",
   "language": "python",
   "name": "python3"
  },
  "language_info": {
   "codemirror_mode": {
    "name": "ipython",
    "version": 3
   },
   "file_extension": ".py",
   "mimetype": "text/x-python",
   "name": "python",
   "nbconvert_exporter": "python",
   "pygments_lexer": "ipython3",
   "version": "3.11.9"
  }
 },
 "nbformat": 4,
 "nbformat_minor": 5
}
