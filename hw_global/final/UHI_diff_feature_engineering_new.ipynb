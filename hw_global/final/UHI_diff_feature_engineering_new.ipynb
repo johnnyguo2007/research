{
 "cells": [
  {
   "cell_type": "code",
   "id": "initial_id",
   "metadata": {
    "collapsed": true
   },
   "source": [
    "import pandas as pd\n",
    "import numpy as np\n",
    "import xarray as xr\n",
    "import os\n",
    "import netCDF4\n",
    "from sklearn.ensemble import RandomForestRegressor\n",
    "from sklearn.feature_selection import SelectFromModel\n",
    "from sklearn.model_selection import train_test_split\n",
    "import catboost\n",
    "from catboost import CatBoostRegressor, Pool, EShapCalcType, EFeaturesSelectionAlgorithm\n",
    "import numpy as np\n",
    "from sklearn.model_selection import train_test_split\n",
    "from sklearn.metrics import mean_squared_error\n"
   ],
   "outputs": [],
   "execution_count": null
  },
  {
   "cell_type": "code",
   "id": "693f121a0b27e778",
   "metadata": {},
   "source": [
    "summary_dir = '/Trex/test_case_results/i.e215.I2000Clm50SpGs.hw_production.02/research_results/summary'\n",
    "# summary_dir = '/Users/yguo/DataSpellProjects/hw/uhi'\n",
    "\n",
    "\n",
    "# merged_feather_path = os.path.join(summary_dir, 'local_hour_adjusted_variables.feather')\n",
    "merged_feather_path = os.path.join(summary_dir, 'local_hour_adjusted_variables_with_location_ID_event_ID.feather')\n",
    "\n",
    "local_hour_adjusted_df = pd.read_feather(merged_feather_path)\n",
    "local_hour_adjusted_df.info()"
   ],
   "outputs": [],
   "execution_count": null
  },
  {
   "cell_type": "code",
   "id": "cf27315b03813773",
   "metadata": {},
   "source": [
    "location_ID_path = os.path.join(summary_dir, 'location_IDs.nc')\n",
    "location_ID_ds = xr.open_dataset(location_ID_path, engine='netcdf4')"
   ],
   "outputs": [],
   "execution_count": null
  },
  {
   "cell_type": "code",
   "id": "b2989f9cf9584da3",
   "metadata": {},
   "source": [
    "location_ID_ds"
   ],
   "outputs": [],
   "execution_count": null
  },
  {
   "cell_type": "code",
   "id": "6f232ea1104df706",
   "metadata": {},
   "source": [
    "df_daily_vars = pd.read_excel('../Data/hourlyDataSchema.xlsx')\n",
    "daily_vars =df_daily_vars.loc[df_daily_vars['X_vars2'] == 'Y', 'Variable']\n",
    "daily_var_lst = daily_vars.tolist()\n",
    "daily_var_lst"
   ],
   "outputs": [],
   "execution_count": null
  },
  {
   "cell_type": "code",
   "id": "3baba68ba8f01fbd",
   "metadata": {},
   "source": [
    "df_daily_vars.info()"
   ],
   "outputs": [],
   "execution_count": null
  },
  {
   "cell_type": "code",
   "id": "56fffe14d680c7d2",
   "metadata": {},
   "source": [
    "# Step 1: Define masks for daytime and nighttime\n",
    "daytime_mask = local_hour_adjusted_df['local_hour'].between(8, 16)\n",
    "nighttime_mask = (local_hour_adjusted_df['local_hour'].between(20, 24) |\n",
    "                  local_hour_adjusted_df['local_hour'].between(0, 4))\n"
   ],
   "outputs": [],
   "execution_count": null
  },
  {
   "cell_type": "code",
   "id": "2751a2b7f57983e9",
   "metadata": {},
   "source": [
    "daytime_uhi_diff = local_hour_adjusted_df[nighttime_mask]\n",
    "# nighttime_uhi_diff = local_hour_adjusted_df[nighttime_mask]\n",
    "\n",
    "X = daytime_uhi_diff[daily_var_lst]\n",
    "y = daytime_uhi_diff['UHI_diff']"
   ],
   "outputs": [],
   "execution_count": null
  },
  {
   "cell_type": "code",
   "id": "e37ad43d0f538a1a",
   "metadata": {},
   "source": [
    "X.info()\n",
    "y.info()"
   ],
   "outputs": [],
   "execution_count": null
  },
  {
   "cell_type": "markdown",
   "id": "2098559e2f0f86ce",
   "metadata": {},
   "source": [
    "#  feature selection"
   ]
  },
  {
   "cell_type": "code",
   "id": "6c358fee34f7de49",
   "metadata": {},
   "source": [
    "import catboost\n",
    "from catboost import CatBoostRegressor, Pool, EShapCalcType, EFeaturesSelectionAlgorithm\n",
    "import numpy as np\n",
    "from sklearn.model_selection import train_test_split\n",
    "from sklearn.metrics import mean_squared_error\n",
    "\n",
    "# Split your data into training and validation sets\n",
    "X_train, X_val, y_train, y_val = train_test_split(X, y, test_size=0.2, random_state=42)\n",
    "\n",
    "train_pool = Pool(X_train, y_train)\n",
    "validation_pool = Pool(X_val, y_val)"
   ],
   "outputs": [],
   "execution_count": null
  },
  {
   "cell_type": "code",
   "id": "1aae4782f14ca586",
   "metadata": {},
   "source": [],
   "outputs": [],
   "execution_count": null
  },
  {
   "cell_type": "markdown",
   "id": "b8dd3237b02c4cc7",
   "metadata": {},
   "source": [
    "#  Running the feature selection algorithm"
   ]
  },
  {
   "cell_type": "markdown",
   "id": "1245869bffc253ae",
   "metadata": {},
   "source": [
    "#   SHAP waterfall plot"
   ]
  },
  {
   "cell_type": "markdown",
   "id": "130526746b93ad39",
   "metadata": {},
   "source": [
    "#  Functions to create model and graph"
   ]
  },
  {
   "cell_type": "code",
   "id": "64f3c01a9306fa8b",
   "metadata": {},
   "source": [
    "import numpy as np\n",
    "import pandas as pd\n",
    "from sklearn.model_selection import train_test_split\n",
    "from sklearn.metrics import mean_squared_error\n",
    "from catboost import CatBoostRegressor, Pool\n",
    "import shap\n",
    "\n",
    "def train_and_evaluate(local_hour_adjusted_df, time_mask, df_daily_vars):\n",
    "    # Filter dataframe for daytime data\n",
    "    time_uhi_diff = local_hour_adjusted_df[time_mask]\n",
    "    daily_vars =df_daily_vars.loc[df_daily_vars['X_vars2'] == 'Y', 'Variable']\n",
    "    daily_var_lst = daily_vars.tolist()\n",
    "    # Select features and target\n",
    "    X = time_uhi_diff[daily_var_lst]\n",
    "    y = time_uhi_diff['UHI_diff']\n",
    "\n",
    "    # Split the data into training and validation sets\n",
    "    X_train, X_val, y_train, y_val = train_test_split(X, y, test_size=0.2, random_state=42)\n",
    "    train_pool = Pool(X_train, y_train)\n",
    "    validation_pool = Pool(X_val, y_val)\n",
    "\n",
    "    # Train the final model with all columns on selected features after feature selection\n",
    "    model = CatBoostRegressor(\n",
    "        iterations=1000,\n",
    "        learning_rate=0.05,\n",
    "        depth=5,\n",
    "        loss_function='RMSE',\n",
    "        eval_metric='RMSE',\n",
    "        random_seed=42,\n",
    "        task_type='GPU',\n",
    "        verbose=False\n",
    "    )\n",
    "    model.fit(X_train, y_train, eval_set=(X_val, y_val),\n",
    "                       use_best_model=True, early_stopping_rounds=50, plot=True)\n",
    "    return model\n",
    "\n",
    "def importance_plot(model, validation_pool, df_daily_vars):\n",
    "    # Get long_feature_names\n",
    "    feature_names = validation_pool.get_feature_names()\n",
    "    feature_name_mapping = pd.Series(df_daily_vars['Long Name'].values, index=df_daily_vars['Variable']).to_dict()\n",
    "    long_feature_names = [feature_name_mapping.get(name, \"Unknown Feature\") for name in feature_names]\n",
    "    # Calculate SHAP values    \n",
    "    explainer = shap.TreeExplainer(model, feature_names=long_feature_names)\n",
    "    shap_values = explainer.shap_values(validation_pool)\n",
    "    mean_abs_shap_values = np.abs(shap_values).mean(axis=0)\n",
    "    # Normalize the SHAP values so that they sum to one\n",
    "    total = mean_abs_shap_values.sum()\n",
    "    normalized_shap_values = mean_abs_shap_values / total\n",
    "    # Plot the SHAP values for the first instance in the validation dataset\n",
    "    shap.waterfall_plot(shap.Explanation(normalized_shap_values, base_values=explainer.expected_value,\n",
    "                                         data=validation_pool.get_features()[0],\n",
    "                                         feature_names=validation_pool.get_feature_names()))\n",
    "    \n",
    "    shap.plots.waterfall(shap_values)\n"
   ],
   "outputs": [],
   "execution_count": null
  },
  {
   "cell_type": "code",
   "id": "de0a8603485bc941",
   "metadata": {},
   "source": [],
   "outputs": [],
   "execution_count": null
  },
  {
   "cell_type": "code",
   "id": "39c71604f5ca077f",
   "metadata": {},
   "source": [
    "night_model = train_and_evaluate(local_hour_adjusted_df, nighttime_mask, df_daily_vars=df_daily_vars)"
   ],
   "outputs": [],
   "execution_count": null
  },
  {
   "cell_type": "code",
   "id": "e8a550e620b039c6",
   "metadata": {},
   "source": [
    "day_model = train_and_evaluate(local_hour_adjusted_df, daytime_mask, df_daily_vars=df_daily_vars)"
   ],
   "outputs": [],
   "execution_count": null
  },
  {
   "cell_type": "code",
   "id": "d0b31245d8f94d87",
   "metadata": {},
   "source": [
    "# Get feature importance\n",
    "day_feature_importances = day_model.get_feature_importance(type='FeatureImportance')\n",
    "day_feature_importance_df = pd.DataFrame({'Feature': X.columns, 'Importance': day_feature_importances})\n",
    "print(day_feature_importance_df.sort_values(by='Importance', ascending=False))\n"
   ],
   "outputs": [],
   "execution_count": null
  },
  {
   "cell_type": "code",
   "id": "fbfedde7ea5fbe19",
   "metadata": {},
   "source": [
    "from catboost import EFstrType\n",
    "\n",
    "# Get feature importance\n",
    "night_feature_importances = night_model.get_feature_importance(type='FeatureImportance')\n",
    "night_feature_importance_df = pd.DataFrame({'Feature': X.columns, 'Importance': night_feature_importances})\n",
    "print(feature_importance_df.sort_values(by='Importance', ascending=False))\n"
   ],
   "outputs": [],
   "execution_count": null
  },
  {
   "cell_type": "code",
   "id": "280f352cb2cf804",
   "metadata": {},
   "source": [
    "day_feature_importance_df.sum()"
   ],
   "outputs": [],
   "execution_count": null
  },
  {
   "cell_type": "code",
   "id": "1e7a9838e7be6af6",
   "metadata": {},
   "source": [
    "import catboost\n",
    "from catboost import *\n",
    "import shap\n",
    "shap.initjs() "
   ],
   "outputs": [],
   "execution_count": null
  },
  {
   "cell_type": "code",
   "id": "75ca5b465f7ca5bb",
   "metadata": {},
   "source": [
    "shap_values = day_model.get_feature_importance(Pool(X, y), type='ShapValues')\n",
    "\n",
    "expected_value = shap_values[0,-1]\n",
    "shap_values = shap_values[:,:-1]\n",
    "\n",
    "# visualize the first prediction's explanation\n",
    "shap.force_plot(expected_value, shap_values[0,:], X.iloc[0,:])"
   ],
   "outputs": [],
   "execution_count": null
  },
  {
   "cell_type": "code",
   "id": "a220d5ac9e7123c8",
   "metadata": {},
   "source": [
    "shap_values[0,:]"
   ],
   "outputs": [],
   "execution_count": null
  },
  {
   "cell_type": "code",
   "id": "f5a64a13f39dab61",
   "metadata": {},
   "source": [
    "shap_values"
   ],
   "outputs": [],
   "execution_count": null
  },
  {
   "cell_type": "code",
   "id": "fe9999be691f42a2",
   "metadata": {},
   "source": [
    "# summarize the effects of all the features\n",
    "shap.summary_plot(shap_values, X)"
   ],
   "outputs": [],
   "execution_count": null
  },
  {
   "cell_type": "code",
   "id": "2051b0747cc50e14",
   "metadata": {},
   "source": [
    "shap.dependence_plot(\"U10\", shap_values, X)"
   ],
   "outputs": [],
   "execution_count": null
  },
  {
   "cell_type": "code",
   "id": "24dbf238bb3a94d4",
   "metadata": {},
   "source": [
    "from matplotlib import pyplot as plt\n",
    "\n",
    "plt.figure(figsize=(10, 6))\n",
    "plt.scatter(X['U10'], y)\n",
    "plt.title('Plot of ColumnX vs ColumnY')\n",
    "plt.xlabel('ColumnX')\n",
    "plt.ylabel('ColumnY')\n",
    "plt.grid(True)\n",
    "plt.show()"
   ],
   "outputs": [],
   "execution_count": null
  }
 ],
 "metadata": {
  "kernelspec": {
   "display_name": "Python 3 (ipykernel)",
   "language": "python",
   "name": "python3"
  },
  "language_info": {
   "codemirror_mode": {
    "name": "ipython",
    "version": 3
   },
   "file_extension": ".py",
   "mimetype": "text/x-python",
   "name": "python",
   "nbconvert_exporter": "python",
   "pygments_lexer": "ipython3",
   "version": "3.11.9"
  }
 },
 "nbformat": 4,
 "nbformat_minor": 5
}
