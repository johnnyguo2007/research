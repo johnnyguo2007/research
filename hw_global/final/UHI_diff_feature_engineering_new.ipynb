{
 "cells": [
  {
   "cell_type": "code",
   "id": "initial_id",
   "metadata": {
    "collapsed": true,
    "ExecuteTime": {
     "end_time": "2024-05-15T02:39:49.496965Z",
     "start_time": "2024-05-15T02:39:48.634901Z"
    }
   },
   "source": [
    "import pandas as pd\n",
    "import numpy as np\n",
    "import xarray as xr\n",
    "import os\n",
    "import netCDF4\n",
    "from sklearn.ensemble import RandomForestRegressor\n",
    "from sklearn.feature_selection import SelectFromModel\n",
    "from sklearn.model_selection import train_test_split\n",
    "import catboost\n",
    "from catboost import CatBoostRegressor, Pool, EShapCalcType, EFeaturesSelectionAlgorithm\n",
    "import numpy as np\n",
    "from sklearn.model_selection import train_test_split\n",
    "from sklearn.metrics import mean_squared_error\n"
   ],
   "outputs": [],
   "execution_count": 1
  },
  {
   "cell_type": "code",
   "id": "693f121a0b27e778",
   "metadata": {
    "ExecuteTime": {
     "end_time": "2024-05-15T02:39:59.421182Z",
     "start_time": "2024-05-15T02:39:51.609280Z"
    }
   },
   "source": [
    "summary_dir = '/Trex/test_case_results/i.e215.I2000Clm50SpGs.hw_production.02/research_results/summary'\n",
    "# summary_dir = '/Users/yguo/DataSpellProjects/hw/uhi'\n",
    "\n",
    "\n",
    "# merged_feather_path = os.path.join(summary_dir, 'local_hour_adjusted_variables.feather')\n",
    "merged_feather_path = os.path.join(summary_dir, 'local_hour_adjusted_variables_with_location_ID_event_ID.feather')\n",
    "\n",
    "local_hour_adjusted_df = pd.read_feather(merged_feather_path)\n",
    "local_hour_adjusted_df.info()"
   ],
   "outputs": [
    {
     "name": "stdout",
     "output_type": "stream",
     "text": [
      "<class 'pandas.core.frame.DataFrame'>\n",
      "Index: 58245960 entries, 8945088 to 56705927\n",
      "Data columns (total 73 columns):\n",
      " #   Column           Dtype         \n",
      "---  ------           -----         \n",
      " 0   index            int64         \n",
      " 1   time             datetime64[ns]\n",
      " 2   lat              float32       \n",
      " 3   lon              float32       \n",
      " 4   APPAR_TEMP       float32       \n",
      " 5   APPAR_TEMP_R     float32       \n",
      " 6   APPAR_TEMP_U     float32       \n",
      " 7   EFLX_LH_TOT      float32       \n",
      " 8   EFLX_LH_TOT_R    float32       \n",
      " 9   EFLX_LH_TOT_U    float32       \n",
      " 10  FGR              float32       \n",
      " 11  FGR_R            float32       \n",
      " 12  FGR_U            float32       \n",
      " 13  FIRA             float32       \n",
      " 14  FIRA_R           float32       \n",
      " 15  FIRA_U           float32       \n",
      " 16  FIRE             float32       \n",
      " 17  FIRE_R           float32       \n",
      " 18  FIRE_U           float32       \n",
      " 19  FLDS             float32       \n",
      " 20  FSA              float32       \n",
      " 21  FSA_R            float32       \n",
      " 22  FSA_U            float32       \n",
      " 23  FSDS             float32       \n",
      " 24  FSH              float32       \n",
      " 25  FSH_R            float32       \n",
      " 26  FSH_U            float32       \n",
      " 27  HEAT_FROM_AC     float32       \n",
      " 28  HIA              float32       \n",
      " 29  HIA_R            float32       \n",
      " 30  HIA_U            float32       \n",
      " 31  HW               float64       \n",
      " 32  PBOT             float32       \n",
      " 33  Q2M              float32       \n",
      " 34  Q2M_R            float32       \n",
      " 35  Q2M_U            float32       \n",
      " 36  QBOT             float32       \n",
      " 37  RAIN             float32       \n",
      " 38  SNOW             float32       \n",
      " 39  TBOT             float32       \n",
      " 40  THBOT            float32       \n",
      " 41  TSA              float32       \n",
      " 42  TSA_R            float32       \n",
      " 43  TSA_U            float32       \n",
      " 44  TSKIN            float32       \n",
      " 45  TSKIN_R          float32       \n",
      " 46  TSKIN_U          float32       \n",
      " 47  U10              float32       \n",
      " 48  UWBI             float32       \n",
      " 49  UHI              float32       \n",
      " 50  URBAN_HEAT       float32       \n",
      " 51  VAPOR_PRES       float32       \n",
      " 52  VAPOR_PRES_R     float32       \n",
      " 53  VAPOR_PRES_U     float32       \n",
      " 54  WASTEHEAT        float32       \n",
      " 55  WBA              float32       \n",
      " 56  WBA_R            float32       \n",
      " 57  WBA_U            float32       \n",
      " 58  WIND             float32       \n",
      " 59  hour             int32         \n",
      " 60  month            int32         \n",
      " 61  year             int32         \n",
      " 62  UHI_avg          float32       \n",
      " 63  UWBI_avg         float32       \n",
      " 64  UHI_diff         float32       \n",
      " 65  UWBI_diff        float32       \n",
      " 66  local_time       datetime64[ns]\n",
      " 67  local_hour       int32         \n",
      " 68  location_ID      int64         \n",
      " 69  time_diff        float64       \n",
      " 70  new_event        bool          \n",
      " 71  event_ID         int64         \n",
      " 72  global_event_ID  object        \n",
      "dtypes: bool(1), datetime64[ns](2), float32(60), float64(2), int32(4), int64(3), object(1)\n",
      "memory usage: 17.8+ GB\n"
     ]
    }
   ],
   "execution_count": 2
  },
  {
   "cell_type": "code",
   "id": "cf27315b03813773",
   "metadata": {
    "ExecuteTime": {
     "end_time": "2024-05-15T02:40:05.415632Z",
     "start_time": "2024-05-15T02:40:05.397035Z"
    }
   },
   "source": [
    "location_ID_path = os.path.join(summary_dir, 'location_IDs.nc')\n",
    "location_ID_ds = xr.open_dataset(location_ID_path, engine='netcdf4')"
   ],
   "outputs": [],
   "execution_count": 3
  },
  {
   "cell_type": "code",
   "id": "b2989f9cf9584da3",
   "metadata": {
    "ExecuteTime": {
     "end_time": "2024-05-15T02:40:11.557546Z",
     "start_time": "2024-05-15T02:40:11.545216Z"
    }
   },
   "source": [
    "location_ID_ds"
   ],
   "outputs": [
    {
     "data": {
      "text/plain": [
       "<xarray.Dataset> Size: 444kB\n",
       "Dimensions:      (lon: 288, lat: 192)\n",
       "Coordinates:\n",
       "  * lon          (lon) float32 1kB 0.0 1.25 2.5 3.75 ... 355.0 356.2 357.5 358.8\n",
       "  * lat          (lat) float32 768B -90.0 -89.06 -88.12 ... 88.12 89.06 90.0\n",
       "Data variables:\n",
       "    location_ID  (lat, lon) int64 442kB ..."
      ],
      "text/html": [
       "<div><svg style=\"position: absolute; width: 0; height: 0; overflow: hidden\">\n",
       "<defs>\n",
       "<symbol id=\"icon-database\" viewBox=\"0 0 32 32\">\n",
       "<path d=\"M16 0c-8.837 0-16 2.239-16 5v4c0 2.761 7.163 5 16 5s16-2.239 16-5v-4c0-2.761-7.163-5-16-5z\"></path>\n",
       "<path d=\"M16 17c-8.837 0-16-2.239-16-5v6c0 2.761 7.163 5 16 5s16-2.239 16-5v-6c0 2.761-7.163 5-16 5z\"></path>\n",
       "<path d=\"M16 26c-8.837 0-16-2.239-16-5v6c0 2.761 7.163 5 16 5s16-2.239 16-5v-6c0 2.761-7.163 5-16 5z\"></path>\n",
       "</symbol>\n",
       "<symbol id=\"icon-file-text2\" viewBox=\"0 0 32 32\">\n",
       "<path d=\"M28.681 7.159c-0.694-0.947-1.662-2.053-2.724-3.116s-2.169-2.030-3.116-2.724c-1.612-1.182-2.393-1.319-2.841-1.319h-15.5c-1.378 0-2.5 1.121-2.5 2.5v27c0 1.378 1.122 2.5 2.5 2.5h23c1.378 0 2.5-1.122 2.5-2.5v-19.5c0-0.448-0.137-1.23-1.319-2.841zM24.543 5.457c0.959 0.959 1.712 1.825 2.268 2.543h-4.811v-4.811c0.718 0.556 1.584 1.309 2.543 2.268zM28 29.5c0 0.271-0.229 0.5-0.5 0.5h-23c-0.271 0-0.5-0.229-0.5-0.5v-27c0-0.271 0.229-0.5 0.5-0.5 0 0 15.499-0 15.5 0v7c0 0.552 0.448 1 1 1h7v19.5z\"></path>\n",
       "<path d=\"M23 26h-14c-0.552 0-1-0.448-1-1s0.448-1 1-1h14c0.552 0 1 0.448 1 1s-0.448 1-1 1z\"></path>\n",
       "<path d=\"M23 22h-14c-0.552 0-1-0.448-1-1s0.448-1 1-1h14c0.552 0 1 0.448 1 1s-0.448 1-1 1z\"></path>\n",
       "<path d=\"M23 18h-14c-0.552 0-1-0.448-1-1s0.448-1 1-1h14c0.552 0 1 0.448 1 1s-0.448 1-1 1z\"></path>\n",
       "</symbol>\n",
       "</defs>\n",
       "</svg>\n",
       "<style>/* CSS stylesheet for displaying xarray objects in jupyterlab.\n",
       " *\n",
       " */\n",
       "\n",
       ":root {\n",
       "  --xr-font-color0: var(--jp-content-font-color0, rgba(0, 0, 0, 1));\n",
       "  --xr-font-color2: var(--jp-content-font-color2, rgba(0, 0, 0, 0.54));\n",
       "  --xr-font-color3: var(--jp-content-font-color3, rgba(0, 0, 0, 0.38));\n",
       "  --xr-border-color: var(--jp-border-color2, #e0e0e0);\n",
       "  --xr-disabled-color: var(--jp-layout-color3, #bdbdbd);\n",
       "  --xr-background-color: var(--jp-layout-color0, white);\n",
       "  --xr-background-color-row-even: var(--jp-layout-color1, white);\n",
       "  --xr-background-color-row-odd: var(--jp-layout-color2, #eeeeee);\n",
       "}\n",
       "\n",
       "html[theme=dark],\n",
       "body[data-theme=dark],\n",
       "body.vscode-dark {\n",
       "  --xr-font-color0: rgba(255, 255, 255, 1);\n",
       "  --xr-font-color2: rgba(255, 255, 255, 0.54);\n",
       "  --xr-font-color3: rgba(255, 255, 255, 0.38);\n",
       "  --xr-border-color: #1F1F1F;\n",
       "  --xr-disabled-color: #515151;\n",
       "  --xr-background-color: #111111;\n",
       "  --xr-background-color-row-even: #111111;\n",
       "  --xr-background-color-row-odd: #313131;\n",
       "}\n",
       "\n",
       ".xr-wrap {\n",
       "  display: block !important;\n",
       "  min-width: 300px;\n",
       "  max-width: 700px;\n",
       "}\n",
       "\n",
       ".xr-text-repr-fallback {\n",
       "  /* fallback to plain text repr when CSS is not injected (untrusted notebook) */\n",
       "  display: none;\n",
       "}\n",
       "\n",
       ".xr-header {\n",
       "  padding-top: 6px;\n",
       "  padding-bottom: 6px;\n",
       "  margin-bottom: 4px;\n",
       "  border-bottom: solid 1px var(--xr-border-color);\n",
       "}\n",
       "\n",
       ".xr-header > div,\n",
       ".xr-header > ul {\n",
       "  display: inline;\n",
       "  margin-top: 0;\n",
       "  margin-bottom: 0;\n",
       "}\n",
       "\n",
       ".xr-obj-type,\n",
       ".xr-array-name {\n",
       "  margin-left: 2px;\n",
       "  margin-right: 10px;\n",
       "}\n",
       "\n",
       ".xr-obj-type {\n",
       "  color: var(--xr-font-color2);\n",
       "}\n",
       "\n",
       ".xr-sections {\n",
       "  padding-left: 0 !important;\n",
       "  display: grid;\n",
       "  grid-template-columns: 150px auto auto 1fr 20px 20px;\n",
       "}\n",
       "\n",
       ".xr-section-item {\n",
       "  display: contents;\n",
       "}\n",
       "\n",
       ".xr-section-item input {\n",
       "  display: none;\n",
       "}\n",
       "\n",
       ".xr-section-item input + label {\n",
       "  color: var(--xr-disabled-color);\n",
       "}\n",
       "\n",
       ".xr-section-item input:enabled + label {\n",
       "  cursor: pointer;\n",
       "  color: var(--xr-font-color2);\n",
       "}\n",
       "\n",
       ".xr-section-item input:enabled + label:hover {\n",
       "  color: var(--xr-font-color0);\n",
       "}\n",
       "\n",
       ".xr-section-summary {\n",
       "  grid-column: 1;\n",
       "  color: var(--xr-font-color2);\n",
       "  font-weight: 500;\n",
       "}\n",
       "\n",
       ".xr-section-summary > span {\n",
       "  display: inline-block;\n",
       "  padding-left: 0.5em;\n",
       "}\n",
       "\n",
       ".xr-section-summary-in:disabled + label {\n",
       "  color: var(--xr-font-color2);\n",
       "}\n",
       "\n",
       ".xr-section-summary-in + label:before {\n",
       "  display: inline-block;\n",
       "  content: '►';\n",
       "  font-size: 11px;\n",
       "  width: 15px;\n",
       "  text-align: center;\n",
       "}\n",
       "\n",
       ".xr-section-summary-in:disabled + label:before {\n",
       "  color: var(--xr-disabled-color);\n",
       "}\n",
       "\n",
       ".xr-section-summary-in:checked + label:before {\n",
       "  content: '▼';\n",
       "}\n",
       "\n",
       ".xr-section-summary-in:checked + label > span {\n",
       "  display: none;\n",
       "}\n",
       "\n",
       ".xr-section-summary,\n",
       ".xr-section-inline-details {\n",
       "  padding-top: 4px;\n",
       "  padding-bottom: 4px;\n",
       "}\n",
       "\n",
       ".xr-section-inline-details {\n",
       "  grid-column: 2 / -1;\n",
       "}\n",
       "\n",
       ".xr-section-details {\n",
       "  display: none;\n",
       "  grid-column: 1 / -1;\n",
       "  margin-bottom: 5px;\n",
       "}\n",
       "\n",
       ".xr-section-summary-in:checked ~ .xr-section-details {\n",
       "  display: contents;\n",
       "}\n",
       "\n",
       ".xr-array-wrap {\n",
       "  grid-column: 1 / -1;\n",
       "  display: grid;\n",
       "  grid-template-columns: 20px auto;\n",
       "}\n",
       "\n",
       ".xr-array-wrap > label {\n",
       "  grid-column: 1;\n",
       "  vertical-align: top;\n",
       "}\n",
       "\n",
       ".xr-preview {\n",
       "  color: var(--xr-font-color3);\n",
       "}\n",
       "\n",
       ".xr-array-preview,\n",
       ".xr-array-data {\n",
       "  padding: 0 5px !important;\n",
       "  grid-column: 2;\n",
       "}\n",
       "\n",
       ".xr-array-data,\n",
       ".xr-array-in:checked ~ .xr-array-preview {\n",
       "  display: none;\n",
       "}\n",
       "\n",
       ".xr-array-in:checked ~ .xr-array-data,\n",
       ".xr-array-preview {\n",
       "  display: inline-block;\n",
       "}\n",
       "\n",
       ".xr-dim-list {\n",
       "  display: inline-block !important;\n",
       "  list-style: none;\n",
       "  padding: 0 !important;\n",
       "  margin: 0;\n",
       "}\n",
       "\n",
       ".xr-dim-list li {\n",
       "  display: inline-block;\n",
       "  padding: 0;\n",
       "  margin: 0;\n",
       "}\n",
       "\n",
       ".xr-dim-list:before {\n",
       "  content: '(';\n",
       "}\n",
       "\n",
       ".xr-dim-list:after {\n",
       "  content: ')';\n",
       "}\n",
       "\n",
       ".xr-dim-list li:not(:last-child):after {\n",
       "  content: ',';\n",
       "  padding-right: 5px;\n",
       "}\n",
       "\n",
       ".xr-has-index {\n",
       "  font-weight: bold;\n",
       "}\n",
       "\n",
       ".xr-var-list,\n",
       ".xr-var-item {\n",
       "  display: contents;\n",
       "}\n",
       "\n",
       ".xr-var-item > div,\n",
       ".xr-var-item label,\n",
       ".xr-var-item > .xr-var-name span {\n",
       "  background-color: var(--xr-background-color-row-even);\n",
       "  margin-bottom: 0;\n",
       "}\n",
       "\n",
       ".xr-var-item > .xr-var-name:hover span {\n",
       "  padding-right: 5px;\n",
       "}\n",
       "\n",
       ".xr-var-list > li:nth-child(odd) > div,\n",
       ".xr-var-list > li:nth-child(odd) > label,\n",
       ".xr-var-list > li:nth-child(odd) > .xr-var-name span {\n",
       "  background-color: var(--xr-background-color-row-odd);\n",
       "}\n",
       "\n",
       ".xr-var-name {\n",
       "  grid-column: 1;\n",
       "}\n",
       "\n",
       ".xr-var-dims {\n",
       "  grid-column: 2;\n",
       "}\n",
       "\n",
       ".xr-var-dtype {\n",
       "  grid-column: 3;\n",
       "  text-align: right;\n",
       "  color: var(--xr-font-color2);\n",
       "}\n",
       "\n",
       ".xr-var-preview {\n",
       "  grid-column: 4;\n",
       "}\n",
       "\n",
       ".xr-index-preview {\n",
       "  grid-column: 2 / 5;\n",
       "  color: var(--xr-font-color2);\n",
       "}\n",
       "\n",
       ".xr-var-name,\n",
       ".xr-var-dims,\n",
       ".xr-var-dtype,\n",
       ".xr-preview,\n",
       ".xr-attrs dt {\n",
       "  white-space: nowrap;\n",
       "  overflow: hidden;\n",
       "  text-overflow: ellipsis;\n",
       "  padding-right: 10px;\n",
       "}\n",
       "\n",
       ".xr-var-name:hover,\n",
       ".xr-var-dims:hover,\n",
       ".xr-var-dtype:hover,\n",
       ".xr-attrs dt:hover {\n",
       "  overflow: visible;\n",
       "  width: auto;\n",
       "  z-index: 1;\n",
       "}\n",
       "\n",
       ".xr-var-attrs,\n",
       ".xr-var-data,\n",
       ".xr-index-data {\n",
       "  display: none;\n",
       "  background-color: var(--xr-background-color) !important;\n",
       "  padding-bottom: 5px !important;\n",
       "}\n",
       "\n",
       ".xr-var-attrs-in:checked ~ .xr-var-attrs,\n",
       ".xr-var-data-in:checked ~ .xr-var-data,\n",
       ".xr-index-data-in:checked ~ .xr-index-data {\n",
       "  display: block;\n",
       "}\n",
       "\n",
       ".xr-var-data > table {\n",
       "  float: right;\n",
       "}\n",
       "\n",
       ".xr-var-name span,\n",
       ".xr-var-data,\n",
       ".xr-index-name div,\n",
       ".xr-index-data,\n",
       ".xr-attrs {\n",
       "  padding-left: 25px !important;\n",
       "}\n",
       "\n",
       ".xr-attrs,\n",
       ".xr-var-attrs,\n",
       ".xr-var-data,\n",
       ".xr-index-data {\n",
       "  grid-column: 1 / -1;\n",
       "}\n",
       "\n",
       "dl.xr-attrs {\n",
       "  padding: 0;\n",
       "  margin: 0;\n",
       "  display: grid;\n",
       "  grid-template-columns: 125px auto;\n",
       "}\n",
       "\n",
       ".xr-attrs dt,\n",
       ".xr-attrs dd {\n",
       "  padding: 0;\n",
       "  margin: 0;\n",
       "  float: left;\n",
       "  padding-right: 10px;\n",
       "  width: auto;\n",
       "}\n",
       "\n",
       ".xr-attrs dt {\n",
       "  font-weight: normal;\n",
       "  grid-column: 1;\n",
       "}\n",
       "\n",
       ".xr-attrs dt:hover span {\n",
       "  display: inline-block;\n",
       "  background: var(--xr-background-color);\n",
       "  padding-right: 10px;\n",
       "}\n",
       "\n",
       ".xr-attrs dd {\n",
       "  grid-column: 2;\n",
       "  white-space: pre-wrap;\n",
       "  word-break: break-all;\n",
       "}\n",
       "\n",
       ".xr-icon-database,\n",
       ".xr-icon-file-text2,\n",
       ".xr-no-icon {\n",
       "  display: inline-block;\n",
       "  vertical-align: middle;\n",
       "  width: 1em;\n",
       "  height: 1.5em !important;\n",
       "  stroke-width: 0;\n",
       "  stroke: currentColor;\n",
       "  fill: currentColor;\n",
       "}\n",
       "</style><pre class='xr-text-repr-fallback'>&lt;xarray.Dataset&gt; Size: 444kB\n",
       "Dimensions:      (lon: 288, lat: 192)\n",
       "Coordinates:\n",
       "  * lon          (lon) float32 1kB 0.0 1.25 2.5 3.75 ... 355.0 356.2 357.5 358.8\n",
       "  * lat          (lat) float32 768B -90.0 -89.06 -88.12 ... 88.12 89.06 90.0\n",
       "Data variables:\n",
       "    location_ID  (lat, lon) int64 442kB ...</pre><div class='xr-wrap' style='display:none'><div class='xr-header'><div class='xr-obj-type'>xarray.Dataset</div></div><ul class='xr-sections'><li class='xr-section-item'><input id='section-3b819f4d-c5b7-413a-b814-a380af0b5a5b' class='xr-section-summary-in' type='checkbox' disabled ><label for='section-3b819f4d-c5b7-413a-b814-a380af0b5a5b' class='xr-section-summary'  title='Expand/collapse section'>Dimensions:</label><div class='xr-section-inline-details'><ul class='xr-dim-list'><li><span class='xr-has-index'>lon</span>: 288</li><li><span class='xr-has-index'>lat</span>: 192</li></ul></div><div class='xr-section-details'></div></li><li class='xr-section-item'><input id='section-8edf99dd-17fe-4dfa-b674-0687d64d0f18' class='xr-section-summary-in' type='checkbox'  checked><label for='section-8edf99dd-17fe-4dfa-b674-0687d64d0f18' class='xr-section-summary' >Coordinates: <span>(2)</span></label><div class='xr-section-inline-details'></div><div class='xr-section-details'><ul class='xr-var-list'><li class='xr-var-item'><div class='xr-var-name'><span class='xr-has-index'>lon</span></div><div class='xr-var-dims'>(lon)</div><div class='xr-var-dtype'>float32</div><div class='xr-var-preview xr-preview'>0.0 1.25 2.5 ... 356.2 357.5 358.8</div><input id='attrs-6c17f59e-04b5-4ed1-b0bd-8a1126cca275' class='xr-var-attrs-in' type='checkbox' ><label for='attrs-6c17f59e-04b5-4ed1-b0bd-8a1126cca275' title='Show/Hide attributes'><svg class='icon xr-icon-file-text2'><use xlink:href='#icon-file-text2'></use></svg></label><input id='data-be75d306-0530-4b24-965b-a28d2ab21785' class='xr-var-data-in' type='checkbox'><label for='data-be75d306-0530-4b24-965b-a28d2ab21785' title='Show/Hide data repr'><svg class='icon xr-icon-database'><use xlink:href='#icon-database'></use></svg></label><div class='xr-var-attrs'><dl class='xr-attrs'><dt><span>long_name :</span></dt><dd>coordinate longitude</dd><dt><span>units :</span></dt><dd>degrees_east</dd></dl></div><div class='xr-var-data'><pre>array([  0.  ,   1.25,   2.5 , ..., 356.25, 357.5 , 358.75], dtype=float32)</pre></div></li><li class='xr-var-item'><div class='xr-var-name'><span class='xr-has-index'>lat</span></div><div class='xr-var-dims'>(lat)</div><div class='xr-var-dtype'>float32</div><div class='xr-var-preview xr-preview'>-90.0 -89.06 -88.12 ... 89.06 90.0</div><input id='attrs-afb95f09-3abe-4e88-aba8-2e231704b463' class='xr-var-attrs-in' type='checkbox' ><label for='attrs-afb95f09-3abe-4e88-aba8-2e231704b463' title='Show/Hide attributes'><svg class='icon xr-icon-file-text2'><use xlink:href='#icon-file-text2'></use></svg></label><input id='data-92966b7e-5f66-4bb7-b16a-07a6cc202ccb' class='xr-var-data-in' type='checkbox'><label for='data-92966b7e-5f66-4bb7-b16a-07a6cc202ccb' title='Show/Hide data repr'><svg class='icon xr-icon-database'><use xlink:href='#icon-database'></use></svg></label><div class='xr-var-attrs'><dl class='xr-attrs'><dt><span>long_name :</span></dt><dd>coordinate latitude</dd><dt><span>units :</span></dt><dd>degrees_north</dd></dl></div><div class='xr-var-data'><pre>array([-90.      , -89.057594, -88.11518 , -87.172775, -86.23037 , -85.28796 ,\n",
       "       -84.34555 , -83.403145, -82.46073 , -81.518326, -80.57591 , -79.63351 ,\n",
       "       -78.6911  , -77.74869 , -76.80628 , -75.86388 , -74.92146 , -73.97906 ,\n",
       "       -73.03665 , -72.09424 , -71.15183 , -70.20943 , -69.26701 , -68.32461 ,\n",
       "       -67.3822  , -66.43979 , -65.49738 , -64.55498 , -63.612564, -62.67016 ,\n",
       "       -61.72775 , -60.78534 , -59.842934, -58.900524, -57.958115, -57.015705,\n",
       "       -56.0733  , -55.13089 , -54.18848 , -53.246075, -52.303665, -51.361256,\n",
       "       -50.41885 , -49.47644 , -48.53403 , -47.59162 , -46.649216, -45.706806,\n",
       "       -44.764397, -43.82199 , -42.87958 , -41.937172, -40.994766, -40.052357,\n",
       "       -39.109947, -38.167538, -37.225132, -36.282722, -35.340313, -34.397907,\n",
       "       -33.455498, -32.51309 , -31.57068 , -30.628273, -29.685863, -28.743456,\n",
       "       -27.801046, -26.858639, -25.916231, -24.973822, -24.031414, -23.089005,\n",
       "       -22.146597, -21.20419 , -20.26178 , -19.319372, -18.376963, -17.434555,\n",
       "       -16.492147, -15.549738, -14.607329, -13.664922, -12.722513, -11.780105,\n",
       "       -10.837696,  -9.895288,  -8.95288 ,  -8.010471,  -7.068063,  -6.125654,\n",
       "        -5.183246,  -4.240838,  -3.298429,  -2.356021,  -1.413613,  -0.471204,\n",
       "         0.471204,   1.413613,   2.356021,   3.298429,   4.240838,   5.183246,\n",
       "         6.125654,   7.068063,   8.010471,   8.95288 ,   9.895288,  10.837696,\n",
       "        11.780105,  12.722513,  13.664922,  14.607329,  15.549738,  16.492147,\n",
       "        17.434555,  18.376963,  19.319372,  20.26178 ,  21.20419 ,  22.146597,\n",
       "        23.089005,  24.031414,  24.973822,  25.916231,  26.858639,  27.801046,\n",
       "        28.743456,  29.685863,  30.628273,  31.57068 ,  32.51309 ,  33.455498,\n",
       "        34.397907,  35.340313,  36.282722,  37.225132,  38.167538,  39.109947,\n",
       "        40.052357,  40.994766,  41.937172,  42.87958 ,  43.82199 ,  44.764397,\n",
       "        45.706806,  46.649216,  47.59162 ,  48.53403 ,  49.47644 ,  50.41885 ,\n",
       "        51.361256,  52.303665,  53.246075,  54.18848 ,  55.13089 ,  56.0733  ,\n",
       "        57.015705,  57.958115,  58.900524,  59.842934,  60.78534 ,  61.72775 ,\n",
       "        62.67016 ,  63.612564,  64.55498 ,  65.49738 ,  66.43979 ,  67.3822  ,\n",
       "        68.32461 ,  69.26701 ,  70.20943 ,  71.15183 ,  72.09424 ,  73.03665 ,\n",
       "        73.97906 ,  74.92146 ,  75.86388 ,  76.80628 ,  77.74869 ,  78.6911  ,\n",
       "        79.63351 ,  80.57591 ,  81.518326,  82.46073 ,  83.403145,  84.34555 ,\n",
       "        85.28796 ,  86.23037 ,  87.172775,  88.11518 ,  89.057594,  90.      ],\n",
       "      dtype=float32)</pre></div></li></ul></div></li><li class='xr-section-item'><input id='section-eadd579d-71fd-4a4f-875e-8ea58fd312a6' class='xr-section-summary-in' type='checkbox'  checked><label for='section-eadd579d-71fd-4a4f-875e-8ea58fd312a6' class='xr-section-summary' >Data variables: <span>(1)</span></label><div class='xr-section-inline-details'></div><div class='xr-section-details'><ul class='xr-var-list'><li class='xr-var-item'><div class='xr-var-name'><span>location_ID</span></div><div class='xr-var-dims'>(lat, lon)</div><div class='xr-var-dtype'>int64</div><div class='xr-var-preview xr-preview'>...</div><input id='attrs-9f2671b9-5772-42c2-9b5d-8b1f24a3056f' class='xr-var-attrs-in' type='checkbox' disabled><label for='attrs-9f2671b9-5772-42c2-9b5d-8b1f24a3056f' title='Show/Hide attributes'><svg class='icon xr-icon-file-text2'><use xlink:href='#icon-file-text2'></use></svg></label><input id='data-510704a4-cfae-4e44-92f1-186968ef75a2' class='xr-var-data-in' type='checkbox'><label for='data-510704a4-cfae-4e44-92f1-186968ef75a2' title='Show/Hide data repr'><svg class='icon xr-icon-database'><use xlink:href='#icon-database'></use></svg></label><div class='xr-var-attrs'><dl class='xr-attrs'></dl></div><div class='xr-var-data'><pre>[55296 values with dtype=int64]</pre></div></li></ul></div></li><li class='xr-section-item'><input id='section-ef9d5a71-5711-426c-93af-64283913a56e' class='xr-section-summary-in' type='checkbox'  ><label for='section-ef9d5a71-5711-426c-93af-64283913a56e' class='xr-section-summary' >Indexes: <span>(2)</span></label><div class='xr-section-inline-details'></div><div class='xr-section-details'><ul class='xr-var-list'><li class='xr-var-item'><div class='xr-index-name'><div>lon</div></div><div class='xr-index-preview'>PandasIndex</div><div></div><input id='index-18a16071-e87a-4e73-a00c-929c82117e62' class='xr-index-data-in' type='checkbox'/><label for='index-18a16071-e87a-4e73-a00c-929c82117e62' title='Show/Hide index repr'><svg class='icon xr-icon-database'><use xlink:href='#icon-database'></use></svg></label><div class='xr-index-data'><pre>PandasIndex(Index([   0.0,   1.25,    2.5,   3.75,    5.0,   6.25,    7.5,   8.75,   10.0,\n",
       "        11.25,\n",
       "       ...\n",
       "        347.5, 348.75,  350.0, 351.25,  352.5, 353.75,  355.0, 356.25,  357.5,\n",
       "       358.75],\n",
       "      dtype=&#x27;float32&#x27;, name=&#x27;lon&#x27;, length=288))</pre></div></li><li class='xr-var-item'><div class='xr-index-name'><div>lat</div></div><div class='xr-index-preview'>PandasIndex</div><div></div><input id='index-45b68ddc-fb0e-493d-9782-438dee870f0c' class='xr-index-data-in' type='checkbox'/><label for='index-45b68ddc-fb0e-493d-9782-438dee870f0c' title='Show/Hide index repr'><svg class='icon xr-icon-database'><use xlink:href='#icon-database'></use></svg></label><div class='xr-index-data'><pre>PandasIndex(Index([             -90.0,  -89.0575942993164, -88.11518096923828,\n",
       "       -87.17277526855469,  -86.2303695678711, -85.28795623779297,\n",
       "       -84.34555053710938, -83.40314483642578, -82.46073150634766,\n",
       "       -81.51832580566406,\n",
       "       ...\n",
       "        81.51832580566406,  82.46073150634766,  83.40314483642578,\n",
       "        84.34555053710938,  85.28795623779297,   86.2303695678711,\n",
       "        87.17277526855469,  88.11518096923828,   89.0575942993164,\n",
       "                     90.0],\n",
       "      dtype=&#x27;float32&#x27;, name=&#x27;lat&#x27;, length=192))</pre></div></li></ul></div></li><li class='xr-section-item'><input id='section-77b04baf-4af5-4b96-ac6b-79b6f03df3a4' class='xr-section-summary-in' type='checkbox' disabled ><label for='section-77b04baf-4af5-4b96-ac6b-79b6f03df3a4' class='xr-section-summary'  title='Expand/collapse section'>Attributes: <span>(0)</span></label><div class='xr-section-inline-details'></div><div class='xr-section-details'><dl class='xr-attrs'></dl></div></li></ul></div></div>"
      ]
     },
     "execution_count": 4,
     "metadata": {},
     "output_type": "execute_result"
    }
   ],
   "execution_count": 4
  },
  {
   "cell_type": "code",
   "id": "6f232ea1104df706",
   "metadata": {
    "ExecuteTime": {
     "end_time": "2024-05-15T02:40:17.694374Z",
     "start_time": "2024-05-15T02:40:17.558884Z"
    }
   },
   "source": [
    "df_daily_vars = pd.read_excel('../Data/hourlyDataSchema.xlsx')\n",
    "daily_vars =df_daily_vars.loc[df_daily_vars['X_vars2'] == 'Y', 'Variable']\n",
    "daily_var_lst = daily_vars.tolist()\n",
    "daily_var_lst"
   ],
   "outputs": [
    {
     "data": {
      "text/plain": [
       "['EFLX_LH_TOT',\n",
       " 'FGR',\n",
       " 'FIRA',\n",
       " 'FLDS',\n",
       " 'FSA',\n",
       " 'FSDS',\n",
       " 'FSH',\n",
       " 'PBOT',\n",
       " 'Q2M',\n",
       " 'TSA',\n",
       " 'U10']"
      ]
     },
     "execution_count": 5,
     "metadata": {},
     "output_type": "execute_result"
    }
   ],
   "execution_count": 5
  },
  {
   "metadata": {},
   "cell_type": "code",
   "source": "df_daily_vars.info()",
   "id": "3baba68ba8f01fbd",
   "outputs": [],
   "execution_count": null
  },
  {
   "cell_type": "code",
   "id": "56fffe14d680c7d2",
   "metadata": {
    "ExecuteTime": {
     "end_time": "2024-05-15T02:40:24.301116Z",
     "start_time": "2024-05-15T02:40:23.684210Z"
    }
   },
   "source": [
    "# Step 1: Define masks for daytime and nighttime\n",
    "daytime_mask = local_hour_adjusted_df['local_hour'].between(8, 16)\n",
    "nighttime_mask = (local_hour_adjusted_df['local_hour'].between(20, 24) |\n",
    "                  local_hour_adjusted_df['local_hour'].between(0, 4))\n"
   ],
   "outputs": [],
   "execution_count": 6
  },
  {
   "cell_type": "code",
   "id": "2751a2b7f57983e9",
   "metadata": {
    "ExecuteTime": {
     "end_time": "2024-05-14T18:45:53.806897Z",
     "start_time": "2024-05-14T18:45:26.748322Z"
    }
   },
   "source": [
    "daytime_uhi_diff = local_hour_adjusted_df[nighttime_mask]\n",
    "# nighttime_uhi_diff = local_hour_adjusted_df[nighttime_mask]\n",
    "\n",
    "X = daytime_uhi_diff[daily_var_lst]\n",
    "y = daytime_uhi_diff['UHI_diff']"
   ],
   "outputs": [],
   "execution_count": 51
  },
  {
   "cell_type": "code",
   "id": "e37ad43d0f538a1a",
   "metadata": {},
   "source": [
    "X.info()\n",
    "y.info()"
   ],
   "outputs": [],
   "execution_count": null
  },
  {
   "cell_type": "markdown",
   "id": "2098559e2f0f86ce",
   "metadata": {},
   "source": [
    "#  feature selection"
   ]
  },
  {
   "cell_type": "code",
   "id": "9ef81ce0ad4747a5",
   "metadata": {},
   "source": [
    "list(range(X.shape[1]))"
   ],
   "outputs": [],
   "execution_count": null
  },
  {
   "cell_type": "code",
   "id": "6c358fee34f7de49",
   "metadata": {},
   "source": [
    "import catboost\n",
    "from catboost import CatBoostRegressor, Pool, EShapCalcType, EFeaturesSelectionAlgorithm\n",
    "import numpy as np\n",
    "from sklearn.model_selection import train_test_split\n",
    "from sklearn.metrics import mean_squared_error\n",
    "\n",
    "# Split your data into training and validation sets\n",
    "X_train, X_val, y_train, y_val = train_test_split(X, y, test_size=0.2, random_state=42)\n",
    "\n",
    "train_pool = Pool(X_train, y_train)\n",
    "validation_pool = Pool(X_val, y_val)"
   ],
   "outputs": [],
   "execution_count": null
  },
  {
   "metadata": {},
   "cell_type": "code",
   "source": "",
   "id": "f86277c1ac0ed77",
   "outputs": [],
   "execution_count": null
  },
  {
   "metadata": {},
   "cell_type": "code",
   "source": [
    "\n",
    "# import catboost\n",
    "# from catboost import CatBoostRegressor, Pool, EShapCalcType, EFeaturesSelectionAlgorithm\n",
    "# import numpy as np\n",
    "# from sklearn.model_selection import train_test_split\n",
    "# from sklearn.metrics import mean_squared_error\n",
    "# \n",
    "# # Split your data into training and validation sets\n",
    "# X_train, X_val, y_train, y_val = train_test_split(X, y, test_size=0.2, random_state=42)\n",
    "# \n",
    "# train_pool = Pool(X_train, y_train)\n",
    "# validation_pool = Pool(X_val, y_val)\n",
    "\n",
    "# List to store all summaries\n",
    "all_summaries = []\n",
    "\n",
    "# Variables to store the best scores and corresponding number of features\n",
    "best_score = np.inf\n",
    "best_num_features = 0"
   ],
   "id": "63789bad0b90cc5f",
   "outputs": [],
   "execution_count": null
  },
  {
   "metadata": {},
   "cell_type": "code",
   "source": "",
   "id": "1aae4782f14ca586",
   "outputs": [],
   "execution_count": null
  },
  {
   "metadata": {},
   "cell_type": "markdown",
   "source": "#  Running the feature selection algorithm",
   "id": "b8dd3237b02c4cc7"
  },
  {
   "metadata": {},
   "cell_type": "code",
   "source": [
    "\n",
    "# Test different numbers of features\n",
    "for num_features in range(1, X_train.shape[1] + 1):\n",
    "    print(f\"Testing with {num_features} features...\")\n",
    "\n",
    "    # Reinitialize your model for each iteration\n",
    "    model = CatBoostRegressor(\n",
    "        iterations=100,\n",
    "        learning_rate=0.1,\n",
    "        depth=4,\n",
    "        loss_function='RMSE',\n",
    "        verbose=False,\n",
    "        thread_count=58  # Control the number of CPU cores\n",
    "    )\n",
    "\n",
    "    summary = model.select_features(\n",
    "        train_pool,\n",
    "        features_for_select=list(range(X_train.shape[1])),\n",
    "        num_features_to_select=num_features,\n",
    "        steps=num_features-1,  # Adjust this if needed\n",
    "        algorithm=EFeaturesSelectionAlgorithm.RecursiveByShapValues,\n",
    "        shap_calc_type=EShapCalcType.Regular,\n",
    "        train_final_model=True,\n",
    "        eval_set=validation_pool,\n",
    "        logging_level='Silent',\n",
    "        plot=True\n",
    "    )\n",
    "\n",
    "    # Add the summary to the list\n",
    "    all_summaries.append(summary)\n",
    "\n",
    "    # Check if 'model' key exists in the summary\n",
    "    if 'model' in summary:\n",
    "        # Retrieve the model trained with the selected features\n",
    "        selected_features_model = summary['model']\n",
    "\n",
    "        # Evaluate the model\n",
    "        predictions = selected_features_model.predict(validation_pool)\n",
    "        rmse = mean_squared_error(y_val, predictions, squared=False)\n",
    "\n",
    "        print(f\"RMSE for {num_features} features: {rmse}\")\n",
    "\n",
    "        # Update best score and number of features if current model is better\n",
    "        if rmse < best_score:\n",
    "            best_score = rmse\n",
    "            best_num_features = num_features\n",
    "    else:\n",
    "        print(f\"No model was trained with {num_features} features.\")\n",
    "\n",
    "print(f\"Best number of features: {best_num_features} with RMSE: {best_score}\")\n",
    "\n",
    "\n"
   ],
   "id": "2de1b64e31deb50",
   "outputs": [],
   "execution_count": null
  },
  {
   "cell_type": "code",
   "id": "ddf282df57884f09",
   "metadata": {},
   "source": [
    "print(f\"Best number of features: {best_num_features} with RMSE: {best_score}\")"
   ],
   "outputs": [],
   "execution_count": null
  },
  {
   "cell_type": "code",
   "id": "a176f3b8",
   "metadata": {},
   "source": [
    "all_summaries"
   ],
   "outputs": [],
   "execution_count": null
  },
  {
   "cell_type": "code",
   "id": "33bd03fb6e7887ec",
   "metadata": {},
   "source": [],
   "outputs": [],
   "execution_count": null
  },
  {
   "cell_type": "code",
   "id": "9a49a1b0190dbc03",
   "metadata": {},
   "source": [
    "import pandas as pd\n",
    "\n",
    "# Feature names based on your dataset description\n",
    "# daily_var_lst = ['EFLX_LH_TOT', 'FGR', 'FIRA', 'FLDS', 'FSA', 'FSDS', 'FSH', 'PBOT', 'Q2M', 'TSA', 'U10']\n",
    "\n",
    "# Prepare a list to fill the DataFrame\n",
    "data = []\n",
    "\n",
    "# Iterate over each summary in all_summaries\n",
    "for summary in all_summaries:\n",
    "    selected = summary['selected_features_names']\n",
    "    # Create a row for the current summary, marking 'Y' if selected, 'X' otherwise\n",
    "    row = ['Y' if feature in selected else '' for feature in daily_var_lst]\n",
    "    data.append(row)\n",
    "\n",
    "# Create the DataFrame\n",
    "df = pd.DataFrame(data, columns=daily_var_lst)\n",
    "\n",
    "# Display the DataFrame\n",
    "df\n"
   ],
   "outputs": [],
   "execution_count": null
  },
  {
   "cell_type": "code",
   "id": "6167abc0a97e417f",
   "metadata": {
    "ExecuteTime": {
     "end_time": "2024-05-14T17:07:42.551301Z",
     "start_time": "2024-05-14T17:07:42.546224Z"
    }
   },
   "source": [
    "model_cpu = CatBoostRegressor(\n",
    "    iterations=400,\n",
    "    learning_rate=0.1,\n",
    "    depth=6,\n",
    "    loss_function='RMSE',\n",
    "    verbose=False,\n",
    "    thread_count=58  # Control the number of CPU cores\n",
    ")\n",
    "\n"
   ],
   "outputs": [],
   "execution_count": 31
  },
  {
   "cell_type": "code",
   "id": "7c3fcbc2",
   "metadata": {
    "ExecuteTime": {
     "end_time": "2024-05-14T17:29:03.842247Z",
     "start_time": "2024-05-14T17:07:52.109426Z"
    }
   },
   "source": [
    "%time\n",
    "summary = model_cpu.select_features(\n",
    "    train_pool,\n",
    "    features_for_select=daily_var_lst,\n",
    "    num_features_to_select=8,\n",
    "    steps=6-1,  # Adjust this if needed\n",
    "    algorithm=EFeaturesSelectionAlgorithm.RecursiveByShapValues,\n",
    "    shap_calc_type=EShapCalcType.Regular,\n",
    "    train_final_model=True,\n",
    "    eval_set=validation_pool,\n",
    "    logging_level='Silent',\n",
    "    plot=True\n",
    ")"
   ],
   "outputs": [
    {
     "name": "stdout",
     "output_type": "stream",
     "text": [
      "CPU times: user 2 µs, sys: 1e+03 ns, total: 3 µs\n",
      "Wall time: 16 µs\n"
     ]
    },
    {
     "data": {
      "text/plain": [
       "MetricVisualizer(layout=Layout(align_self='stretch', height='500px'))"
      ],
      "application/vnd.jupyter.widget-view+json": {
       "version_major": 2,
       "version_minor": 0,
       "model_id": "5169871b8b6e4cb99ef16f81063c18ce"
      }
     },
     "metadata": {},
     "output_type": "display_data"
    },
    {
     "name": "stderr",
     "output_type": "stream",
     "text": [
      "The number of features selection steps (5) is greater than the number of features to eliminate (3). The number of steps was reduced to 3.\n"
     ]
    },
    {
     "data": {
      "application/vnd.plotly.v1+json": {
       "data": [
        {
         "line": {
          "color": "rgb(51,160,44)"
         },
         "mode": "lines+markers",
         "name": "",
         "text": [
          "",
          "FSA",
          "FLDS",
          "FSDS"
         ],
         "x": [
          0,
          1,
          2,
          3
         ],
         "y": [
          0.39260708971410735,
          0.3924565895235123,
          0.39340286505876226,
          0.3930869593853133
         ],
         "type": "scatter"
        },
        {
         "marker": {
          "size": 10,
          "symbol": "square"
         },
         "mode": "markers",
         "name": "",
         "text": [
          "",
          "FSA",
          "FLDS",
          "FSDS"
         ],
         "x": [
          0,
          1,
          2,
          3
         ],
         "y": [
          0.39260708971410735,
          0.3924565895235123,
          0.39340286505876226,
          0.3930869593853133
         ],
         "type": "scatter"
        },
        {
         "mode": "text",
         "name": "",
         "text": [
          "",
          "4",
          "3",
          "5"
         ],
         "textfont": {
          "color": "rgb(51,160,44)",
          "family": "sans serif",
          "size": 18
         },
         "textposition": "bottom center",
         "visible": false,
         "x": [
          0,
          1,
          2,
          3
         ],
         "y": [
          0.39260708971410735,
          0.3924565895235123,
          0.39340286505876226,
          0.3930869593853133
         ],
         "type": "scatter"
        },
        {
         "mode": "text",
         "name": "",
         "text": [
          "",
          "FSA",
          "FLDS",
          "FSDS"
         ],
         "textfont": {
          "color": "rgb(51,160,44)",
          "family": "sans serif",
          "size": 18
         },
         "textposition": "bottom center",
         "visible": false,
         "x": [
          0,
          1,
          2,
          3
         ],
         "y": [
          0.39260708971410735,
          0.3924565895235123,
          0.39340286505876226,
          0.3930869593853133
         ],
         "type": "scatter"
        }
       ],
       "layout": {
        "template": {
         "data": {
          "histogram2dcontour": [
           {
            "type": "histogram2dcontour",
            "colorbar": {
             "outlinewidth": 0,
             "ticks": ""
            },
            "colorscale": [
             [
              0.0,
              "#0d0887"
             ],
             [
              0.1111111111111111,
              "#46039f"
             ],
             [
              0.2222222222222222,
              "#7201a8"
             ],
             [
              0.3333333333333333,
              "#9c179e"
             ],
             [
              0.4444444444444444,
              "#bd3786"
             ],
             [
              0.5555555555555556,
              "#d8576b"
             ],
             [
              0.6666666666666666,
              "#ed7953"
             ],
             [
              0.7777777777777778,
              "#fb9f3a"
             ],
             [
              0.8888888888888888,
              "#fdca26"
             ],
             [
              1.0,
              "#f0f921"
             ]
            ]
           }
          ],
          "choropleth": [
           {
            "type": "choropleth",
            "colorbar": {
             "outlinewidth": 0,
             "ticks": ""
            }
           }
          ],
          "histogram2d": [
           {
            "type": "histogram2d",
            "colorbar": {
             "outlinewidth": 0,
             "ticks": ""
            },
            "colorscale": [
             [
              0.0,
              "#0d0887"
             ],
             [
              0.1111111111111111,
              "#46039f"
             ],
             [
              0.2222222222222222,
              "#7201a8"
             ],
             [
              0.3333333333333333,
              "#9c179e"
             ],
             [
              0.4444444444444444,
              "#bd3786"
             ],
             [
              0.5555555555555556,
              "#d8576b"
             ],
             [
              0.6666666666666666,
              "#ed7953"
             ],
             [
              0.7777777777777778,
              "#fb9f3a"
             ],
             [
              0.8888888888888888,
              "#fdca26"
             ],
             [
              1.0,
              "#f0f921"
             ]
            ]
           }
          ],
          "heatmap": [
           {
            "type": "heatmap",
            "colorbar": {
             "outlinewidth": 0,
             "ticks": ""
            },
            "colorscale": [
             [
              0.0,
              "#0d0887"
             ],
             [
              0.1111111111111111,
              "#46039f"
             ],
             [
              0.2222222222222222,
              "#7201a8"
             ],
             [
              0.3333333333333333,
              "#9c179e"
             ],
             [
              0.4444444444444444,
              "#bd3786"
             ],
             [
              0.5555555555555556,
              "#d8576b"
             ],
             [
              0.6666666666666666,
              "#ed7953"
             ],
             [
              0.7777777777777778,
              "#fb9f3a"
             ],
             [
              0.8888888888888888,
              "#fdca26"
             ],
             [
              1.0,
              "#f0f921"
             ]
            ]
           }
          ],
          "heatmapgl": [
           {
            "type": "heatmapgl",
            "colorbar": {
             "outlinewidth": 0,
             "ticks": ""
            },
            "colorscale": [
             [
              0.0,
              "#0d0887"
             ],
             [
              0.1111111111111111,
              "#46039f"
             ],
             [
              0.2222222222222222,
              "#7201a8"
             ],
             [
              0.3333333333333333,
              "#9c179e"
             ],
             [
              0.4444444444444444,
              "#bd3786"
             ],
             [
              0.5555555555555556,
              "#d8576b"
             ],
             [
              0.6666666666666666,
              "#ed7953"
             ],
             [
              0.7777777777777778,
              "#fb9f3a"
             ],
             [
              0.8888888888888888,
              "#fdca26"
             ],
             [
              1.0,
              "#f0f921"
             ]
            ]
           }
          ],
          "contourcarpet": [
           {
            "type": "contourcarpet",
            "colorbar": {
             "outlinewidth": 0,
             "ticks": ""
            }
           }
          ],
          "contour": [
           {
            "type": "contour",
            "colorbar": {
             "outlinewidth": 0,
             "ticks": ""
            },
            "colorscale": [
             [
              0.0,
              "#0d0887"
             ],
             [
              0.1111111111111111,
              "#46039f"
             ],
             [
              0.2222222222222222,
              "#7201a8"
             ],
             [
              0.3333333333333333,
              "#9c179e"
             ],
             [
              0.4444444444444444,
              "#bd3786"
             ],
             [
              0.5555555555555556,
              "#d8576b"
             ],
             [
              0.6666666666666666,
              "#ed7953"
             ],
             [
              0.7777777777777778,
              "#fb9f3a"
             ],
             [
              0.8888888888888888,
              "#fdca26"
             ],
             [
              1.0,
              "#f0f921"
             ]
            ]
           }
          ],
          "surface": [
           {
            "type": "surface",
            "colorbar": {
             "outlinewidth": 0,
             "ticks": ""
            },
            "colorscale": [
             [
              0.0,
              "#0d0887"
             ],
             [
              0.1111111111111111,
              "#46039f"
             ],
             [
              0.2222222222222222,
              "#7201a8"
             ],
             [
              0.3333333333333333,
              "#9c179e"
             ],
             [
              0.4444444444444444,
              "#bd3786"
             ],
             [
              0.5555555555555556,
              "#d8576b"
             ],
             [
              0.6666666666666666,
              "#ed7953"
             ],
             [
              0.7777777777777778,
              "#fb9f3a"
             ],
             [
              0.8888888888888888,
              "#fdca26"
             ],
             [
              1.0,
              "#f0f921"
             ]
            ]
           }
          ],
          "mesh3d": [
           {
            "type": "mesh3d",
            "colorbar": {
             "outlinewidth": 0,
             "ticks": ""
            }
           }
          ],
          "scatter": [
           {
            "fillpattern": {
             "fillmode": "overlay",
             "size": 10,
             "solidity": 0.2
            },
            "type": "scatter"
           }
          ],
          "parcoords": [
           {
            "type": "parcoords",
            "line": {
             "colorbar": {
              "outlinewidth": 0,
              "ticks": ""
             }
            }
           }
          ],
          "scatterpolargl": [
           {
            "type": "scatterpolargl",
            "marker": {
             "colorbar": {
              "outlinewidth": 0,
              "ticks": ""
             }
            }
           }
          ],
          "bar": [
           {
            "error_x": {
             "color": "#2a3f5f"
            },
            "error_y": {
             "color": "#2a3f5f"
            },
            "marker": {
             "line": {
              "color": "#E5ECF6",
              "width": 0.5
             },
             "pattern": {
              "fillmode": "overlay",
              "size": 10,
              "solidity": 0.2
             }
            },
            "type": "bar"
           }
          ],
          "scattergeo": [
           {
            "type": "scattergeo",
            "marker": {
             "colorbar": {
              "outlinewidth": 0,
              "ticks": ""
             }
            }
           }
          ],
          "scatterpolar": [
           {
            "type": "scatterpolar",
            "marker": {
             "colorbar": {
              "outlinewidth": 0,
              "ticks": ""
             }
            }
           }
          ],
          "histogram": [
           {
            "marker": {
             "pattern": {
              "fillmode": "overlay",
              "size": 10,
              "solidity": 0.2
             }
            },
            "type": "histogram"
           }
          ],
          "scattergl": [
           {
            "type": "scattergl",
            "marker": {
             "colorbar": {
              "outlinewidth": 0,
              "ticks": ""
             }
            }
           }
          ],
          "scatter3d": [
           {
            "type": "scatter3d",
            "line": {
             "colorbar": {
              "outlinewidth": 0,
              "ticks": ""
             }
            },
            "marker": {
             "colorbar": {
              "outlinewidth": 0,
              "ticks": ""
             }
            }
           }
          ],
          "scattermapbox": [
           {
            "type": "scattermapbox",
            "marker": {
             "colorbar": {
              "outlinewidth": 0,
              "ticks": ""
             }
            }
           }
          ],
          "scatterternary": [
           {
            "type": "scatterternary",
            "marker": {
             "colorbar": {
              "outlinewidth": 0,
              "ticks": ""
             }
            }
           }
          ],
          "scattercarpet": [
           {
            "type": "scattercarpet",
            "marker": {
             "colorbar": {
              "outlinewidth": 0,
              "ticks": ""
             }
            }
           }
          ],
          "carpet": [
           {
            "aaxis": {
             "endlinecolor": "#2a3f5f",
             "gridcolor": "white",
             "linecolor": "white",
             "minorgridcolor": "white",
             "startlinecolor": "#2a3f5f"
            },
            "baxis": {
             "endlinecolor": "#2a3f5f",
             "gridcolor": "white",
             "linecolor": "white",
             "minorgridcolor": "white",
             "startlinecolor": "#2a3f5f"
            },
            "type": "carpet"
           }
          ],
          "table": [
           {
            "cells": {
             "fill": {
              "color": "#EBF0F8"
             },
             "line": {
              "color": "white"
             }
            },
            "header": {
             "fill": {
              "color": "#C8D4E3"
             },
             "line": {
              "color": "white"
             }
            },
            "type": "table"
           }
          ],
          "barpolar": [
           {
            "marker": {
             "line": {
              "color": "#E5ECF6",
              "width": 0.5
             },
             "pattern": {
              "fillmode": "overlay",
              "size": 10,
              "solidity": 0.2
             }
            },
            "type": "barpolar"
           }
          ],
          "pie": [
           {
            "automargin": true,
            "type": "pie"
           }
          ]
         },
         "layout": {
          "autotypenumbers": "strict",
          "colorway": [
           "#636efa",
           "#EF553B",
           "#00cc96",
           "#ab63fa",
           "#FFA15A",
           "#19d3f3",
           "#FF6692",
           "#B6E880",
           "#FF97FF",
           "#FECB52"
          ],
          "font": {
           "color": "#2a3f5f"
          },
          "hovermode": "closest",
          "hoverlabel": {
           "align": "left"
          },
          "paper_bgcolor": "white",
          "plot_bgcolor": "#E5ECF6",
          "polar": {
           "bgcolor": "#E5ECF6",
           "angularaxis": {
            "gridcolor": "white",
            "linecolor": "white",
            "ticks": ""
           },
           "radialaxis": {
            "gridcolor": "white",
            "linecolor": "white",
            "ticks": ""
           }
          },
          "ternary": {
           "bgcolor": "#E5ECF6",
           "aaxis": {
            "gridcolor": "white",
            "linecolor": "white",
            "ticks": ""
           },
           "baxis": {
            "gridcolor": "white",
            "linecolor": "white",
            "ticks": ""
           },
           "caxis": {
            "gridcolor": "white",
            "linecolor": "white",
            "ticks": ""
           }
          },
          "coloraxis": {
           "colorbar": {
            "outlinewidth": 0,
            "ticks": ""
           }
          },
          "colorscale": {
           "sequential": [
            [
             0.0,
             "#0d0887"
            ],
            [
             0.1111111111111111,
             "#46039f"
            ],
            [
             0.2222222222222222,
             "#7201a8"
            ],
            [
             0.3333333333333333,
             "#9c179e"
            ],
            [
             0.4444444444444444,
             "#bd3786"
            ],
            [
             0.5555555555555556,
             "#d8576b"
            ],
            [
             0.6666666666666666,
             "#ed7953"
            ],
            [
             0.7777777777777778,
             "#fb9f3a"
            ],
            [
             0.8888888888888888,
             "#fdca26"
            ],
            [
             1.0,
             "#f0f921"
            ]
           ],
           "sequentialminus": [
            [
             0.0,
             "#0d0887"
            ],
            [
             0.1111111111111111,
             "#46039f"
            ],
            [
             0.2222222222222222,
             "#7201a8"
            ],
            [
             0.3333333333333333,
             "#9c179e"
            ],
            [
             0.4444444444444444,
             "#bd3786"
            ],
            [
             0.5555555555555556,
             "#d8576b"
            ],
            [
             0.6666666666666666,
             "#ed7953"
            ],
            [
             0.7777777777777778,
             "#fb9f3a"
            ],
            [
             0.8888888888888888,
             "#fdca26"
            ],
            [
             1.0,
             "#f0f921"
            ]
           ],
           "diverging": [
            [
             0,
             "#8e0152"
            ],
            [
             0.1,
             "#c51b7d"
            ],
            [
             0.2,
             "#de77ae"
            ],
            [
             0.3,
             "#f1b6da"
            ],
            [
             0.4,
             "#fde0ef"
            ],
            [
             0.5,
             "#f7f7f7"
            ],
            [
             0.6,
             "#e6f5d0"
            ],
            [
             0.7,
             "#b8e186"
            ],
            [
             0.8,
             "#7fbc41"
            ],
            [
             0.9,
             "#4d9221"
            ],
            [
             1,
             "#276419"
            ]
           ]
          },
          "xaxis": {
           "gridcolor": "white",
           "linecolor": "white",
           "ticks": "",
           "title": {
            "standoff": 15
           },
           "zerolinecolor": "white",
           "automargin": true,
           "zerolinewidth": 2
          },
          "yaxis": {
           "gridcolor": "white",
           "linecolor": "white",
           "ticks": "",
           "title": {
            "standoff": 15
           },
           "zerolinecolor": "white",
           "automargin": true,
           "zerolinewidth": 2
          },
          "scene": {
           "xaxis": {
            "backgroundcolor": "#E5ECF6",
            "gridcolor": "white",
            "linecolor": "white",
            "showbackground": true,
            "ticks": "",
            "zerolinecolor": "white",
            "gridwidth": 2
           },
           "yaxis": {
            "backgroundcolor": "#E5ECF6",
            "gridcolor": "white",
            "linecolor": "white",
            "showbackground": true,
            "ticks": "",
            "zerolinecolor": "white",
            "gridwidth": 2
           },
           "zaxis": {
            "backgroundcolor": "#E5ECF6",
            "gridcolor": "white",
            "linecolor": "white",
            "showbackground": true,
            "ticks": "",
            "zerolinecolor": "white",
            "gridwidth": 2
           }
          },
          "shapedefaults": {
           "line": {
            "color": "#2a3f5f"
           }
          },
          "annotationdefaults": {
           "arrowcolor": "#2a3f5f",
           "arrowhead": 0,
           "arrowwidth": 1
          },
          "geo": {
           "bgcolor": "white",
           "landcolor": "#E5ECF6",
           "subunitcolor": "white",
           "showland": true,
           "showlakes": true,
           "lakecolor": "white"
          },
          "title": {
           "x": 0.05
          },
          "mapbox": {
           "style": "light"
          }
         }
        },
        "title": {
         "text": "Loss by eliminated features"
        },
        "xaxis": {
         "title": {
          "text": "number of removed features"
         },
         "gridcolor": "rgb(255,255,255)",
         "showgrid": true,
         "showline": false,
         "showticklabels": true,
         "tickcolor": "rgb(127,127,127)",
         "ticks": "outside",
         "zeroline": false
        },
        "yaxis": {
         "title": {
          "text": "loss value",
          "font": {
           "color": "rgb(51,160,44)"
          }
         },
         "tickfont": {
          "color": "rgb(51,160,44)"
         },
         "gridcolor": "rgb(255,255,255)",
         "showgrid": true,
         "showline": false,
         "showticklabels": true,
         "tickcolor": "rgb(127,127,127)",
         "ticks": "outside",
         "zeroline": false
        },
        "updatemenus": [
         {
          "active": 0,
          "buttons": [
           {
            "args": [
             {
              "visible": [
               true,
               true,
               false,
               false
              ]
             }
            ],
            "label": "Hide features",
            "method": "update"
           },
           {
            "args": [
             {
              "visible": [
               true,
               true,
               true,
               false
              ]
             }
            ],
            "label": "Show indices",
            "method": "update"
           },
           {
            "args": [
             {
              "visible": [
               true,
               true,
               false,
               true
              ]
             }
            ],
            "label": "Show names",
            "method": "update"
           }
          ],
          "pad": {
           "r": 10,
           "t": 10
          },
          "showactive": true,
          "x": -0.25,
          "xanchor": "left",
          "y": 1.03,
          "yanchor": "top"
         }
        ],
        "showlegend": false
       },
       "config": {
        "plotlyServerURL": "https://plot.ly"
       }
      },
      "text/html": [
       "<div>                            <div id=\"0715419c-79f2-42c7-8f9f-41492fee5c72\" class=\"plotly-graph-div\" style=\"height:525px; width:100%;\"></div>            <script type=\"text/javascript\">                require([\"plotly\"], function(Plotly) {                    window.PLOTLYENV=window.PLOTLYENV || {};                                    if (document.getElementById(\"0715419c-79f2-42c7-8f9f-41492fee5c72\")) {                    Plotly.newPlot(                        \"0715419c-79f2-42c7-8f9f-41492fee5c72\",                        [{\"line\":{\"color\":\"rgb(51,160,44)\"},\"mode\":\"lines+markers\",\"name\":\"\",\"text\":[\"\",\"FSA\",\"FLDS\",\"FSDS\"],\"x\":[0,1,2,3],\"y\":[0.39260708971410735,0.3924565895235123,0.39340286505876226,0.3930869593853133],\"type\":\"scatter\"},{\"marker\":{\"size\":10,\"symbol\":\"square\"},\"mode\":\"markers\",\"name\":\"\",\"text\":[\"\",\"FSA\",\"FLDS\",\"FSDS\"],\"x\":[0,1,2,3],\"y\":[0.39260708971410735,0.3924565895235123,0.39340286505876226,0.3930869593853133],\"type\":\"scatter\"},{\"mode\":\"text\",\"name\":\"\",\"text\":[\"\",\"4\",\"3\",\"5\"],\"textfont\":{\"color\":\"rgb(51,160,44)\",\"family\":\"sans serif\",\"size\":18},\"textposition\":\"bottom center\",\"visible\":false,\"x\":[0,1,2,3],\"y\":[0.39260708971410735,0.3924565895235123,0.39340286505876226,0.3930869593853133],\"type\":\"scatter\"},{\"mode\":\"text\",\"name\":\"\",\"text\":[\"\",\"FSA\",\"FLDS\",\"FSDS\"],\"textfont\":{\"color\":\"rgb(51,160,44)\",\"family\":\"sans serif\",\"size\":18},\"textposition\":\"bottom center\",\"visible\":false,\"x\":[0,1,2,3],\"y\":[0.39260708971410735,0.3924565895235123,0.39340286505876226,0.3930869593853133],\"type\":\"scatter\"}],                        {\"template\":{\"data\":{\"histogram2dcontour\":[{\"type\":\"histogram2dcontour\",\"colorbar\":{\"outlinewidth\":0,\"ticks\":\"\"},\"colorscale\":[[0.0,\"#0d0887\"],[0.1111111111111111,\"#46039f\"],[0.2222222222222222,\"#7201a8\"],[0.3333333333333333,\"#9c179e\"],[0.4444444444444444,\"#bd3786\"],[0.5555555555555556,\"#d8576b\"],[0.6666666666666666,\"#ed7953\"],[0.7777777777777778,\"#fb9f3a\"],[0.8888888888888888,\"#fdca26\"],[1.0,\"#f0f921\"]]}],\"choropleth\":[{\"type\":\"choropleth\",\"colorbar\":{\"outlinewidth\":0,\"ticks\":\"\"}}],\"histogram2d\":[{\"type\":\"histogram2d\",\"colorbar\":{\"outlinewidth\":0,\"ticks\":\"\"},\"colorscale\":[[0.0,\"#0d0887\"],[0.1111111111111111,\"#46039f\"],[0.2222222222222222,\"#7201a8\"],[0.3333333333333333,\"#9c179e\"],[0.4444444444444444,\"#bd3786\"],[0.5555555555555556,\"#d8576b\"],[0.6666666666666666,\"#ed7953\"],[0.7777777777777778,\"#fb9f3a\"],[0.8888888888888888,\"#fdca26\"],[1.0,\"#f0f921\"]]}],\"heatmap\":[{\"type\":\"heatmap\",\"colorbar\":{\"outlinewidth\":0,\"ticks\":\"\"},\"colorscale\":[[0.0,\"#0d0887\"],[0.1111111111111111,\"#46039f\"],[0.2222222222222222,\"#7201a8\"],[0.3333333333333333,\"#9c179e\"],[0.4444444444444444,\"#bd3786\"],[0.5555555555555556,\"#d8576b\"],[0.6666666666666666,\"#ed7953\"],[0.7777777777777778,\"#fb9f3a\"],[0.8888888888888888,\"#fdca26\"],[1.0,\"#f0f921\"]]}],\"heatmapgl\":[{\"type\":\"heatmapgl\",\"colorbar\":{\"outlinewidth\":0,\"ticks\":\"\"},\"colorscale\":[[0.0,\"#0d0887\"],[0.1111111111111111,\"#46039f\"],[0.2222222222222222,\"#7201a8\"],[0.3333333333333333,\"#9c179e\"],[0.4444444444444444,\"#bd3786\"],[0.5555555555555556,\"#d8576b\"],[0.6666666666666666,\"#ed7953\"],[0.7777777777777778,\"#fb9f3a\"],[0.8888888888888888,\"#fdca26\"],[1.0,\"#f0f921\"]]}],\"contourcarpet\":[{\"type\":\"contourcarpet\",\"colorbar\":{\"outlinewidth\":0,\"ticks\":\"\"}}],\"contour\":[{\"type\":\"contour\",\"colorbar\":{\"outlinewidth\":0,\"ticks\":\"\"},\"colorscale\":[[0.0,\"#0d0887\"],[0.1111111111111111,\"#46039f\"],[0.2222222222222222,\"#7201a8\"],[0.3333333333333333,\"#9c179e\"],[0.4444444444444444,\"#bd3786\"],[0.5555555555555556,\"#d8576b\"],[0.6666666666666666,\"#ed7953\"],[0.7777777777777778,\"#fb9f3a\"],[0.8888888888888888,\"#fdca26\"],[1.0,\"#f0f921\"]]}],\"surface\":[{\"type\":\"surface\",\"colorbar\":{\"outlinewidth\":0,\"ticks\":\"\"},\"colorscale\":[[0.0,\"#0d0887\"],[0.1111111111111111,\"#46039f\"],[0.2222222222222222,\"#7201a8\"],[0.3333333333333333,\"#9c179e\"],[0.4444444444444444,\"#bd3786\"],[0.5555555555555556,\"#d8576b\"],[0.6666666666666666,\"#ed7953\"],[0.7777777777777778,\"#fb9f3a\"],[0.8888888888888888,\"#fdca26\"],[1.0,\"#f0f921\"]]}],\"mesh3d\":[{\"type\":\"mesh3d\",\"colorbar\":{\"outlinewidth\":0,\"ticks\":\"\"}}],\"scatter\":[{\"fillpattern\":{\"fillmode\":\"overlay\",\"size\":10,\"solidity\":0.2},\"type\":\"scatter\"}],\"parcoords\":[{\"type\":\"parcoords\",\"line\":{\"colorbar\":{\"outlinewidth\":0,\"ticks\":\"\"}}}],\"scatterpolargl\":[{\"type\":\"scatterpolargl\",\"marker\":{\"colorbar\":{\"outlinewidth\":0,\"ticks\":\"\"}}}],\"bar\":[{\"error_x\":{\"color\":\"#2a3f5f\"},\"error_y\":{\"color\":\"#2a3f5f\"},\"marker\":{\"line\":{\"color\":\"#E5ECF6\",\"width\":0.5},\"pattern\":{\"fillmode\":\"overlay\",\"size\":10,\"solidity\":0.2}},\"type\":\"bar\"}],\"scattergeo\":[{\"type\":\"scattergeo\",\"marker\":{\"colorbar\":{\"outlinewidth\":0,\"ticks\":\"\"}}}],\"scatterpolar\":[{\"type\":\"scatterpolar\",\"marker\":{\"colorbar\":{\"outlinewidth\":0,\"ticks\":\"\"}}}],\"histogram\":[{\"marker\":{\"pattern\":{\"fillmode\":\"overlay\",\"size\":10,\"solidity\":0.2}},\"type\":\"histogram\"}],\"scattergl\":[{\"type\":\"scattergl\",\"marker\":{\"colorbar\":{\"outlinewidth\":0,\"ticks\":\"\"}}}],\"scatter3d\":[{\"type\":\"scatter3d\",\"line\":{\"colorbar\":{\"outlinewidth\":0,\"ticks\":\"\"}},\"marker\":{\"colorbar\":{\"outlinewidth\":0,\"ticks\":\"\"}}}],\"scattermapbox\":[{\"type\":\"scattermapbox\",\"marker\":{\"colorbar\":{\"outlinewidth\":0,\"ticks\":\"\"}}}],\"scatterternary\":[{\"type\":\"scatterternary\",\"marker\":{\"colorbar\":{\"outlinewidth\":0,\"ticks\":\"\"}}}],\"scattercarpet\":[{\"type\":\"scattercarpet\",\"marker\":{\"colorbar\":{\"outlinewidth\":0,\"ticks\":\"\"}}}],\"carpet\":[{\"aaxis\":{\"endlinecolor\":\"#2a3f5f\",\"gridcolor\":\"white\",\"linecolor\":\"white\",\"minorgridcolor\":\"white\",\"startlinecolor\":\"#2a3f5f\"},\"baxis\":{\"endlinecolor\":\"#2a3f5f\",\"gridcolor\":\"white\",\"linecolor\":\"white\",\"minorgridcolor\":\"white\",\"startlinecolor\":\"#2a3f5f\"},\"type\":\"carpet\"}],\"table\":[{\"cells\":{\"fill\":{\"color\":\"#EBF0F8\"},\"line\":{\"color\":\"white\"}},\"header\":{\"fill\":{\"color\":\"#C8D4E3\"},\"line\":{\"color\":\"white\"}},\"type\":\"table\"}],\"barpolar\":[{\"marker\":{\"line\":{\"color\":\"#E5ECF6\",\"width\":0.5},\"pattern\":{\"fillmode\":\"overlay\",\"size\":10,\"solidity\":0.2}},\"type\":\"barpolar\"}],\"pie\":[{\"automargin\":true,\"type\":\"pie\"}]},\"layout\":{\"autotypenumbers\":\"strict\",\"colorway\":[\"#636efa\",\"#EF553B\",\"#00cc96\",\"#ab63fa\",\"#FFA15A\",\"#19d3f3\",\"#FF6692\",\"#B6E880\",\"#FF97FF\",\"#FECB52\"],\"font\":{\"color\":\"#2a3f5f\"},\"hovermode\":\"closest\",\"hoverlabel\":{\"align\":\"left\"},\"paper_bgcolor\":\"white\",\"plot_bgcolor\":\"#E5ECF6\",\"polar\":{\"bgcolor\":\"#E5ECF6\",\"angularaxis\":{\"gridcolor\":\"white\",\"linecolor\":\"white\",\"ticks\":\"\"},\"radialaxis\":{\"gridcolor\":\"white\",\"linecolor\":\"white\",\"ticks\":\"\"}},\"ternary\":{\"bgcolor\":\"#E5ECF6\",\"aaxis\":{\"gridcolor\":\"white\",\"linecolor\":\"white\",\"ticks\":\"\"},\"baxis\":{\"gridcolor\":\"white\",\"linecolor\":\"white\",\"ticks\":\"\"},\"caxis\":{\"gridcolor\":\"white\",\"linecolor\":\"white\",\"ticks\":\"\"}},\"coloraxis\":{\"colorbar\":{\"outlinewidth\":0,\"ticks\":\"\"}},\"colorscale\":{\"sequential\":[[0.0,\"#0d0887\"],[0.1111111111111111,\"#46039f\"],[0.2222222222222222,\"#7201a8\"],[0.3333333333333333,\"#9c179e\"],[0.4444444444444444,\"#bd3786\"],[0.5555555555555556,\"#d8576b\"],[0.6666666666666666,\"#ed7953\"],[0.7777777777777778,\"#fb9f3a\"],[0.8888888888888888,\"#fdca26\"],[1.0,\"#f0f921\"]],\"sequentialminus\":[[0.0,\"#0d0887\"],[0.1111111111111111,\"#46039f\"],[0.2222222222222222,\"#7201a8\"],[0.3333333333333333,\"#9c179e\"],[0.4444444444444444,\"#bd3786\"],[0.5555555555555556,\"#d8576b\"],[0.6666666666666666,\"#ed7953\"],[0.7777777777777778,\"#fb9f3a\"],[0.8888888888888888,\"#fdca26\"],[1.0,\"#f0f921\"]],\"diverging\":[[0,\"#8e0152\"],[0.1,\"#c51b7d\"],[0.2,\"#de77ae\"],[0.3,\"#f1b6da\"],[0.4,\"#fde0ef\"],[0.5,\"#f7f7f7\"],[0.6,\"#e6f5d0\"],[0.7,\"#b8e186\"],[0.8,\"#7fbc41\"],[0.9,\"#4d9221\"],[1,\"#276419\"]]},\"xaxis\":{\"gridcolor\":\"white\",\"linecolor\":\"white\",\"ticks\":\"\",\"title\":{\"standoff\":15},\"zerolinecolor\":\"white\",\"automargin\":true,\"zerolinewidth\":2},\"yaxis\":{\"gridcolor\":\"white\",\"linecolor\":\"white\",\"ticks\":\"\",\"title\":{\"standoff\":15},\"zerolinecolor\":\"white\",\"automargin\":true,\"zerolinewidth\":2},\"scene\":{\"xaxis\":{\"backgroundcolor\":\"#E5ECF6\",\"gridcolor\":\"white\",\"linecolor\":\"white\",\"showbackground\":true,\"ticks\":\"\",\"zerolinecolor\":\"white\",\"gridwidth\":2},\"yaxis\":{\"backgroundcolor\":\"#E5ECF6\",\"gridcolor\":\"white\",\"linecolor\":\"white\",\"showbackground\":true,\"ticks\":\"\",\"zerolinecolor\":\"white\",\"gridwidth\":2},\"zaxis\":{\"backgroundcolor\":\"#E5ECF6\",\"gridcolor\":\"white\",\"linecolor\":\"white\",\"showbackground\":true,\"ticks\":\"\",\"zerolinecolor\":\"white\",\"gridwidth\":2}},\"shapedefaults\":{\"line\":{\"color\":\"#2a3f5f\"}},\"annotationdefaults\":{\"arrowcolor\":\"#2a3f5f\",\"arrowhead\":0,\"arrowwidth\":1},\"geo\":{\"bgcolor\":\"white\",\"landcolor\":\"#E5ECF6\",\"subunitcolor\":\"white\",\"showland\":true,\"showlakes\":true,\"lakecolor\":\"white\"},\"title\":{\"x\":0.05},\"mapbox\":{\"style\":\"light\"}}},\"title\":{\"text\":\"Loss by eliminated features\"},\"xaxis\":{\"title\":{\"text\":\"number of removed features\"},\"gridcolor\":\"rgb(255,255,255)\",\"showgrid\":true,\"showline\":false,\"showticklabels\":true,\"tickcolor\":\"rgb(127,127,127)\",\"ticks\":\"outside\",\"zeroline\":false},\"yaxis\":{\"title\":{\"text\":\"loss value\",\"font\":{\"color\":\"rgb(51,160,44)\"}},\"tickfont\":{\"color\":\"rgb(51,160,44)\"},\"gridcolor\":\"rgb(255,255,255)\",\"showgrid\":true,\"showline\":false,\"showticklabels\":true,\"tickcolor\":\"rgb(127,127,127)\",\"ticks\":\"outside\",\"zeroline\":false},\"updatemenus\":[{\"active\":0,\"buttons\":[{\"args\":[{\"visible\":[true,true,false,false]}],\"label\":\"Hide features\",\"method\":\"update\"},{\"args\":[{\"visible\":[true,true,true,false]}],\"label\":\"Show indices\",\"method\":\"update\"},{\"args\":[{\"visible\":[true,true,false,true]}],\"label\":\"Show names\",\"method\":\"update\"}],\"pad\":{\"r\":10,\"t\":10},\"showactive\":true,\"x\":-0.25,\"xanchor\":\"left\",\"y\":1.03,\"yanchor\":\"top\"}],\"showlegend\":false},                        {\"responsive\": true}                    ).then(function(){\n",
       "                            \n",
       "var gd = document.getElementById('0715419c-79f2-42c7-8f9f-41492fee5c72');\n",
       "var x = new MutationObserver(function (mutations, observer) {{\n",
       "        var display = window.getComputedStyle(gd).display;\n",
       "        if (!display || display === 'none') {{\n",
       "            console.log([gd, 'removed!']);\n",
       "            Plotly.purge(gd);\n",
       "            observer.disconnect();\n",
       "        }}\n",
       "}});\n",
       "\n",
       "// Listen for the removal of the full notebook cells\n",
       "var notebookContainer = gd.closest('#notebook-container');\n",
       "if (notebookContainer) {{\n",
       "    x.observe(notebookContainer, {childList: true});\n",
       "}}\n",
       "\n",
       "// Listen for the clearing of the current output cell\n",
       "var outputEl = gd.closest('.output');\n",
       "if (outputEl) {{\n",
       "    x.observe(outputEl, {childList: true});\n",
       "}}\n",
       "\n",
       "                        })                };                });            </script>        </div>"
      ]
     },
     "metadata": {},
     "output_type": "display_data"
    }
   ],
   "execution_count": 32
  },
  {
   "cell_type": "code",
   "id": "6e5d2e01",
   "metadata": {},
   "source": [
    "# model_gpu = CatBoostRegressor(\n",
    "#     iterations=300,\n",
    "#     learning_rate=0.1,\n",
    "#     depth=6,\n",
    "#     loss_function='RMSE',\n",
    "#     verbose=False,\n",
    "#     thread_count=58,  # Control the number of CPU cores\n",
    "#     task_type=\"GPU\"\n",
    "# )"
   ],
   "outputs": [],
   "execution_count": null
  },
  {
   "cell_type": "code",
   "id": "aeb0a644",
   "metadata": {},
   "source": [
    "\n",
    "# summary = model_gpu.select_features(\n",
    "#     train_pool,\n",
    "#     features_for_select=daily_var_lst,\n",
    "#     num_features_to_select=8,\n",
    "#     steps=5,  # Adjust this if needed\n",
    "#     algorithm=EFeaturesSelectionAlgorithm.RecursiveByShapValues,\n",
    "#     shap_calc_type=EShapCalcType.Regular,\n",
    "#     train_final_model=True,\n",
    "#     eval_set=validation_pool,\n",
    "#     logging_level='Silent',\n",
    "#     plot=True\n",
    "# )"
   ],
   "outputs": [],
   "execution_count": null
  },
  {
   "metadata": {},
   "cell_type": "code",
   "source": "summary",
   "id": "ae1c6967b9db7cb2",
   "outputs": [],
   "execution_count": null
  },
  {
   "metadata": {
    "ExecuteTime": {
     "end_time": "2024-05-14T17:48:23.800302Z",
     "start_time": "2024-05-14T17:48:23.796395Z"
    }
   },
   "cell_type": "code",
   "source": [
    "selected_feature_list = summary['selected_features_names']\n",
    "selected_feature_list"
   ],
   "id": "71dc7969ede79bcc",
   "outputs": [
    {
     "data": {
      "text/plain": [
       "['EFLX_LH_TOT', 'FGR', 'FIRA', 'FSH', 'PBOT', 'Q2M', 'TSA', 'U10']"
      ]
     },
     "execution_count": 33,
     "metadata": {},
     "output_type": "execute_result"
    }
   ],
   "execution_count": 33
  },
  {
   "cell_type": "code",
   "id": "537475ac",
   "metadata": {
    "ExecuteTime": {
     "end_time": "2024-05-14T17:48:39.627603Z",
     "start_time": "2024-05-14T17:48:33.986807Z"
    }
   },
   "source": [
    "# Calculate feature importance using SHAP values comparing against reference data\n",
    "importances = model_cpu.get_feature_importance(\n",
    "    data=validation_pool,\n",
    "    type='FeatureImportance',\n",
    "    #reference_data=train_pool\n",
    ")\n",
    "importances\n"
   ],
   "outputs": [],
   "execution_count": 34
  },
  {
   "cell_type": "code",
   "id": "b2847e83",
   "metadata": {
    "ExecuteTime": {
     "end_time": "2024-05-14T17:48:59.316062Z",
     "start_time": "2024-05-14T17:48:59.311516Z"
    }
   },
   "source": "importances\n",
   "outputs": [
    {
     "data": {
      "text/plain": [
       "array([14.77142729,  7.11823052, 11.46299815,  0.        ,  0.        ,\n",
       "        0.        , 17.5737481 ,  7.20930641, 16.80543992,  6.72963179,\n",
       "       18.32921781])"
      ]
     },
     "execution_count": 35,
     "metadata": {},
     "output_type": "execute_result"
    }
   ],
   "execution_count": 35
  },
  {
   "metadata": {
    "ExecuteTime": {
     "end_time": "2024-05-14T17:49:08.850085Z",
     "start_time": "2024-05-14T17:49:08.845787Z"
    }
   },
   "cell_type": "code",
   "source": [
    "# Assuming you have a list of feature names corresponding to the columns in your data\n",
    "feature_names = validation_pool.get_feature_names()\n",
    "# Assuming 'ShortName' is the column with the feature codes, and 'LongName' is the column with the descriptions\n",
    "feature_name_mapping = pd.Series(df_daily_vars['Long Name'].values, index=df_daily_vars['Variable']).to_dict()\n",
    "# feature_name_mapping\n",
    "long_feature_names = [feature_name_mapping.get(name, \"Unknown Feature\") for name in feature_names]\n",
    "# long_feature_names\n",
    "# Create a DataFrame for easy plotting\n",
    "# Create a DataFrame for the importances\n",
    "importance_df = pd.DataFrame({\n",
    "    'Feature': feature_names,\n",
    "    'Importance': importances,\n",
    "    'Long Name': long_feature_names\n",
    "})"
   ],
   "id": "58cc84c77de29266",
   "outputs": [],
   "execution_count": 36
  },
  {
   "metadata": {},
   "cell_type": "code",
   "source": "importance_df",
   "id": "896b20a0c04e386",
   "outputs": [],
   "execution_count": null
  },
  {
   "cell_type": "code",
   "id": "31f1063f",
   "metadata": {
    "ExecuteTime": {
     "end_time": "2024-05-14T17:49:18.090186Z",
     "start_time": "2024-05-14T17:49:17.980858Z"
    }
   },
   "source": [
    "import numpy as np\n",
    "import matplotlib.pyplot as plt\n",
    "importance_df.sort_values(by='Importance', ascending=True, inplace=True)\n",
    "\n",
    "# Cumulative sums for the waterfall effect\n",
    "importance_df['Start'] = importance_df['Importance'].cumsum() - importance_df['Importance']\n",
    "importance_df['End'] = importance_df['Importance'].cumsum()\n",
    "\n",
    "# Setup plot\n",
    "fig, ax = plt.subplots(figsize=(10, 8))\n",
    "\n",
    "# Adding bars for each feature\n",
    "for index, row in importance_df.iterrows():\n",
    "    ax.barh(row['Feature'] + ' (' + row['Long Name'] + ')', row['Importance'], left=row['Start'],\n",
    "            color='red' if row['Importance'] >= 0 else 'blue')\n",
    "    \n",
    "# Plot styling to match the example\n",
    "ax.axvline(x=0, color='grey', linewidth=0.8)\n",
    "ax.set_xlabel('Effect on Model Output')\n",
    "ax.set_title('Waterfall Plot of Feature Importances')\n",
    "plt.grid(True, axis='x', linestyle='--', linewidth=0.5)\n",
    "plt.show()"
   ],
   "outputs": [
    {
     "data": {
      "text/plain": [
       "<Figure size 1000x800 with 1 Axes>"
      ],
      "image/png": "[encoded data removed]"
     },
     "metadata": {},
     "output_type": "display_data"
    }
   ],
   "execution_count": 37
  },
  {
   "metadata": {},
   "cell_type": "markdown",
   "source": "#   SHAP waterfall plot",
   "id": "1245869bffc253ae"
  },
  {
   "metadata": {
    "ExecuteTime": {
     "end_time": "2024-05-14T17:50:12.102265Z",
     "start_time": "2024-05-14T17:49:27.138618Z"
    }
   },
   "cell_type": "code",
   "source": [
    "import shap\n",
    "\n",
    "# Create an object that can calculate shap values\n",
    "explainer = shap.TreeExplainer(model_cpu, feature_names=long_feature_names)\n",
    "\n",
    "# Calculate SHAP values for the validation dataset\n",
    "# You can choose a specific instance by indexing into the validation pool, e.g., validation_pool[0]\n",
    "shap_values = explainer.shap_values(validation_pool)\n",
    "shap_values"
   ],
   "id": "86614fb800c9b74f",
   "outputs": [],
   "execution_count": 38
  },
  {
   "metadata": {
    "ExecuteTime": {
     "end_time": "2024-05-14T17:50:38.514416Z",
     "start_time": "2024-05-14T17:50:38.509995Z"
    }
   },
   "cell_type": "code",
   "source": "shap_values",
   "id": "957025a00d96634e",
   "outputs": [
    {
     "data": {
      "text/plain": [
       "array([[-0.02858489,  0.06589747, -0.01804325, ...,  0.00901959,\n",
       "         0.02767394, -0.13139374],\n",
       "       [ 0.07879633, -0.06621213, -0.00795809, ...,  0.00975571,\n",
       "        -0.0088763 ,  0.03825663],\n",
       "       [ 0.00943956,  0.10595364,  0.15973101, ...,  0.02361819,\n",
       "        -0.03254848, -0.11885683],\n",
       "       ...,\n",
       "       [-0.05822923, -0.01984935, -0.00490305, ...,  0.03994339,\n",
       "         0.00472559, -0.0372687 ],\n",
       "       [-0.06899672, -0.07344374, -0.03019772, ...,  0.04205965,\n",
       "         0.00132351,  0.08633708],\n",
       "       [-0.05092103, -0.00633846, -0.01799915, ...,  0.00117908,\n",
       "         0.01602888, -0.05573582]])"
      ]
     },
     "execution_count": 39,
     "metadata": {},
     "output_type": "execute_result"
    }
   ],
   "execution_count": 39
  },
  {
   "metadata": {
    "ExecuteTime": {
     "end_time": "2024-05-14T17:50:51.563329Z",
     "start_time": "2024-05-14T17:50:47.878393Z"
    }
   },
   "cell_type": "code",
   "source": [
    "\n",
    "# Plot the SHAP values for the first instance in the validation dataset\n",
    "shap.waterfall_plot(shap.Explanation(importances, base_values=explainer.expected_value, data=validation_pool.get_features()[0], feature_names=validation_pool.get_feature_names()))\n",
    "\n"
   ],
   "id": "422743cbc95dc368",
   "outputs": [
    {
     "data": {
      "text/plain": [
       "<Figure size 800x650 with 3 Axes>"
      ],
      "image/png": "[encoded data removed]"
     },
     "metadata": {},
     "output_type": "display_data"
    }
   ],
   "execution_count": 40
  },
  {
   "metadata": {
    "ExecuteTime": {
     "end_time": "2024-05-14T18:17:27.321058Z",
     "start_time": "2024-05-14T18:12:32.848230Z"
    }
   },
   "cell_type": "code",
   "source": [
    "from catboost import CatBoostRegressor\n",
    "\n",
    "# Initialize the CatBoostRegressor (or CatBoostClassifier, depending on your task)\n",
    "model_all_cols = CatBoostRegressor(iterations=1000,\n",
    "                          learning_rate=0.05,\n",
    "                          depth=5,\n",
    "                          loss_function='RMSE',\n",
    "                          eval_metric='RMSE',\n",
    "                          random_seed=42,\n",
    "                          verbose=False)\n",
    "\n",
    "# Train the model\n",
    "model_all_cols.fit(X_train, y_train,\n",
    "          eval_set=(X_val, y_val),\n",
    "          use_best_model=True,\n",
    "          early_stopping_rounds=50)\n"
   ],
   "id": "2f4d43d42e746343",
   "outputs": [
    {
     "data": {
      "text/plain": [
       "<catboost.core.CatBoostRegressor at 0x93d7f0110>"
      ]
     },
     "execution_count": 41,
     "metadata": {},
     "output_type": "execute_result"
    }
   ],
   "execution_count": 41
  },
  {
   "metadata": {
    "ExecuteTime": {
     "end_time": "2024-05-14T18:20:28.076280Z",
     "start_time": "2024-05-14T18:19:14.034364Z"
    }
   },
   "cell_type": "code",
   "source": [
    "import shap\n",
    "\n",
    "# Create an object that can calculate shap values\n",
    "explainer = shap.TreeExplainer(model_all_cols, feature_names=long_feature_names)\n",
    "\n",
    "# Calculate SHAP values for the validation dataset\n",
    "# You can choose a specific instance by indexing into the validation pool, e.g., validation_pool[0]\n",
    "shap_values = explainer.shap_values(validation_pool)\n",
    "shap_values\n",
    "shap.waterfall_plot(shap.Explanation(importances, base_values=explainer.expected_value, data=validation_pool.get_features()[0], feature_names=validation_pool.get_feature_names()))"
   ],
   "id": "3cf4d644dcc9d636",
   "outputs": [
    {
     "data": {
      "text/plain": [
       "<Figure size 800x650 with 3 Axes>"
      ],
      "image/png": "[encoded data removed]"
     },
     "metadata": {},
     "output_type": "display_data"
    }
   ],
   "execution_count": 42
  },
  {
   "metadata": {},
   "cell_type": "markdown",
   "source": "#  Night Data",
   "id": "130526746b93ad39"
  },
  {
   "metadata": {
    "ExecuteTime": {
     "end_time": "2024-05-14T19:16:34.506230Z",
     "start_time": "2024-05-14T19:16:34.500761Z"
    }
   },
   "cell_type": "code",
   "source": [
    "import numpy as np\n",
    "import pandas as pd\n",
    "from sklearn.model_selection import train_test_split\n",
    "from sklearn.metrics import mean_squared_error\n",
    "from catboost import CatBoostRegressor, Pool\n",
    "import shap\n",
    "\n",
    "def train_and_evaluate(local_hour_adjusted_df, time_mask, daily_var_lst, long_feature_names):\n",
    "    # Filter dataframe for daytime data\n",
    "    time_uhi_diff = local_hour_adjusted_df[time_mask]\n",
    "\n",
    "    # Select features and target\n",
    "    X = time_uhi_diff[daily_var_lst]\n",
    "    y = time_uhi_diff['UHI_diff']\n",
    "\n",
    "    # Split the data into training and validation sets\n",
    "    X_train, X_val, y_train, y_val = train_test_split(X, y, test_size=0.2, random_state=42)\n",
    "    train_pool = Pool(X_train, y_train)\n",
    "    validation_pool = Pool(X_val, y_val)\n",
    "\n",
    "    # Train the final model with all columns on selected features after feature selection\n",
    "    model = CatBoostRegressor(\n",
    "        iterations=100,\n",
    "        learning_rate=0.05,\n",
    "        depth=5,\n",
    "        loss_function='RMSE',\n",
    "        eval_metric='RMSE',\n",
    "        random_seed=42,\n",
    "        verbose=False\n",
    "    )\n",
    "    model.fit(X_train, y_train, eval_set=(X_val, y_val),\n",
    "                       use_best_model=True, early_stopping_rounds=50, plot=True)\n",
    "    return model\n",
    "\n",
    "\n",
    "\n",
    "    # Calculate SHAP values\n",
    "    explainer = shap.TreeExplainer(model, feature_names=long_feature_names)\n",
    "    shap_values = explainer.shap_values(validation_pool)\n",
    "    mean_abs_shap_values = np.abs(shap_values).mean(axis=0)\n",
    "    # Normalize the SHAP values so that they sum to one\n",
    "    total = mean_abs_shap_values.sum()\n",
    "    normalized_shap_values = mean_abs_shap_values / total\n",
    "    # Plot the SHAP values for the first instance in the validation dataset\n",
    "    shap.waterfall_plot(shap.Explanation(normalized_shap_values, base_values=explainer.expected_value,\n",
    "                                         data=validation_pool.get_features()[0],\n",
    "                                         feature_names=validation_pool.get_feature_names()))\n",
    "\n",
    "    return model"
   ],
   "id": "64f3c01a9306fa8b",
   "outputs": [],
   "execution_count": 67
  },
  {
   "metadata": {},
   "cell_type": "code",
   "outputs": [],
   "execution_count": null,
   "source": "",
   "id": "de0a8603485bc941"
  },
  {
   "metadata": {
    "ExecuteTime": {
     "end_time": "2024-05-14T19:18:54.955006Z",
     "start_time": "2024-05-14T19:16:43.644660Z"
    }
   },
   "cell_type": "code",
   "source": "night_model = train_and_evaluate(local_hour_adjusted_df, nighttime_mask, daily_var_lst, long_feature_names)",
   "id": "39c71604f5ca077f",
   "outputs": [
    {
     "data": {
      "text/plain": [
       "MetricVisualizer(layout=Layout(align_self='stretch', height='500px'))"
      ],
      "application/vnd.jupyter.widget-view+json": {
       "version_major": 2,
       "version_minor": 0,
       "model_id": "87e134ce033c447c89c6af9e54f47399"
      }
     },
     "metadata": {},
     "output_type": "display_data"
    },
    {
     "data": {
      "text/plain": [
       "<Figure size 800x650 with 3 Axes>"
      ],
      "image/png": "[encoded data removed]"
     },
     "metadata": {},
     "output_type": "display_data"
    }
   ],
   "execution_count": 68
  },
  {
   "metadata": {
    "ExecuteTime": {
     "end_time": "2024-05-14T19:04:12.368494Z",
     "start_time": "2024-05-14T18:57:07.853258Z"
    }
   },
   "cell_type": "code",
   "source": "day_model = train_and_evaluate(local_hour_adjusted_df, daytime_mask, daily_var_lst, long_feature_names)",
   "id": "e8a550e620b039c6",
   "outputs": [
    {
     "data": {
      "text/plain": [
       "MetricVisualizer(layout=Layout(align_self='stretch', height='500px'))"
      ],
      "application/vnd.jupyter.widget-view+json": {
       "version_major": 2,
       "version_minor": 0,
       "model_id": "c60c0c713dd341b6b88af478ccf5ca5a"
      }
     },
     "metadata": {},
     "output_type": "display_data"
    },
    {
     "data": {
      "text/plain": [
       "<Figure size 800x650 with 3 Axes>"
      ],
      "image/png": "[encoded data removed]"
     },
     "metadata": {},
     "output_type": "display_data"
    }
   ],
   "execution_count": 53
  },
  {
   "metadata": {
    "ExecuteTime": {
     "end_time": "2024-05-14T19:08:04.543673Z",
     "start_time": "2024-05-14T19:08:04.539195Z"
    }
   },
   "cell_type": "code",
   "source": "shap_values",
   "id": "1b4345ad855bc78",
   "outputs": [
    {
     "data": {
      "text/plain": [
       "array([[-0.01538168,  0.06743123, -0.00204719, ...,  0.0098948 ,\n",
       "         0.02524067, -0.11123011],\n",
       "       [ 0.06562965, -0.07663896,  0.00521776, ...,  0.01221502,\n",
       "        -0.00404986,  0.04939751],\n",
       "       [ 0.01244539,  0.13061001,  0.11022936, ...,  0.01304565,\n",
       "        -0.06163441, -0.05729936],\n",
       "       ...,\n",
       "       [-0.03853866, -0.01998231, -0.006815  , ...,  0.04382386,\n",
       "         0.0083345 , -0.0351058 ],\n",
       "       [-0.05061123, -0.11268693, -0.01590528, ...,  0.04307091,\n",
       "         0.00544024,  0.09542512],\n",
       "       [-0.0470534 ,  0.00015054, -0.00739321, ...,  0.00611617,\n",
       "         0.01057168, -0.0616246 ]])"
      ]
     },
     "execution_count": 56,
     "metadata": {},
     "output_type": "execute_result"
    }
   ],
   "execution_count": 56
  },
  {
   "metadata": {
    "ExecuteTime": {
     "end_time": "2024-05-14T19:14:12.161998Z",
     "start_time": "2024-05-14T19:14:11.964878Z"
    }
   },
   "cell_type": "code",
   "source": [
    "mean_abs_shap_values = np.abs(shap_values).mean(axis=0)\n",
    "mean_abs_shap_values\n",
    "# Normalize the SHAP values so that they sum to one\n",
    "total = mean_abs_shap_values.sum()\n",
    "normalized_shap_values = mean_abs_shap_values / total"
   ],
   "id": "280142aba8bd4240",
   "outputs": [],
   "execution_count": 61
  },
  {
   "metadata": {
    "ExecuteTime": {
     "end_time": "2024-05-14T19:14:40.415439Z",
     "start_time": "2024-05-14T19:14:40.411129Z"
    }
   },
   "cell_type": "code",
   "source": "normalized_shap_values",
   "id": "da67946b40e55d1c",
   "outputs": [
    {
     "data": {
      "text/plain": [
       "array([0.11212723, 0.11717263, 0.05515867, 0.03807134, 0.0135555 ,\n",
       "       0.05641644, 0.11723812, 0.07025633, 0.15024716, 0.07548088,\n",
       "       0.19427572])"
      ]
     },
     "execution_count": 64,
     "metadata": {},
     "output_type": "execute_result"
    }
   ],
   "execution_count": 64
  },
  {
   "metadata": {
    "ExecuteTime": {
     "end_time": "2024-05-14T19:23:45.202788Z",
     "start_time": "2024-05-14T19:22:51.245172Z"
    }
   },
   "cell_type": "code",
   "source": "shap.summary_plot(shap_values)",
   "id": "74eb76ed82650e0e",
   "outputs": [
    {
     "data": {
      "text/plain": [
       "<Figure size 800x590 with 1 Axes>"
      ],
      "image/png": "[encoded data removed]"
     },
     "metadata": {},
     "output_type": "display_data"
    }
   ],
   "execution_count": 69
  },
  {
   "metadata": {
    "ExecuteTime": {
     "end_time": "2024-05-14T23:41:28.648595Z",
     "start_time": "2024-05-14T23:41:28.643961Z"
    }
   },
   "cell_type": "code",
   "source": [
    "# Get feature importance\n",
    "day_feature_importances = day_model.get_feature_importance(type='FeatureImportance')\n",
    "day_feature_importance_df = pd.DataFrame({'Feature': X.columns, 'Importance': day_feature_importances})\n",
    "print(day_feature_importance_df.sort_values(by='Importance', ascending=False))\n"
   ],
   "id": "d0b31245d8f94d87",
   "outputs": [
    {
     "name": "stdout",
     "output_type": "stream",
     "text": [
      "        Feature  Importance\n",
      "10          U10   20.331508\n",
      "8           Q2M   16.847988\n",
      "6           FSH   16.037332\n",
      "0   EFLX_LH_TOT   12.972282\n",
      "2          FIRA    8.220446\n",
      "7          PBOT    6.389783\n",
      "1           FGR    6.112123\n",
      "9           TSA    5.926221\n",
      "5          FSDS    3.537228\n",
      "3          FLDS    2.794724\n",
      "4           FSA    0.830365\n"
     ]
    }
   ],
   "execution_count": 82
  },
  {
   "metadata": {
    "ExecuteTime": {
     "end_time": "2024-05-14T19:48:48.024591Z",
     "start_time": "2024-05-14T19:48:48.018173Z"
    }
   },
   "cell_type": "code",
   "source": [
    "# Get feature importance\n",
    "feature_importances = night_model.get_feature_importance(type='FeatureImportance')\n",
    "feature_importance_df = pd.DataFrame({'Feature': X.columns, 'Importance': feature_importances})\n",
    "print(feature_importance_df.sort_values(by='Importance', ascending=False))\n"
   ],
   "id": "fbfedde7ea5fbe19",
   "outputs": [
    {
     "name": "stdout",
     "output_type": "stream",
     "text": [
      "        Feature  Importance\n",
      "6           FSH   37.381935\n",
      "10          U10   28.925892\n",
      "2          FIRA   12.020182\n",
      "8           Q2M    7.543470\n",
      "1           FGR    5.400510\n",
      "9           TSA    3.357824\n",
      "0   EFLX_LH_TOT    3.024580\n",
      "3          FLDS    1.479003\n",
      "7          PBOT    0.866604\n",
      "4           FSA    0.000000\n",
      "5          FSDS    0.000000\n"
     ]
    }
   ],
   "execution_count": 72
  },
  {
   "metadata": {
    "ExecuteTime": {
     "end_time": "2024-05-14T23:39:59.916959Z",
     "start_time": "2024-05-14T23:39:59.911490Z"
    }
   },
   "cell_type": "code",
   "source": "feature_importance_df.sum()",
   "id": "280f352cb2cf804",
   "outputs": [
    {
     "data": {
      "text/plain": [
       "Feature       EFLX_LH_TOTFGRFIRAFLDSFSAFSDSFSHPBOTQ2MTSAU10\n",
       "Importance                                            100.0\n",
       "dtype: object"
      ]
     },
     "execution_count": 79,
     "metadata": {},
     "output_type": "execute_result"
    }
   ],
   "execution_count": 79
  },
  {
   "metadata": {
    "ExecuteTime": {
     "end_time": "2024-05-14T19:54:16.185493Z",
     "start_time": "2024-05-14T19:54:16.175476Z"
    }
   },
   "cell_type": "code",
   "source": "df_daily_vars",
   "id": "613fdc9a5c5f76c1",
   "outputs": [
    {
     "data": {
      "text/plain": [
       "         Variable  \\\n",
       "0            area   \n",
       "1        landfrac   \n",
       "2        landmask   \n",
       "3         pftmask   \n",
       "4        nbedrock   \n",
       "5      APPAR_TEMP   \n",
       "6    APPAR_TEMP_R   \n",
       "7    APPAR_TEMP_U   \n",
       "8     EFLX_LH_TOT   \n",
       "9   EFLX_LH_TOT_R   \n",
       "10  EFLX_LH_TOT_U   \n",
       "11            FGR   \n",
       "12          FGR_R   \n",
       "13          FGR_U   \n",
       "14           FIRA   \n",
       "15         FIRA_R   \n",
       "16         FIRA_U   \n",
       "17           FIRE   \n",
       "18         FIRE_R   \n",
       "19         FIRE_U   \n",
       "20           FLDS   \n",
       "21            FSA   \n",
       "22          FSA_R   \n",
       "23          FSA_U   \n",
       "24           FSDS   \n",
       "25            FSH   \n",
       "26          FSH_R   \n",
       "27          FSH_U   \n",
       "28   HEAT_FROM_AC   \n",
       "29            HIA   \n",
       "30          HIA_R   \n",
       "31          HIA_U   \n",
       "32           PBOT   \n",
       "33            Q2M   \n",
       "34          Q2M_R   \n",
       "35          Q2M_U   \n",
       "36           QBOT   \n",
       "37           RAIN   \n",
       "38           SNOW   \n",
       "39           TBOT   \n",
       "40          THBOT   \n",
       "41            TSA   \n",
       "42          TSA_R   \n",
       "43          TSA_U   \n",
       "44          TSKIN   \n",
       "45        TSKIN_R   \n",
       "46        TSKIN_U   \n",
       "47            U10   \n",
       "48     URBAN_HEAT   \n",
       "49     VAPOR_PRES   \n",
       "50   VAPOR_PRES_R   \n",
       "51   VAPOR_PRES_U   \n",
       "52      WASTEHEAT   \n",
       "53            WBA   \n",
       "54          WBA_R   \n",
       "55          WBA_U   \n",
       "56           WIND   \n",
       "\n",
       "                                                                              Long Name  \\\n",
       "0                                                                       grid cell areas   \n",
       "1                                                                         land fraction   \n",
       "2                                                land/ocean mask (0.=ocean and 1.=land)   \n",
       "3                                              pft real/fake mask (0.=fake and 1.=real)   \n",
       "4                                                     index of shallowest bedrock layer   \n",
       "5                                                              2 m apparent temperature   \n",
       "6                                                        Rural 2 m apparent temperature   \n",
       "7                                                        Urban 2 m apparent temperature   \n",
       "8                                                     total latent heat flux [+ to atm]   \n",
       "9                                                               Rural total evaporation   \n",
       "10                                                              Urban total evaporation   \n",
       "11      heat flux into soil/snow including snow melt and lake / snow light transmission   \n",
       "12       Rural heat flux into soil/snow including snow melt and snow light transmission   \n",
       "13                                   Urban heat flux into soil/snow including snow melt   \n",
       "14                                                    net infrared (longwave) radiation   \n",
       "15                                              Rural net infrared (longwave) radiation   \n",
       "16                                              Urban net infrared (longwave) radiation   \n",
       "17                                                emitted infrared (longwave) radiation   \n",
       "18                                          Rural emitted infrared (longwave) radiation   \n",
       "19                                          Urban emitted infrared (longwave) radiation   \n",
       "20            atmospheric longwave radiation (downscaled to columns in glacier regions)   \n",
       "21                                                             absorbed solar radiation   \n",
       "22                                                       Rural absorbed solar radiation   \n",
       "23                                                       Urban absorbed solar radiation   \n",
       "24                                                 atmospheric incident solar radiation   \n",
       "25  sensible heat not including correction for land use change and rain/snow conversion   \n",
       "26                                                                  Rural sensible heat   \n",
       "27                                                                  Urban sensible heat   \n",
       "28         sensible heat flux put into canyon due to heat removed from air conditioning   \n",
       "29                                                                   2 m NWS Heat Index   \n",
       "30                                                             Rural 2 m NWS Heat Index   \n",
       "31                                                             Urban 2 m NWS Heat Index   \n",
       "32           atmospheric pressure at surface (downscaled to columns in glacier regions)   \n",
       "33                                                                 2m specific humidity   \n",
       "34                                                           Rural 2m specific humidity   \n",
       "35                                                           Urban 2m specific humidity   \n",
       "36             atmospheric specific humidity (downscaled to columns in glacier regions)   \n",
       "37                atmospheric rain, after rain/snow repartitioning based on temperature   \n",
       "38                atmospheric snow, after rain/snow repartitioning based on temperature   \n",
       "39               atmospheric air temperature (downscaled to columns in glacier regions)   \n",
       "40     atmospheric air potential temperature (downscaled to columns in glacier regions)   \n",
       "41                                                                   2m air temperature   \n",
       "42                                                             Rural 2m air temperature   \n",
       "43                                                             Urban 2m air temperature   \n",
       "44                                                                     skin temperature   \n",
       "45                                                                     skin temperature   \n",
       "46                                                               urban skin temperature   \n",
       "47                                                                            10-m wind   \n",
       "48                                                                   urban heating flux   \n",
       "49                                                                   2 m vapor pressure   \n",
       "50                                                             Rural 2 m vapor pressure   \n",
       "51                                                             Urban 2 m vapor pressure   \n",
       "52                  sensible heat flux from heating/cooling sources of urban waste heat   \n",
       "53                                                                         2 m Wet Bulb   \n",
       "54                                                                   Rural 2 m Wet Bulb   \n",
       "55                                                                   Urban 2 m Wet Bulb   \n",
       "56                                                  atmospheric wind velocity magnitude   \n",
       "\n",
       "    Units Cell Methods Fill Value Missing Value X_vars X_vars2 X_selected  \\\n",
       "0    km^2          NaN    1.e+36f       1.e+36f    NaN     NaN        NaN   \n",
       "1     NaN          NaN    1.e+36f       1.e+36f    NaN     NaN        NaN   \n",
       "2     NaN          NaN      -9999         -9999    NaN     NaN        NaN   \n",
       "3     NaN          NaN      -9999         -9999    NaN     NaN        NaN   \n",
       "4     NaN          NaN      -9999         -9999    NaN     NaN        NaN   \n",
       "5       C   time: mean    1.e+36f       1.e+36f    NaN     NaN        NaN   \n",
       "6       C   time: mean    1.e+36f       1.e+36f    NaN     NaN        NaN   \n",
       "7       C   time: mean    1.e+36f       1.e+36f    NaN     NaN        NaN   \n",
       "8   W/m^2   time: mean    1.e+36f       1.e+36f      Y       Y          Y   \n",
       "9   W/m^2   time: mean    1.e+36f       1.e+36f      Y     NaN        NaN   \n",
       "10  W/m^2   time: mean    1.e+36f       1.e+36f      Y     NaN        NaN   \n",
       "11  W/m^2   time: mean    1.e+36f       1.e+36f      Y       Y          Y   \n",
       "12  W/m^2   time: mean    1.e+36f       1.e+36f      Y     NaN        NaN   \n",
       "13  W/m^2   time: mean    1.e+36f       1.e+36f      Y     NaN        NaN   \n",
       "14  W/m^2   time: mean    1.e+36f       1.e+36f      Y       Y          Y   \n",
       "15  W/m^2   time: mean    1.e+36f       1.e+36f      Y     NaN        NaN   \n",
       "16  W/m^2   time: mean    1.e+36f       1.e+36f      Y     NaN        NaN   \n",
       "17  W/m^2   time: mean    1.e+36f       1.e+36f      Y     NaN        NaN   \n",
       "18  W/m^2   time: mean    1.e+36f       1.e+36f      Y     NaN        NaN   \n",
       "19  W/m^2   time: mean    1.e+36f       1.e+36f      Y     NaN        NaN   \n",
       "20  W/m^2   time: mean    1.e+36f       1.e+36f      Y       Y          N   \n",
       "21  W/m^2   time: mean    1.e+36f       1.e+36f      Y       Y          N   \n",
       "22  W/m^2   time: mean    1.e+36f       1.e+36f      Y     NaN        NaN   \n",
       "23  W/m^2   time: mean    1.e+36f       1.e+36f      Y     NaN        NaN   \n",
       "24  W/m^2   time: mean    1.e+36f       1.e+36f      Y       Y          N   \n",
       "25  W/m^2   time: mean    1.e+36f       1.e+36f      Y       Y          Y   \n",
       "26  W/m^2   time: mean    1.e+36f       1.e+36f      Y     NaN        NaN   \n",
       "27  W/m^2   time: mean    1.e+36f       1.e+36f      Y     NaN        NaN   \n",
       "28  W/m^2   time: mean    1.e+36f       1.e+36f      Y     NaN        NaN   \n",
       "29      C   time: mean    1.e+36f       1.e+36f      Y     NaN        NaN   \n",
       "30      C   time: mean    1.e+36f       1.e+36f      Y     NaN        NaN   \n",
       "31      C   time: mean    1.e+36f       1.e+36f      Y     NaN        NaN   \n",
       "32     Pa   time: mean    1.e+36f       1.e+36f      Y       Y          Y   \n",
       "33  kg/kg   time: mean    1.e+36f       1.e+36f      Y       Y          Y   \n",
       "34  kg/kg   time: mean    1.e+36f       1.e+36f      Y     NaN        NaN   \n",
       "35  kg/kg   time: mean    1.e+36f       1.e+36f      Y     NaN        NaN   \n",
       "36  kg/kg   time: mean    1.e+36f       1.e+36f      Y     NaN        NaN   \n",
       "37   mm/s   time: mean    1.e+36f       1.e+36f      Y     NaN        NaN   \n",
       "38   mm/s   time: mean    1.e+36f       1.e+36f      Y     NaN        NaN   \n",
       "39      K   time: mean    1.e+36f       1.e+36f      Y     NaN        NaN   \n",
       "40      K   time: mean    1.e+36f       1.e+36f      Y     NaN        NaN   \n",
       "41      K   time: mean    1.e+36f       1.e+36f      Y       Y          Y   \n",
       "42      K   time: mean    1.e+36f       1.e+36f      Y     NaN        NaN   \n",
       "43      K   time: mean    1.e+36f       1.e+36f      Y     NaN        NaN   \n",
       "44      K   time: mean    1.e+36f       1.e+36f      Y     NaN        NaN   \n",
       "45      K   time: mean    1.e+36f       1.e+36f      Y     NaN        NaN   \n",
       "46      K   time: mean    1.e+36f       1.e+36f      Y     NaN        NaN   \n",
       "47    m/s   time: mean    1.e+36f       1.e+36f      Y       Y          Y   \n",
       "48  W/m^2   time: mean    1.e+36f       1.e+36f      Y     NaN        NaN   \n",
       "49     Pa   time: mean    1.e+36f       1.e+36f      Y     NaN        NaN   \n",
       "50     Pa   time: mean    1.e+36f       1.e+36f      Y     NaN        NaN   \n",
       "51     Pa   time: mean    1.e+36f       1.e+36f      Y     NaN        NaN   \n",
       "52  W/m^2   time: mean    1.e+36f       1.e+36f      Y     NaN        NaN   \n",
       "53      C   time: mean    1.e+36f       1.e+36f    NaN     NaN        NaN   \n",
       "54      C   time: mean    1.e+36f       1.e+36f    NaN       O        NaN   \n",
       "55      C   time: mean    1.e+36f       1.e+36f    NaN       O        NaN   \n",
       "56    m/s   time: mean    1.e+36f       1.e+36f      Y     NaN        NaN   \n",
       "\n",
       "    Notes  \n",
       "0     NaN  \n",
       "1     NaN  \n",
       "2     NaN  \n",
       "3     NaN  \n",
       "4     NaN  \n",
       "5     NaN  \n",
       "6     NaN  \n",
       "7     NaN  \n",
       "8     NaN  \n",
       "9     NaN  \n",
       "10    NaN  \n",
       "11    NaN  \n",
       "12    NaN  \n",
       "13    NaN  \n",
       "14    NaN  \n",
       "15    NaN  \n",
       "16    NaN  \n",
       "17    NaN  \n",
       "18    NaN  \n",
       "19    NaN  \n",
       "20    NaN  \n",
       "21    NaN  \n",
       "22    NaN  \n",
       "23    NaN  \n",
       "24    NaN  \n",
       "25    NaN  \n",
       "26    NaN  \n",
       "27    NaN  \n",
       "28    NaN  \n",
       "29    NaN  \n",
       "30    NaN  \n",
       "31    NaN  \n",
       "32    NaN  \n",
       "33    NaN  \n",
       "34    NaN  \n",
       "35    NaN  \n",
       "36    NaN  \n",
       "37    NaN  \n",
       "38    NaN  \n",
       "39    NaN  \n",
       "40    NaN  \n",
       "41    NaN  \n",
       "42    NaN  \n",
       "43    NaN  \n",
       "44    NaN  \n",
       "45    NaN  \n",
       "46    NaN  \n",
       "47    NaN  \n",
       "48    NaN  \n",
       "49    NaN  \n",
       "50    NaN  \n",
       "51    NaN  \n",
       "52    NaN  \n",
       "53    NaN  \n",
       "54    NaN  \n",
       "55    NaN  \n",
       "56    NaN  "
      ],
      "text/html": [
       "<div>\n",
       "<style scoped>\n",
       "    .dataframe tbody tr th:only-of-type {\n",
       "        vertical-align: middle;\n",
       "    }\n",
       "\n",
       "    .dataframe tbody tr th {\n",
       "        vertical-align: top;\n",
       "    }\n",
       "\n",
       "    .dataframe thead th {\n",
       "        text-align: right;\n",
       "    }\n",
       "</style>\n",
       "<table border=\"1\" class=\"dataframe\">\n",
       "  <thead>\n",
       "    <tr style=\"text-align: right;\">\n",
       "      <th></th>\n",
       "      <th>Variable</th>\n",
       "      <th>Long Name</th>\n",
       "      <th>Units</th>\n",
       "      <th>Cell Methods</th>\n",
       "      <th>Fill Value</th>\n",
       "      <th>Missing Value</th>\n",
       "      <th>X_vars</th>\n",
       "      <th>X_vars2</th>\n",
       "      <th>X_selected</th>\n",
       "      <th>Notes</th>\n",
       "    </tr>\n",
       "  </thead>\n",
       "  <tbody>\n",
       "    <tr>\n",
       "      <th>0</th>\n",
       "      <td>area</td>\n",
       "      <td>grid cell areas</td>\n",
       "      <td>km^2</td>\n",
       "      <td>NaN</td>\n",
       "      <td>1.e+36f</td>\n",
       "      <td>1.e+36f</td>\n",
       "      <td>NaN</td>\n",
       "      <td>NaN</td>\n",
       "      <td>NaN</td>\n",
       "      <td>NaN</td>\n",
       "    </tr>\n",
       "    <tr>\n",
       "      <th>1</th>\n",
       "      <td>landfrac</td>\n",
       "      <td>land fraction</td>\n",
       "      <td>NaN</td>\n",
       "      <td>NaN</td>\n",
       "      <td>1.e+36f</td>\n",
       "      <td>1.e+36f</td>\n",
       "      <td>NaN</td>\n",
       "      <td>NaN</td>\n",
       "      <td>NaN</td>\n",
       "      <td>NaN</td>\n",
       "    </tr>\n",
       "    <tr>\n",
       "      <th>2</th>\n",
       "      <td>landmask</td>\n",
       "      <td>land/ocean mask (0.=ocean and 1.=land)</td>\n",
       "      <td>NaN</td>\n",
       "      <td>NaN</td>\n",
       "      <td>-9999</td>\n",
       "      <td>-9999</td>\n",
       "      <td>NaN</td>\n",
       "      <td>NaN</td>\n",
       "      <td>NaN</td>\n",
       "      <td>NaN</td>\n",
       "    </tr>\n",
       "    <tr>\n",
       "      <th>3</th>\n",
       "      <td>pftmask</td>\n",
       "      <td>pft real/fake mask (0.=fake and 1.=real)</td>\n",
       "      <td>NaN</td>\n",
       "      <td>NaN</td>\n",
       "      <td>-9999</td>\n",
       "      <td>-9999</td>\n",
       "      <td>NaN</td>\n",
       "      <td>NaN</td>\n",
       "      <td>NaN</td>\n",
       "      <td>NaN</td>\n",
       "    </tr>\n",
       "    <tr>\n",
       "      <th>4</th>\n",
       "      <td>nbedrock</td>\n",
       "      <td>index of shallowest bedrock layer</td>\n",
       "      <td>NaN</td>\n",
       "      <td>NaN</td>\n",
       "      <td>-9999</td>\n",
       "      <td>-9999</td>\n",
       "      <td>NaN</td>\n",
       "      <td>NaN</td>\n",
       "      <td>NaN</td>\n",
       "      <td>NaN</td>\n",
       "    </tr>\n",
       "    <tr>\n",
       "      <th>5</th>\n",
       "      <td>APPAR_TEMP</td>\n",
       "      <td>2 m apparent temperature</td>\n",
       "      <td>C</td>\n",
       "      <td>time: mean</td>\n",
       "      <td>1.e+36f</td>\n",
       "      <td>1.e+36f</td>\n",
       "      <td>NaN</td>\n",
       "      <td>NaN</td>\n",
       "      <td>NaN</td>\n",
       "      <td>NaN</td>\n",
       "    </tr>\n",
       "    <tr>\n",
       "      <th>6</th>\n",
       "      <td>APPAR_TEMP_R</td>\n",
       "      <td>Rural 2 m apparent temperature</td>\n",
       "      <td>C</td>\n",
       "      <td>time: mean</td>\n",
       "      <td>1.e+36f</td>\n",
       "      <td>1.e+36f</td>\n",
       "      <td>NaN</td>\n",
       "      <td>NaN</td>\n",
       "      <td>NaN</td>\n",
       "      <td>NaN</td>\n",
       "    </tr>\n",
       "    <tr>\n",
       "      <th>7</th>\n",
       "      <td>APPAR_TEMP_U</td>\n",
       "      <td>Urban 2 m apparent temperature</td>\n",
       "      <td>C</td>\n",
       "      <td>time: mean</td>\n",
       "      <td>1.e+36f</td>\n",
       "      <td>1.e+36f</td>\n",
       "      <td>NaN</td>\n",
       "      <td>NaN</td>\n",
       "      <td>NaN</td>\n",
       "      <td>NaN</td>\n",
       "    </tr>\n",
       "    <tr>\n",
       "      <th>8</th>\n",
       "      <td>EFLX_LH_TOT</td>\n",
       "      <td>total latent heat flux [+ to atm]</td>\n",
       "      <td>W/m^2</td>\n",
       "      <td>time: mean</td>\n",
       "      <td>1.e+36f</td>\n",
       "      <td>1.e+36f</td>\n",
       "      <td>Y</td>\n",
       "      <td>Y</td>\n",
       "      <td>Y</td>\n",
       "      <td>NaN</td>\n",
       "    </tr>\n",
       "    <tr>\n",
       "      <th>9</th>\n",
       "      <td>EFLX_LH_TOT_R</td>\n",
       "      <td>Rural total evaporation</td>\n",
       "      <td>W/m^2</td>\n",
       "      <td>time: mean</td>\n",
       "      <td>1.e+36f</td>\n",
       "      <td>1.e+36f</td>\n",
       "      <td>Y</td>\n",
       "      <td>NaN</td>\n",
       "      <td>NaN</td>\n",
       "      <td>NaN</td>\n",
       "    </tr>\n",
       "    <tr>\n",
       "      <th>10</th>\n",
       "      <td>EFLX_LH_TOT_U</td>\n",
       "      <td>Urban total evaporation</td>\n",
       "      <td>W/m^2</td>\n",
       "      <td>time: mean</td>\n",
       "      <td>1.e+36f</td>\n",
       "      <td>1.e+36f</td>\n",
       "      <td>Y</td>\n",
       "      <td>NaN</td>\n",
       "      <td>NaN</td>\n",
       "      <td>NaN</td>\n",
       "    </tr>\n",
       "    <tr>\n",
       "      <th>11</th>\n",
       "      <td>FGR</td>\n",
       "      <td>heat flux into soil/snow including snow melt and lake / snow light transmission</td>\n",
       "      <td>W/m^2</td>\n",
       "      <td>time: mean</td>\n",
       "      <td>1.e+36f</td>\n",
       "      <td>1.e+36f</td>\n",
       "      <td>Y</td>\n",
       "      <td>Y</td>\n",
       "      <td>Y</td>\n",
       "      <td>NaN</td>\n",
       "    </tr>\n",
       "    <tr>\n",
       "      <th>12</th>\n",
       "      <td>FGR_R</td>\n",
       "      <td>Rural heat flux into soil/snow including snow melt and snow light transmission</td>\n",
       "      <td>W/m^2</td>\n",
       "      <td>time: mean</td>\n",
       "      <td>1.e+36f</td>\n",
       "      <td>1.e+36f</td>\n",
       "      <td>Y</td>\n",
       "      <td>NaN</td>\n",
       "      <td>NaN</td>\n",
       "      <td>NaN</td>\n",
       "    </tr>\n",
       "    <tr>\n",
       "      <th>13</th>\n",
       "      <td>FGR_U</td>\n",
       "      <td>Urban heat flux into soil/snow including snow melt</td>\n",
       "      <td>W/m^2</td>\n",
       "      <td>time: mean</td>\n",
       "      <td>1.e+36f</td>\n",
       "      <td>1.e+36f</td>\n",
       "      <td>Y</td>\n",
       "      <td>NaN</td>\n",
       "      <td>NaN</td>\n",
       "      <td>NaN</td>\n",
       "    </tr>\n",
       "    <tr>\n",
       "      <th>14</th>\n",
       "      <td>FIRA</td>\n",
       "      <td>net infrared (longwave) radiation</td>\n",
       "      <td>W/m^2</td>\n",
       "      <td>time: mean</td>\n",
       "      <td>1.e+36f</td>\n",
       "      <td>1.e+36f</td>\n",
       "      <td>Y</td>\n",
       "      <td>Y</td>\n",
       "      <td>Y</td>\n",
       "      <td>NaN</td>\n",
       "    </tr>\n",
       "    <tr>\n",
       "      <th>15</th>\n",
       "      <td>FIRA_R</td>\n",
       "      <td>Rural net infrared (longwave) radiation</td>\n",
       "      <td>W/m^2</td>\n",
       "      <td>time: mean</td>\n",
       "      <td>1.e+36f</td>\n",
       "      <td>1.e+36f</td>\n",
       "      <td>Y</td>\n",
       "      <td>NaN</td>\n",
       "      <td>NaN</td>\n",
       "      <td>NaN</td>\n",
       "    </tr>\n",
       "    <tr>\n",
       "      <th>16</th>\n",
       "      <td>FIRA_U</td>\n",
       "      <td>Urban net infrared (longwave) radiation</td>\n",
       "      <td>W/m^2</td>\n",
       "      <td>time: mean</td>\n",
       "      <td>1.e+36f</td>\n",
       "      <td>1.e+36f</td>\n",
       "      <td>Y</td>\n",
       "      <td>NaN</td>\n",
       "      <td>NaN</td>\n",
       "      <td>NaN</td>\n",
       "    </tr>\n",
       "    <tr>\n",
       "      <th>17</th>\n",
       "      <td>FIRE</td>\n",
       "      <td>emitted infrared (longwave) radiation</td>\n",
       "      <td>W/m^2</td>\n",
       "      <td>time: mean</td>\n",
       "      <td>1.e+36f</td>\n",
       "      <td>1.e+36f</td>\n",
       "      <td>Y</td>\n",
       "      <td>NaN</td>\n",
       "      <td>NaN</td>\n",
       "      <td>NaN</td>\n",
       "    </tr>\n",
       "    <tr>\n",
       "      <th>18</th>\n",
       "      <td>FIRE_R</td>\n",
       "      <td>Rural emitted infrared (longwave) radiation</td>\n",
       "      <td>W/m^2</td>\n",
       "      <td>time: mean</td>\n",
       "      <td>1.e+36f</td>\n",
       "      <td>1.e+36f</td>\n",
       "      <td>Y</td>\n",
       "      <td>NaN</td>\n",
       "      <td>NaN</td>\n",
       "      <td>NaN</td>\n",
       "    </tr>\n",
       "    <tr>\n",
       "      <th>19</th>\n",
       "      <td>FIRE_U</td>\n",
       "      <td>Urban emitted infrared (longwave) radiation</td>\n",
       "      <td>W/m^2</td>\n",
       "      <td>time: mean</td>\n",
       "      <td>1.e+36f</td>\n",
       "      <td>1.e+36f</td>\n",
       "      <td>Y</td>\n",
       "      <td>NaN</td>\n",
       "      <td>NaN</td>\n",
       "      <td>NaN</td>\n",
       "    </tr>\n",
       "    <tr>\n",
       "      <th>20</th>\n",
       "      <td>FLDS</td>\n",
       "      <td>atmospheric longwave radiation (downscaled to columns in glacier regions)</td>\n",
       "      <td>W/m^2</td>\n",
       "      <td>time: mean</td>\n",
       "      <td>1.e+36f</td>\n",
       "      <td>1.e+36f</td>\n",
       "      <td>Y</td>\n",
       "      <td>Y</td>\n",
       "      <td>N</td>\n",
       "      <td>NaN</td>\n",
       "    </tr>\n",
       "    <tr>\n",
       "      <th>21</th>\n",
       "      <td>FSA</td>\n",
       "      <td>absorbed solar radiation</td>\n",
       "      <td>W/m^2</td>\n",
       "      <td>time: mean</td>\n",
       "      <td>1.e+36f</td>\n",
       "      <td>1.e+36f</td>\n",
       "      <td>Y</td>\n",
       "      <td>Y</td>\n",
       "      <td>N</td>\n",
       "      <td>NaN</td>\n",
       "    </tr>\n",
       "    <tr>\n",
       "      <th>22</th>\n",
       "      <td>FSA_R</td>\n",
       "      <td>Rural absorbed solar radiation</td>\n",
       "      <td>W/m^2</td>\n",
       "      <td>time: mean</td>\n",
       "      <td>1.e+36f</td>\n",
       "      <td>1.e+36f</td>\n",
       "      <td>Y</td>\n",
       "      <td>NaN</td>\n",
       "      <td>NaN</td>\n",
       "      <td>NaN</td>\n",
       "    </tr>\n",
       "    <tr>\n",
       "      <th>23</th>\n",
       "      <td>FSA_U</td>\n",
       "      <td>Urban absorbed solar radiation</td>\n",
       "      <td>W/m^2</td>\n",
       "      <td>time: mean</td>\n",
       "      <td>1.e+36f</td>\n",
       "      <td>1.e+36f</td>\n",
       "      <td>Y</td>\n",
       "      <td>NaN</td>\n",
       "      <td>NaN</td>\n",
       "      <td>NaN</td>\n",
       "    </tr>\n",
       "    <tr>\n",
       "      <th>24</th>\n",
       "      <td>FSDS</td>\n",
       "      <td>atmospheric incident solar radiation</td>\n",
       "      <td>W/m^2</td>\n",
       "      <td>time: mean</td>\n",
       "      <td>1.e+36f</td>\n",
       "      <td>1.e+36f</td>\n",
       "      <td>Y</td>\n",
       "      <td>Y</td>\n",
       "      <td>N</td>\n",
       "      <td>NaN</td>\n",
       "    </tr>\n",
       "    <tr>\n",
       "      <th>25</th>\n",
       "      <td>FSH</td>\n",
       "      <td>sensible heat not including correction for land use change and rain/snow conversion</td>\n",
       "      <td>W/m^2</td>\n",
       "      <td>time: mean</td>\n",
       "      <td>1.e+36f</td>\n",
       "      <td>1.e+36f</td>\n",
       "      <td>Y</td>\n",
       "      <td>Y</td>\n",
       "      <td>Y</td>\n",
       "      <td>NaN</td>\n",
       "    </tr>\n",
       "    <tr>\n",
       "      <th>26</th>\n",
       "      <td>FSH_R</td>\n",
       "      <td>Rural sensible heat</td>\n",
       "      <td>W/m^2</td>\n",
       "      <td>time: mean</td>\n",
       "      <td>1.e+36f</td>\n",
       "      <td>1.e+36f</td>\n",
       "      <td>Y</td>\n",
       "      <td>NaN</td>\n",
       "      <td>NaN</td>\n",
       "      <td>NaN</td>\n",
       "    </tr>\n",
       "    <tr>\n",
       "      <th>27</th>\n",
       "      <td>FSH_U</td>\n",
       "      <td>Urban sensible heat</td>\n",
       "      <td>W/m^2</td>\n",
       "      <td>time: mean</td>\n",
       "      <td>1.e+36f</td>\n",
       "      <td>1.e+36f</td>\n",
       "      <td>Y</td>\n",
       "      <td>NaN</td>\n",
       "      <td>NaN</td>\n",
       "      <td>NaN</td>\n",
       "    </tr>\n",
       "    <tr>\n",
       "      <th>28</th>\n",
       "      <td>HEAT_FROM_AC</td>\n",
       "      <td>sensible heat flux put into canyon due to heat removed from air conditioning</td>\n",
       "      <td>W/m^2</td>\n",
       "      <td>time: mean</td>\n",
       "      <td>1.e+36f</td>\n",
       "      <td>1.e+36f</td>\n",
       "      <td>Y</td>\n",
       "      <td>NaN</td>\n",
       "      <td>NaN</td>\n",
       "      <td>NaN</td>\n",
       "    </tr>\n",
       "    <tr>\n",
       "      <th>29</th>\n",
       "      <td>HIA</td>\n",
       "      <td>2 m NWS Heat Index</td>\n",
       "      <td>C</td>\n",
       "      <td>time: mean</td>\n",
       "      <td>1.e+36f</td>\n",
       "      <td>1.e+36f</td>\n",
       "      <td>Y</td>\n",
       "      <td>NaN</td>\n",
       "      <td>NaN</td>\n",
       "      <td>NaN</td>\n",
       "    </tr>\n",
       "    <tr>\n",
       "      <th>30</th>\n",
       "      <td>HIA_R</td>\n",
       "      <td>Rural 2 m NWS Heat Index</td>\n",
       "      <td>C</td>\n",
       "      <td>time: mean</td>\n",
       "      <td>1.e+36f</td>\n",
       "      <td>1.e+36f</td>\n",
       "      <td>Y</td>\n",
       "      <td>NaN</td>\n",
       "      <td>NaN</td>\n",
       "      <td>NaN</td>\n",
       "    </tr>\n",
       "    <tr>\n",
       "      <th>31</th>\n",
       "      <td>HIA_U</td>\n",
       "      <td>Urban 2 m NWS Heat Index</td>\n",
       "      <td>C</td>\n",
       "      <td>time: mean</td>\n",
       "      <td>1.e+36f</td>\n",
       "      <td>1.e+36f</td>\n",
       "      <td>Y</td>\n",
       "      <td>NaN</td>\n",
       "      <td>NaN</td>\n",
       "      <td>NaN</td>\n",
       "    </tr>\n",
       "    <tr>\n",
       "      <th>32</th>\n",
       "      <td>PBOT</td>\n",
       "      <td>atmospheric pressure at surface (downscaled to columns in glacier regions)</td>\n",
       "      <td>Pa</td>\n",
       "      <td>time: mean</td>\n",
       "      <td>1.e+36f</td>\n",
       "      <td>1.e+36f</td>\n",
       "      <td>Y</td>\n",
       "      <td>Y</td>\n",
       "      <td>Y</td>\n",
       "      <td>NaN</td>\n",
       "    </tr>\n",
       "    <tr>\n",
       "      <th>33</th>\n",
       "      <td>Q2M</td>\n",
       "      <td>2m specific humidity</td>\n",
       "      <td>kg/kg</td>\n",
       "      <td>time: mean</td>\n",
       "      <td>1.e+36f</td>\n",
       "      <td>1.e+36f</td>\n",
       "      <td>Y</td>\n",
       "      <td>Y</td>\n",
       "      <td>Y</td>\n",
       "      <td>NaN</td>\n",
       "    </tr>\n",
       "    <tr>\n",
       "      <th>34</th>\n",
       "      <td>Q2M_R</td>\n",
       "      <td>Rural 2m specific humidity</td>\n",
       "      <td>kg/kg</td>\n",
       "      <td>time: mean</td>\n",
       "      <td>1.e+36f</td>\n",
       "      <td>1.e+36f</td>\n",
       "      <td>Y</td>\n",
       "      <td>NaN</td>\n",
       "      <td>NaN</td>\n",
       "      <td>NaN</td>\n",
       "    </tr>\n",
       "    <tr>\n",
       "      <th>35</th>\n",
       "      <td>Q2M_U</td>\n",
       "      <td>Urban 2m specific humidity</td>\n",
       "      <td>kg/kg</td>\n",
       "      <td>time: mean</td>\n",
       "      <td>1.e+36f</td>\n",
       "      <td>1.e+36f</td>\n",
       "      <td>Y</td>\n",
       "      <td>NaN</td>\n",
       "      <td>NaN</td>\n",
       "      <td>NaN</td>\n",
       "    </tr>\n",
       "    <tr>\n",
       "      <th>36</th>\n",
       "      <td>QBOT</td>\n",
       "      <td>atmospheric specific humidity (downscaled to columns in glacier regions)</td>\n",
       "      <td>kg/kg</td>\n",
       "      <td>time: mean</td>\n",
       "      <td>1.e+36f</td>\n",
       "      <td>1.e+36f</td>\n",
       "      <td>Y</td>\n",
       "      <td>NaN</td>\n",
       "      <td>NaN</td>\n",
       "      <td>NaN</td>\n",
       "    </tr>\n",
       "    <tr>\n",
       "      <th>37</th>\n",
       "      <td>RAIN</td>\n",
       "      <td>atmospheric rain, after rain/snow repartitioning based on temperature</td>\n",
       "      <td>mm/s</td>\n",
       "      <td>time: mean</td>\n",
       "      <td>1.e+36f</td>\n",
       "      <td>1.e+36f</td>\n",
       "      <td>Y</td>\n",
       "      <td>NaN</td>\n",
       "      <td>NaN</td>\n",
       "      <td>NaN</td>\n",
       "    </tr>\n",
       "    <tr>\n",
       "      <th>38</th>\n",
       "      <td>SNOW</td>\n",
       "      <td>atmospheric snow, after rain/snow repartitioning based on temperature</td>\n",
       "      <td>mm/s</td>\n",
       "      <td>time: mean</td>\n",
       "      <td>1.e+36f</td>\n",
       "      <td>1.e+36f</td>\n",
       "      <td>Y</td>\n",
       "      <td>NaN</td>\n",
       "      <td>NaN</td>\n",
       "      <td>NaN</td>\n",
       "    </tr>\n",
       "    <tr>\n",
       "      <th>39</th>\n",
       "      <td>TBOT</td>\n",
       "      <td>atmospheric air temperature (downscaled to columns in glacier regions)</td>\n",
       "      <td>K</td>\n",
       "      <td>time: mean</td>\n",
       "      <td>1.e+36f</td>\n",
       "      <td>1.e+36f</td>\n",
       "      <td>Y</td>\n",
       "      <td>NaN</td>\n",
       "      <td>NaN</td>\n",
       "      <td>NaN</td>\n",
       "    </tr>\n",
       "    <tr>\n",
       "      <th>40</th>\n",
       "      <td>THBOT</td>\n",
       "      <td>atmospheric air potential temperature (downscaled to columns in glacier regions)</td>\n",
       "      <td>K</td>\n",
       "      <td>time: mean</td>\n",
       "      <td>1.e+36f</td>\n",
       "      <td>1.e+36f</td>\n",
       "      <td>Y</td>\n",
       "      <td>NaN</td>\n",
       "      <td>NaN</td>\n",
       "      <td>NaN</td>\n",
       "    </tr>\n",
       "    <tr>\n",
       "      <th>41</th>\n",
       "      <td>TSA</td>\n",
       "      <td>2m air temperature</td>\n",
       "      <td>K</td>\n",
       "      <td>time: mean</td>\n",
       "      <td>1.e+36f</td>\n",
       "      <td>1.e+36f</td>\n",
       "      <td>Y</td>\n",
       "      <td>Y</td>\n",
       "      <td>Y</td>\n",
       "      <td>NaN</td>\n",
       "    </tr>\n",
       "    <tr>\n",
       "      <th>42</th>\n",
       "      <td>TSA_R</td>\n",
       "      <td>Rural 2m air temperature</td>\n",
       "      <td>K</td>\n",
       "      <td>time: mean</td>\n",
       "      <td>1.e+36f</td>\n",
       "      <td>1.e+36f</td>\n",
       "      <td>Y</td>\n",
       "      <td>NaN</td>\n",
       "      <td>NaN</td>\n",
       "      <td>NaN</td>\n",
       "    </tr>\n",
       "    <tr>\n",
       "      <th>43</th>\n",
       "      <td>TSA_U</td>\n",
       "      <td>Urban 2m air temperature</td>\n",
       "      <td>K</td>\n",
       "      <td>time: mean</td>\n",
       "      <td>1.e+36f</td>\n",
       "      <td>1.e+36f</td>\n",
       "      <td>Y</td>\n",
       "      <td>NaN</td>\n",
       "      <td>NaN</td>\n",
       "      <td>NaN</td>\n",
       "    </tr>\n",
       "    <tr>\n",
       "      <th>44</th>\n",
       "      <td>TSKIN</td>\n",
       "      <td>skin temperature</td>\n",
       "      <td>K</td>\n",
       "      <td>time: mean</td>\n",
       "      <td>1.e+36f</td>\n",
       "      <td>1.e+36f</td>\n",
       "      <td>Y</td>\n",
       "      <td>NaN</td>\n",
       "      <td>NaN</td>\n",
       "      <td>NaN</td>\n",
       "    </tr>\n",
       "    <tr>\n",
       "      <th>45</th>\n",
       "      <td>TSKIN_R</td>\n",
       "      <td>skin temperature</td>\n",
       "      <td>K</td>\n",
       "      <td>time: mean</td>\n",
       "      <td>1.e+36f</td>\n",
       "      <td>1.e+36f</td>\n",
       "      <td>Y</td>\n",
       "      <td>NaN</td>\n",
       "      <td>NaN</td>\n",
       "      <td>NaN</td>\n",
       "    </tr>\n",
       "    <tr>\n",
       "      <th>46</th>\n",
       "      <td>TSKIN_U</td>\n",
       "      <td>urban skin temperature</td>\n",
       "      <td>K</td>\n",
       "      <td>time: mean</td>\n",
       "      <td>1.e+36f</td>\n",
       "      <td>1.e+36f</td>\n",
       "      <td>Y</td>\n",
       "      <td>NaN</td>\n",
       "      <td>NaN</td>\n",
       "      <td>NaN</td>\n",
       "    </tr>\n",
       "    <tr>\n",
       "      <th>47</th>\n",
       "      <td>U10</td>\n",
       "      <td>10-m wind</td>\n",
       "      <td>m/s</td>\n",
       "      <td>time: mean</td>\n",
       "      <td>1.e+36f</td>\n",
       "      <td>1.e+36f</td>\n",
       "      <td>Y</td>\n",
       "      <td>Y</td>\n",
       "      <td>Y</td>\n",
       "      <td>NaN</td>\n",
       "    </tr>\n",
       "    <tr>\n",
       "      <th>48</th>\n",
       "      <td>URBAN_HEAT</td>\n",
       "      <td>urban heating flux</td>\n",
       "      <td>W/m^2</td>\n",
       "      <td>time: mean</td>\n",
       "      <td>1.e+36f</td>\n",
       "      <td>1.e+36f</td>\n",
       "      <td>Y</td>\n",
       "      <td>NaN</td>\n",
       "      <td>NaN</td>\n",
       "      <td>NaN</td>\n",
       "    </tr>\n",
       "    <tr>\n",
       "      <th>49</th>\n",
       "      <td>VAPOR_PRES</td>\n",
       "      <td>2 m vapor pressure</td>\n",
       "      <td>Pa</td>\n",
       "      <td>time: mean</td>\n",
       "      <td>1.e+36f</td>\n",
       "      <td>1.e+36f</td>\n",
       "      <td>Y</td>\n",
       "      <td>NaN</td>\n",
       "      <td>NaN</td>\n",
       "      <td>NaN</td>\n",
       "    </tr>\n",
       "    <tr>\n",
       "      <th>50</th>\n",
       "      <td>VAPOR_PRES_R</td>\n",
       "      <td>Rural 2 m vapor pressure</td>\n",
       "      <td>Pa</td>\n",
       "      <td>time: mean</td>\n",
       "      <td>1.e+36f</td>\n",
       "      <td>1.e+36f</td>\n",
       "      <td>Y</td>\n",
       "      <td>NaN</td>\n",
       "      <td>NaN</td>\n",
       "      <td>NaN</td>\n",
       "    </tr>\n",
       "    <tr>\n",
       "      <th>51</th>\n",
       "      <td>VAPOR_PRES_U</td>\n",
       "      <td>Urban 2 m vapor pressure</td>\n",
       "      <td>Pa</td>\n",
       "      <td>time: mean</td>\n",
       "      <td>1.e+36f</td>\n",
       "      <td>1.e+36f</td>\n",
       "      <td>Y</td>\n",
       "      <td>NaN</td>\n",
       "      <td>NaN</td>\n",
       "      <td>NaN</td>\n",
       "    </tr>\n",
       "    <tr>\n",
       "      <th>52</th>\n",
       "      <td>WASTEHEAT</td>\n",
       "      <td>sensible heat flux from heating/cooling sources of urban waste heat</td>\n",
       "      <td>W/m^2</td>\n",
       "      <td>time: mean</td>\n",
       "      <td>1.e+36f</td>\n",
       "      <td>1.e+36f</td>\n",
       "      <td>Y</td>\n",
       "      <td>NaN</td>\n",
       "      <td>NaN</td>\n",
       "      <td>NaN</td>\n",
       "    </tr>\n",
       "    <tr>\n",
       "      <th>53</th>\n",
       "      <td>WBA</td>\n",
       "      <td>2 m Wet Bulb</td>\n",
       "      <td>C</td>\n",
       "      <td>time: mean</td>\n",
       "      <td>1.e+36f</td>\n",
       "      <td>1.e+36f</td>\n",
       "      <td>NaN</td>\n",
       "      <td>NaN</td>\n",
       "      <td>NaN</td>\n",
       "      <td>NaN</td>\n",
       "    </tr>\n",
       "    <tr>\n",
       "      <th>54</th>\n",
       "      <td>WBA_R</td>\n",
       "      <td>Rural 2 m Wet Bulb</td>\n",
       "      <td>C</td>\n",
       "      <td>time: mean</td>\n",
       "      <td>1.e+36f</td>\n",
       "      <td>1.e+36f</td>\n",
       "      <td>NaN</td>\n",
       "      <td>O</td>\n",
       "      <td>NaN</td>\n",
       "      <td>NaN</td>\n",
       "    </tr>\n",
       "    <tr>\n",
       "      <th>55</th>\n",
       "      <td>WBA_U</td>\n",
       "      <td>Urban 2 m Wet Bulb</td>\n",
       "      <td>C</td>\n",
       "      <td>time: mean</td>\n",
       "      <td>1.e+36f</td>\n",
       "      <td>1.e+36f</td>\n",
       "      <td>NaN</td>\n",
       "      <td>O</td>\n",
       "      <td>NaN</td>\n",
       "      <td>NaN</td>\n",
       "    </tr>\n",
       "    <tr>\n",
       "      <th>56</th>\n",
       "      <td>WIND</td>\n",
       "      <td>atmospheric wind velocity magnitude</td>\n",
       "      <td>m/s</td>\n",
       "      <td>time: mean</td>\n",
       "      <td>1.e+36f</td>\n",
       "      <td>1.e+36f</td>\n",
       "      <td>Y</td>\n",
       "      <td>NaN</td>\n",
       "      <td>NaN</td>\n",
       "      <td>NaN</td>\n",
       "    </tr>\n",
       "  </tbody>\n",
       "</table>\n",
       "</div>"
      ]
     },
     "execution_count": 76,
     "metadata": {},
     "output_type": "execute_result"
    }
   ],
   "execution_count": 76
  },
  {
   "metadata": {
    "ExecuteTime": {
     "end_time": "2024-05-14T19:55:27.726015Z",
     "start_time": "2024-05-14T19:55:27.721813Z"
    }
   },
   "cell_type": "code",
   "source": "daily_vars",
   "id": "6bd19cc9d3f3417a",
   "outputs": [
    {
     "data": {
      "text/plain": [
       "8     EFLX_LH_TOT\n",
       "11            FGR\n",
       "14           FIRA\n",
       "20           FLDS\n",
       "21            FSA\n",
       "24           FSDS\n",
       "25            FSH\n",
       "32           PBOT\n",
       "33            Q2M\n",
       "41            TSA\n",
       "47            U10\n",
       "Name: Variable, dtype: object"
      ]
     },
     "execution_count": 77,
     "metadata": {},
     "output_type": "execute_result"
    }
   ],
   "execution_count": 77
  }
 ],
 "metadata": {
  "kernelspec": {
   "display_name": "Python 3 (ipykernel)",
   "language": "python",
   "name": "python3"
  },
  "language_info": {
   "codemirror_mode": {
    "name": "ipython",
    "version": 3
   },
   "file_extension": ".py",
   "mimetype": "text/x-python",
   "name": "python",
   "nbconvert_exporter": "python",
   "pygments_lexer": "ipython3",
   "version": "3.10.12"
  }
 },
 "nbformat": 4,
 "nbformat_minor": 5
}
