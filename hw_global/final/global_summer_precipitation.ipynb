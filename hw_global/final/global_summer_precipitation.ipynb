{
 "cells": [
  {
   "cell_type": "code",
   "execution_count": 13,
   "id": "initial_id",
   "metadata": {
    "collapsed": true,
    "ExecuteTime": {
     "end_time": "2024-03-26T01:40:41.466060Z",
     "start_time": "2024-03-26T01:40:41.457828Z"
    }
   },
   "source": [
    "import xarray as xr\n",
    "import dask\n",
    "import matplotlib.pyplot as plt\n",
    "import matplotlib.dates as mdates\n",
    "import seaborn as sns\n",
    "import glob\n",
    "import pandas as pd\n",
    "import os\n",
    "\n",
    "def spatial_mean(da):\n",
    "    \"\"\"Computes the spatial mean if lat and lon dimensions are present.\"\"\"\n",
    "    if 'lat' in da.dims and 'lon' in da.dims:\n",
    "        return da.mean(dim=['lat', 'lon'])\n",
    "    return da\n",
    "\n",
    "# Convert cftime.DatetimeNoLeap to numpy.datetime64\n",
    "def convert_time(ds):\n",
    "    ds['time'] = [pd.Timestamp(time.strftime()) for time in ds['time'].values]\n",
    "    return ds\n"
   ],
   "outputs": []
  },
  {
   "cell_type": "markdown",
   "source": [],
   "metadata": {
    "collapsed": false
   },
   "id": "fa90c5d3d0a4727e"
  },
  {
   "cell_type": "markdown",
   "source": [
    "# Data Retrieval\n",
    "    ## Select either Monethly (h0) daily (h1) or Hourly(h2) using wild card"
   ],
   "metadata": {
    "collapsed": false
   },
   "id": "3221f7c49076fc5"
  },
  {
   "cell_type": "code",
   "execution_count": 14,
   "source": [
    "# Directory where the netCDF files are located\n",
    "data_directory = '/Trex/case_results/i.e215.I2000Clm50SpGs.hw_production.02/sim_results/monthly'  # Current directory. Adjust this if your files are elsewhere.\n",
    "\n",
    "# File pattern\n",
    "# h2 is two years of daily files, each file contains 24 hourly output  \n",
    "file_pattern = \"i.e215.I2000Clm50SpGs.hw_production.02.clm2.h0.198*nc\" #1985 to 1989 5 years of data\n",
    "\n",
    "file_path_pattern = os.path.join(data_directory, file_pattern)"
   ],
   "metadata": {
    "collapsed": false,
    "ExecuteTime": {
     "end_time": "2024-03-26T01:40:41.590021Z",
     "start_time": "2024-03-26T01:40:41.584609Z"
    }
   },
   "id": "1e023bdd85a17071",
   "outputs": []
  },
  {
   "cell_type": "markdown",
   "source": [
    "## Get the list of files using the pattern"
   ],
   "metadata": {
    "collapsed": false
   },
   "id": "4d46586921080b3e"
  },
  {
   "cell_type": "code",
   "execution_count": 15,
   "source": [
    "file_list = glob.glob(file_path_pattern)\n",
    "file_list.sort(key=lambda x: os.path.basename(x).split('.')[-2])\n"
   ],
   "metadata": {
    "collapsed": false,
    "ExecuteTime": {
     "end_time": "2024-03-26T01:40:41.649101Z",
     "start_time": "2024-03-26T01:40:41.642928Z"
    }
   },
   "id": "d4ee9cfd28444e98",
   "outputs": []
  },
  {
   "cell_type": "code",
   "execution_count": 16,
   "source": [
    "# os.listdir(directory)\n",
    "file_list"
   ],
   "metadata": {
    "collapsed": false,
    "ExecuteTime": {
     "end_time": "2024-03-26T01:40:41.756552Z",
     "start_time": "2024-03-26T01:40:41.750579Z"
    }
   },
   "id": "993d35172f9b3c48",
   "outputs": []
  },
  {
   "cell_type": "markdown",
   "source": [
    "## Open the files using Dask and Xarray"
   ],
   "metadata": {
    "collapsed": false
   },
   "id": "66c072a02eb83c4a"
  },
  {
   "cell_type": "code",
   "execution_count": 17,
   "source": [
    "ds = xr.open_mfdataset(file_list, combine='by_coords', engine='netcdf4')\n",
    "# ds = xr.open_mfdataset(file_list, combine='by_coords', engine='netcdf4')"
   ],
   "metadata": {
    "collapsed": false,
    "ExecuteTime": {
     "end_time": "2024-03-26T01:41:00.178956Z",
     "start_time": "2024-03-26T01:40:41.830070Z"
    }
   },
   "id": "df0e68023f448bcd",
   "outputs": []
  },
  {
   "cell_type": "markdown",
   "source": [
    "## Convert the cftime.DatetimeNoLeap objects to pandas Timestamps"
   ],
   "metadata": {
    "collapsed": false
   },
   "id": "229bc71db42d5c80"
  },
  {
   "cell_type": "code",
   "execution_count": 18,
   "source": [
    "ds = convert_time(ds)"
   ],
   "metadata": {
    "collapsed": false,
    "ExecuteTime": {
     "end_time": "2024-03-26T01:41:00.186766Z",
     "start_time": "2024-03-26T01:41:00.180916Z"
    }
   },
   "id": "c83aa6d9ad0f9a3d",
   "outputs": []
  },
  {
   "cell_type": "markdown",
   "source": [
    "## examine the xarray object"
   ],
   "metadata": {
    "collapsed": false
   },
   "id": "26ce4ed815f3a155"
  },
  {
   "cell_type": "code",
   "execution_count": 19,
   "source": [
    "ds"
   ],
   "metadata": {
    "collapsed": false,
    "ExecuteTime": {
     "end_time": "2024-03-26T01:41:00.391498Z",
     "start_time": "2024-03-26T01:41:00.187640Z"
    }
   },
   "id": "24d82dcc5d25325",
   "outputs": []
  },
  {
   "cell_type": "markdown",
   "source": [
    "# Define Variables to Report"
   ],
   "metadata": {
    "collapsed": false
   },
   "id": "26777ebfbcfbd997"
  },
  {
   "cell_type": "code",
   "execution_count": 20,
   "source": [
    "variables = ['TSA', 'RH2M', 'RAIN']"
   ],
   "metadata": {
    "collapsed": false,
    "ExecuteTime": {
     "end_time": "2024-03-26T01:41:00.395872Z",
     "start_time": "2024-03-26T01:41:00.393230Z"
    }
   },
   "id": "fadcac95cda93c83",
   "outputs": []
  },
  {
   "cell_type": "markdown",
   "source": [
    "#  Filter global summer"
   ],
   "metadata": {
    "collapsed": false
   },
   "id": "a370bf3e4016cdcd"
  },
  {
   "cell_type": "code",
   "execution_count": 21,
   "source": [
    "# Filter dataset by the year 2000\n",
    "ds_sel = ds # ds.sel(time=slice('1985', '1994'))\n",
    "ds_sel"
   ],
   "metadata": {
    "collapsed": false,
    "ExecuteTime": {
     "end_time": "2024-03-26T01:41:00.599473Z",
     "start_time": "2024-03-26T01:41:00.396790Z"
    }
   },
   "id": "e38b331444fb08b4",
   "outputs": []
  },
  {
   "cell_type": "code",
   "source": [
    "def set_unwanted_to_nan(ds):\n",
    "    # Condition for JJA in the Northern Hemisphere\n",
    "    condition_jja_nh = (ds['time.season'] == 'JJA') & (ds['lat'] >= 0)\n",
    "\n",
    "    # Condition for DJF in the Southern Hemisphere\n",
    "    condition_djf_sh = (ds['time.season'] == 'DJF') & (ds['lat'] < 0)\n",
    "\n",
    "    # # Set grid cells to NaN where TSA_U is null\n",
    "    # condition_tsa_u_not_null = ds['TSA_U'].notnull()\n",
    "\n",
    "    # Combine conditions for the desired data, set others to NaN\n",
    "    condition = (condition_jja_nh | condition_djf_sh) #& condition_tsa_u_not_null\n",
    "\n",
    "    # Apply condition, keeping structure intact\n",
    "    ds_filtered = ds.where(condition, drop=True)\n",
    "\n",
    "    return ds_filtered"
   ],
   "metadata": {
    "collapsed": false,
    "ExecuteTime": {
     "end_time": "2024-03-26T01:48:29.957498Z",
     "start_time": "2024-03-26T01:48:29.950297Z"
    }
   },
   "id": "2484540814561269",
   "execution_count": 26,
   "outputs": []
  },
  {
   "cell_type": "code",
   "source": [
    "ds_summer = set_unwanted_to_nan(ds_sel)\n",
    "ds_summer"
   ],
   "metadata": {
    "collapsed": false,
    "ExecuteTime": {
     "end_time": "2024-03-26T01:48:33.961998Z",
     "start_time": "2024-03-26T01:48:33.177818Z"
    }
   },
   "id": "516ab283affb97c4",
   "execution_count": 27,
   "outputs": []
  },
  {
   "cell_type": "code",
   "source": [
    "ds_summer.isel(time=0).dropna(dim='lat', how='all')  #printonly"
   ],
   "metadata": {
    "collapsed": false,
    "ExecuteTime": {
     "end_time": "2024-03-26T01:50:54.302672Z",
     "start_time": "2024-03-26T01:50:52.540807Z"
    }
   },
   "id": "21151eefea7d46ab",
   "execution_count": 29,
   "outputs": []
  },
  {
   "cell_type": "code",
   "source": [
    "#average of RAIN variable for summer\n",
    "ds_rain_mean = ds_summer['RAIN'].mean(dim='time')\n",
    "ds_rain_mean.plot()"
   ],
   "metadata": {
    "collapsed": false,
    "ExecuteTime": {
     "end_time": "2024-03-26T01:47:13.892096Z",
     "start_time": "2024-03-26T01:47:13.321959Z"
    }
   },
   "id": "e91e4b1767d2febe",
   "execution_count": 25,
   "outputs": []
  },
  {
   "cell_type": "code",
   "source": [
    "ds_summer['SNOW'].mean(dim='time').plot()"
   ],
   "metadata": {
    "collapsed": false,
    "ExecuteTime": {
     "end_time": "2024-03-26T02:06:54.718881Z",
     "start_time": "2024-03-26T02:06:54.298020Z"
    }
   },
   "id": "48b2085469978766",
   "execution_count": 35,
   "outputs": []
  },
  {
   "cell_type": "code",
   "source": [
    "ds_summer['Precip'] = ds_summer['RAIN'] + ds_summer['SNOW']"
   ],
   "metadata": {
    "collapsed": false,
    "ExecuteTime": {
     "end_time": "2024-03-26T02:04:44.123740Z",
     "start_time": "2024-03-26T02:04:44.113749Z"
    }
   },
   "id": "558c946af44512d2",
   "execution_count": 31,
   "outputs": []
  },
  {
   "cell_type": "code",
   "source": [
    "ds_summer['Precip']"
   ],
   "metadata": {
    "collapsed": false,
    "ExecuteTime": {
     "end_time": "2024-03-26T02:48:43.787232Z",
     "start_time": "2024-03-26T02:48:43.768557Z"
    }
   },
   "id": "73c6bd2502b91198",
   "execution_count": 40,
   "outputs": []
  },
  {
   "cell_type": "code",
   "source": [
    "# Calculate the number of days in each month\n",
    "days_in_month = ds_summer.time.dt.days_in_month\n",
    "\n",
    "# Create a new DataArray that weights the Precip values by the number of days in each month\n",
    "weighted_precip = ds_summer['Precip'] * days_in_month\n",
    "\n",
    "# Group by year and sum to get the total annual Precip value, weighted by days\n",
    "annual_precip = weighted_precip.groupby('time.year').sum(dim='time')\n",
    "\n",
    "# The result is an xarray DataArray with annual total values for 'Precip'\n",
    "year(annual_precip.mean(dim='year')* 3600 * 24) # printonly"
   ],
   "metadata": {
    "collapsed": false,
    "ExecuteTime": {
     "end_time": "2024-03-26T02:57:37.158978Z",
     "start_time": "2024-03-26T02:57:36.981360Z"
    }
   },
   "id": "5db5e4a9db7c040c",
   "execution_count": 51,
   "outputs": []
  },
  {
   "cell_type": "code",
   "source": [
    "ds_summer['Precip'].mean().values * 3600 * 24"
   ],
   "metadata": {
    "collapsed": false,
    "ExecuteTime": {
     "end_time": "2024-03-26T02:10:13.378734Z",
     "start_time": "2024-03-26T02:10:13.296118Z"
    }
   },
   "id": "f0ea7ac79879baf8",
   "execution_count": 39,
   "outputs": []
  },
  {
   "cell_type": "code",
   "source": [
    "\n",
    "#average for yearly total RAIN\n",
    "yearly_avg_rain: xr.core.dataarray.DataArray = ds['RAIN'].sum(dim='time')/10.0\n",
    "yearly_avg_rain = yearly_avg_rain.compute() "
   ],
   "metadata": {
    "collapsed": false
   },
   "id": "8367db488211e2fe",
   "execution_count": null,
   "outputs": []
  },
  {
   "cell_type": "code",
   "source": [
    "yearly_avg_rain"
   ],
   "metadata": {
    "collapsed": false
   },
   "id": "87de85a162a4e082",
   "execution_count": null,
   "outputs": []
  },
  {
   "cell_type": "code",
   "source": [
    "df =yearly_avg_rain.to_dataframe(name='RAIN')\n",
    "df"
   ],
   "metadata": {
    "collapsed": false
   },
   "id": "dd5693e06ba48063",
   "execution_count": null,
   "outputs": []
  }
 ],
 "metadata": {
  "kernelspec": {
   "display_name": "Python 3",
   "language": "python",
   "name": "python3"
  },
  "language_info": {
   "codemirror_mode": {
    "name": "ipython",
    "version": 2
   },
   "file_extension": ".py",
   "mimetype": "text/x-python",
   "name": "python",
   "nbconvert_exporter": "python",
   "pygments_lexer": "ipython2",
   "version": "2.7.6"
  }
 },
 "nbformat": 4,
 "nbformat_minor": 5
}
