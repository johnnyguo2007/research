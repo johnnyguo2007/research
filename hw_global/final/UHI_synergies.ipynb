{
 "cells": [
  {
   "cell_type": "code",
   "outputs": [],
   "source": [
    "import pandas as pd\n",
    "import numpy as np\n",
    "import xarray as xr\n",
    "import os"
   ],
   "metadata": {
    "collapsed": false,
    "ExecuteTime": {
     "end_time": "2024-03-22T20:00:44.380628Z",
     "start_time": "2024-03-22T20:00:44.376390Z"
    }
   },
   "id": "adcc6087f5cd7c2b",
   "execution_count": 44
  },
  {
   "cell_type": "markdown",
   "source": [
    "#  Load  and prepare HW and NO_HW df"
   ],
   "metadata": {
    "collapsed": false
   },
   "id": "bd4a208e90a97858"
  },
  {
   "cell_type": "markdown",
   "source": [
    "##  Load HW data"
   ],
   "metadata": {
    "collapsed": false
   },
   "id": "3f5832fe3ddff1d8"
  },
  {
   "cell_type": "code",
   "outputs": [
    {
     "name": "stdout",
     "output_type": "stream",
     "text": [
      "<class 'pandas.core.frame.DataFrame'>\n",
      "MultiIndex: 20107224 entries, (-40.994766, 288.75, Timestamp('1985-12-01 00:00:00')) to (62.67016, 113.75, Timestamp('1994-07-15 23:00:00'))\n",
      "Data columns (total 3 columns):\n",
      " #   Column  Dtype  \n",
      "---  ------  -----  \n",
      " 0   UHI     float32\n",
      " 1   UBWI    float32\n",
      " 2   HW      float64\n",
      "dtypes: float32(2), float64(1)\n",
      "memory usage: 442.4 MB\n",
      "None\n"
     ]
    },
    {
     "data": {
      "text/plain": "                                            UHI      UBWI   HW\nlat        lon    time                                        \n-40.994766 288.75 1985-12-01 00:00:00  1.284210 -0.116805  1.0\n                  1985-12-01 01:00:00  1.196442  0.104045  1.0\n                  1985-12-01 02:00:00  1.178253  0.174866  1.0\n                  1985-12-01 03:00:00  1.142365  0.199996  1.0\n                  1985-12-01 04:00:00  1.093079  0.209863  1.0\n...                                         ...       ...  ...\n 62.670158 113.75 1994-07-15 19:00:00  2.029236  1.313322  1.0\n                  1994-07-15 20:00:00  1.745575  1.034362  1.0\n                  1994-07-15 21:00:00  1.385864  0.682290  1.0\n                  1994-07-15 22:00:00  0.643921  0.205750  1.0\n                  1994-07-15 23:00:00  0.090027 -0.027581  1.0\n\n[20107224 rows x 3 columns]",
      "text/html": "<div>\n<style scoped>\n    .dataframe tbody tr th:only-of-type {\n        vertical-align: middle;\n    }\n\n    .dataframe tbody tr th {\n        vertical-align: top;\n    }\n\n    .dataframe thead th {\n        text-align: right;\n    }\n</style>\n<table border=\"1\" class=\"dataframe\">\n  <thead>\n    <tr style=\"text-align: right;\">\n      <th></th>\n      <th></th>\n      <th></th>\n      <th>UHI</th>\n      <th>UBWI</th>\n      <th>HW</th>\n    </tr>\n    <tr>\n      <th>lat</th>\n      <th>lon</th>\n      <th>time</th>\n      <th></th>\n      <th></th>\n      <th></th>\n    </tr>\n  </thead>\n  <tbody>\n    <tr>\n      <th rowspan=\"5\" valign=\"top\">-40.994766</th>\n      <th rowspan=\"5\" valign=\"top\">288.75</th>\n      <th>1985-12-01 00:00:00</th>\n      <td>1.284210</td>\n      <td>-0.116805</td>\n      <td>1.0</td>\n    </tr>\n    <tr>\n      <th>1985-12-01 01:00:00</th>\n      <td>1.196442</td>\n      <td>0.104045</td>\n      <td>1.0</td>\n    </tr>\n    <tr>\n      <th>1985-12-01 02:00:00</th>\n      <td>1.178253</td>\n      <td>0.174866</td>\n      <td>1.0</td>\n    </tr>\n    <tr>\n      <th>1985-12-01 03:00:00</th>\n      <td>1.142365</td>\n      <td>0.199996</td>\n      <td>1.0</td>\n    </tr>\n    <tr>\n      <th>1985-12-01 04:00:00</th>\n      <td>1.093079</td>\n      <td>0.209863</td>\n      <td>1.0</td>\n    </tr>\n    <tr>\n      <th>...</th>\n      <th>...</th>\n      <th>...</th>\n      <td>...</td>\n      <td>...</td>\n      <td>...</td>\n    </tr>\n    <tr>\n      <th rowspan=\"5\" valign=\"top\">62.670158</th>\n      <th rowspan=\"5\" valign=\"top\">113.75</th>\n      <th>1994-07-15 19:00:00</th>\n      <td>2.029236</td>\n      <td>1.313322</td>\n      <td>1.0</td>\n    </tr>\n    <tr>\n      <th>1994-07-15 20:00:00</th>\n      <td>1.745575</td>\n      <td>1.034362</td>\n      <td>1.0</td>\n    </tr>\n    <tr>\n      <th>1994-07-15 21:00:00</th>\n      <td>1.385864</td>\n      <td>0.682290</td>\n      <td>1.0</td>\n    </tr>\n    <tr>\n      <th>1994-07-15 22:00:00</th>\n      <td>0.643921</td>\n      <td>0.205750</td>\n      <td>1.0</td>\n    </tr>\n    <tr>\n      <th>1994-07-15 23:00:00</th>\n      <td>0.090027</td>\n      <td>-0.027581</td>\n      <td>1.0</td>\n    </tr>\n  </tbody>\n</table>\n<p>20107224 rows × 3 columns</p>\n</div>"
     },
     "execution_count": 45,
     "metadata": {},
     "output_type": "execute_result"
    }
   ],
   "source": [
    "# Load the parquet data from /Trex/case_results/i.e215.I2000Clm50SpGs.hw_production.02/research_results/parquet\n",
    "#data_dir = '/Users/yguo/DataSpellProjects/hw/data/parquet'\n",
    "data_dir = '/Trex/case_results/i.e215.I2000Clm50SpGs.hw_production.02/research_results/parquet'\n",
    "file_name_hw = 'HW_1985_1994.parquet'\n",
    "#join data_dir and file_name\n",
    "hw_path = os.path.join(data_dir, file_name_hw)\n",
    "df_hw = pd.read_parquet(hw_path)\n",
    "print(df_hw.info())\n",
    "df_hw"
   ],
   "metadata": {
    "collapsed": false,
    "ExecuteTime": {
     "end_time": "2024-03-22T20:00:46.767118Z",
     "start_time": "2024-03-22T20:00:44.491460Z"
    }
   },
   "id": "d37d24e7a57321c5",
   "execution_count": 45
  },
  {
   "cell_type": "markdown",
   "source": [
    "##  add hour, month and year to the df_hw\n"
   ],
   "metadata": {
    "collapsed": false
   },
   "id": "c6505094eaed4966"
  },
  {
   "cell_type": "code",
   "outputs": [
    {
     "data": {
      "text/plain": "                                            UHI      UBWI   HW  hour  month  \\\nlat        lon    time                                                        \n-40.994766 288.75 1985-12-01 00:00:00  1.284210 -0.116805  1.0     0     12   \n                  1985-12-01 01:00:00  1.196442  0.104045  1.0     1     12   \n                  1985-12-01 02:00:00  1.178253  0.174866  1.0     2     12   \n                  1985-12-01 03:00:00  1.142365  0.199996  1.0     3     12   \n                  1985-12-01 04:00:00  1.093079  0.209863  1.0     4     12   \n...                                         ...       ...  ...   ...    ...   \n 62.670158 113.75 1994-07-15 19:00:00  2.029236  1.313322  1.0    19      7   \n                  1994-07-15 20:00:00  1.745575  1.034362  1.0    20      7   \n                  1994-07-15 21:00:00  1.385864  0.682290  1.0    21      7   \n                  1994-07-15 22:00:00  0.643921  0.205750  1.0    22      7   \n                  1994-07-15 23:00:00  0.090027 -0.027581  1.0    23      7   \n\n                                       year  \nlat        lon    time                       \n-40.994766 288.75 1985-12-01 00:00:00  1985  \n                  1985-12-01 01:00:00  1985  \n                  1985-12-01 02:00:00  1985  \n                  1985-12-01 03:00:00  1985  \n                  1985-12-01 04:00:00  1985  \n...                                     ...  \n 62.670158 113.75 1994-07-15 19:00:00  1994  \n                  1994-07-15 20:00:00  1994  \n                  1994-07-15 21:00:00  1994  \n                  1994-07-15 22:00:00  1994  \n                  1994-07-15 23:00:00  1994  \n\n[20107224 rows x 6 columns]",
      "text/html": "<div>\n<style scoped>\n    .dataframe tbody tr th:only-of-type {\n        vertical-align: middle;\n    }\n\n    .dataframe tbody tr th {\n        vertical-align: top;\n    }\n\n    .dataframe thead th {\n        text-align: right;\n    }\n</style>\n<table border=\"1\" class=\"dataframe\">\n  <thead>\n    <tr style=\"text-align: right;\">\n      <th></th>\n      <th></th>\n      <th></th>\n      <th>UHI</th>\n      <th>UBWI</th>\n      <th>HW</th>\n      <th>hour</th>\n      <th>month</th>\n      <th>year</th>\n    </tr>\n    <tr>\n      <th>lat</th>\n      <th>lon</th>\n      <th>time</th>\n      <th></th>\n      <th></th>\n      <th></th>\n      <th></th>\n      <th></th>\n      <th></th>\n    </tr>\n  </thead>\n  <tbody>\n    <tr>\n      <th rowspan=\"5\" valign=\"top\">-40.994766</th>\n      <th rowspan=\"5\" valign=\"top\">288.75</th>\n      <th>1985-12-01 00:00:00</th>\n      <td>1.284210</td>\n      <td>-0.116805</td>\n      <td>1.0</td>\n      <td>0</td>\n      <td>12</td>\n      <td>1985</td>\n    </tr>\n    <tr>\n      <th>1985-12-01 01:00:00</th>\n      <td>1.196442</td>\n      <td>0.104045</td>\n      <td>1.0</td>\n      <td>1</td>\n      <td>12</td>\n      <td>1985</td>\n    </tr>\n    <tr>\n      <th>1985-12-01 02:00:00</th>\n      <td>1.178253</td>\n      <td>0.174866</td>\n      <td>1.0</td>\n      <td>2</td>\n      <td>12</td>\n      <td>1985</td>\n    </tr>\n    <tr>\n      <th>1985-12-01 03:00:00</th>\n      <td>1.142365</td>\n      <td>0.199996</td>\n      <td>1.0</td>\n      <td>3</td>\n      <td>12</td>\n      <td>1985</td>\n    </tr>\n    <tr>\n      <th>1985-12-01 04:00:00</th>\n      <td>1.093079</td>\n      <td>0.209863</td>\n      <td>1.0</td>\n      <td>4</td>\n      <td>12</td>\n      <td>1985</td>\n    </tr>\n    <tr>\n      <th>...</th>\n      <th>...</th>\n      <th>...</th>\n      <td>...</td>\n      <td>...</td>\n      <td>...</td>\n      <td>...</td>\n      <td>...</td>\n      <td>...</td>\n    </tr>\n    <tr>\n      <th rowspan=\"5\" valign=\"top\">62.670158</th>\n      <th rowspan=\"5\" valign=\"top\">113.75</th>\n      <th>1994-07-15 19:00:00</th>\n      <td>2.029236</td>\n      <td>1.313322</td>\n      <td>1.0</td>\n      <td>19</td>\n      <td>7</td>\n      <td>1994</td>\n    </tr>\n    <tr>\n      <th>1994-07-15 20:00:00</th>\n      <td>1.745575</td>\n      <td>1.034362</td>\n      <td>1.0</td>\n      <td>20</td>\n      <td>7</td>\n      <td>1994</td>\n    </tr>\n    <tr>\n      <th>1994-07-15 21:00:00</th>\n      <td>1.385864</td>\n      <td>0.682290</td>\n      <td>1.0</td>\n      <td>21</td>\n      <td>7</td>\n      <td>1994</td>\n    </tr>\n    <tr>\n      <th>1994-07-15 22:00:00</th>\n      <td>0.643921</td>\n      <td>0.205750</td>\n      <td>1.0</td>\n      <td>22</td>\n      <td>7</td>\n      <td>1994</td>\n    </tr>\n    <tr>\n      <th>1994-07-15 23:00:00</th>\n      <td>0.090027</td>\n      <td>-0.027581</td>\n      <td>1.0</td>\n      <td>23</td>\n      <td>7</td>\n      <td>1994</td>\n    </tr>\n  </tbody>\n</table>\n<p>20107224 rows × 6 columns</p>\n</div>"
     },
     "execution_count": 46,
     "metadata": {},
     "output_type": "execute_result"
    }
   ],
   "source": [
    "# Ensure 'time' is of datetime type\n",
    "df_hw.index = df_hw.index.set_levels([df_hw.index.levels[0], df_hw.index.levels[1], pd.to_datetime(df_hw.index.levels[2])])\n",
    "\n",
    "# Extract hour, month and year from 'time'\n",
    "df_hw['hour'] = df_hw.index.get_level_values('time').hour\n",
    "df_hw['month'] = df_hw.index.get_level_values('time').month\n",
    "df_hw['year'] = df_hw.index.get_level_values('time').year\n",
    "df_hw"
   ],
   "metadata": {
    "collapsed": false,
    "ExecuteTime": {
     "end_time": "2024-03-22T20:00:51.232091Z",
     "start_time": "2024-03-22T20:00:46.768702Z"
    }
   },
   "id": "53304be825b6ed52",
   "execution_count": 46
  },
  {
   "cell_type": "code",
   "outputs": [],
   "source": [
    "# # Group by 'lat', 'lon', 'year', 'month', and 'hour', then calculate the mean of 'UHI' and 'UBWI'\n",
    "# df_hw_avg = df_hw.groupby(['lat', 'lon', 'year', 'month', 'hour']).mean()\n",
    "# df_hw_avg"
   ],
   "metadata": {
    "collapsed": false,
    "ExecuteTime": {
     "end_time": "2024-03-22T20:00:51.236260Z",
     "start_time": "2024-03-22T20:00:51.233564Z"
    }
   },
   "id": "d3aa0b6bd788586a",
   "execution_count": 47
  },
  {
   "cell_type": "markdown",
   "source": [
    "##  Load NO_HW data"
   ],
   "metadata": {
    "collapsed": false
   },
   "id": "57a51d9af5448cb3"
  },
  {
   "cell_type": "code",
   "outputs": [
    {
     "name": "stdout",
     "output_type": "stream",
     "text": [
      "<class 'pandas.core.frame.DataFrame'>\n",
      "MultiIndex: 73117416 entries, (-55.13089, 291.25, Timestamp('1985-01-01 00:00:00')) to (70.20943, 31.25, Timestamp('1994-08-31 23:00:00'))\n",
      "Data columns (total 2 columns):\n",
      " #   Column  Dtype  \n",
      "---  ------  -----  \n",
      " 0   UHI     float32\n",
      " 1   UBWI    float32\n",
      "dtypes: float32(2)\n",
      "memory usage: 1.1 GB\n",
      "None\n"
     ]
    },
    {
     "data": {
      "text/plain": "                                            UHI      UBWI\nlat        lon    time                                   \n-55.130890 291.25 1985-01-01 00:00:00 -0.465027 -0.488769\n                  1985-01-01 01:00:00  0.007538  0.027193\n                  1985-01-01 02:00:00  0.213013  0.172712\n                  1985-01-01 03:00:00  0.209503  0.155361\n                  1985-01-01 04:00:00  0.164490  0.133307\n...                                         ...       ...\n 70.209427 31.25  1994-08-31 19:00:00  0.879242  0.335660\n                  1994-08-31 20:00:00  1.104370  0.431603\n                  1994-08-31 21:00:00  1.207367  0.512312\n                  1994-08-31 22:00:00  1.184082  0.508102\n                  1994-08-31 23:00:00  1.111176  0.470229\n\n[73117416 rows x 2 columns]",
      "text/html": "<div>\n<style scoped>\n    .dataframe tbody tr th:only-of-type {\n        vertical-align: middle;\n    }\n\n    .dataframe tbody tr th {\n        vertical-align: top;\n    }\n\n    .dataframe thead th {\n        text-align: right;\n    }\n</style>\n<table border=\"1\" class=\"dataframe\">\n  <thead>\n    <tr style=\"text-align: right;\">\n      <th></th>\n      <th></th>\n      <th></th>\n      <th>UHI</th>\n      <th>UBWI</th>\n    </tr>\n    <tr>\n      <th>lat</th>\n      <th>lon</th>\n      <th>time</th>\n      <th></th>\n      <th></th>\n    </tr>\n  </thead>\n  <tbody>\n    <tr>\n      <th rowspan=\"5\" valign=\"top\">-55.130890</th>\n      <th rowspan=\"5\" valign=\"top\">291.25</th>\n      <th>1985-01-01 00:00:00</th>\n      <td>-0.465027</td>\n      <td>-0.488769</td>\n    </tr>\n    <tr>\n      <th>1985-01-01 01:00:00</th>\n      <td>0.007538</td>\n      <td>0.027193</td>\n    </tr>\n    <tr>\n      <th>1985-01-01 02:00:00</th>\n      <td>0.213013</td>\n      <td>0.172712</td>\n    </tr>\n    <tr>\n      <th>1985-01-01 03:00:00</th>\n      <td>0.209503</td>\n      <td>0.155361</td>\n    </tr>\n    <tr>\n      <th>1985-01-01 04:00:00</th>\n      <td>0.164490</td>\n      <td>0.133307</td>\n    </tr>\n    <tr>\n      <th>...</th>\n      <th>...</th>\n      <th>...</th>\n      <td>...</td>\n      <td>...</td>\n    </tr>\n    <tr>\n      <th rowspan=\"5\" valign=\"top\">70.209427</th>\n      <th rowspan=\"5\" valign=\"top\">31.25</th>\n      <th>1994-08-31 19:00:00</th>\n      <td>0.879242</td>\n      <td>0.335660</td>\n    </tr>\n    <tr>\n      <th>1994-08-31 20:00:00</th>\n      <td>1.104370</td>\n      <td>0.431603</td>\n    </tr>\n    <tr>\n      <th>1994-08-31 21:00:00</th>\n      <td>1.207367</td>\n      <td>0.512312</td>\n    </tr>\n    <tr>\n      <th>1994-08-31 22:00:00</th>\n      <td>1.184082</td>\n      <td>0.508102</td>\n    </tr>\n    <tr>\n      <th>1994-08-31 23:00:00</th>\n      <td>1.111176</td>\n      <td>0.470229</td>\n    </tr>\n  </tbody>\n</table>\n<p>73117416 rows × 2 columns</p>\n</div>"
     },
     "execution_count": 48,
     "metadata": {},
     "output_type": "execute_result"
    }
   ],
   "source": [
    "\n",
    "file_name_no_hw = 'NO_HW_1985_1994.parquet'\n",
    "#join data_dir and file_name\n",
    "no_hw_path = os.path.join(data_dir, file_name_no_hw)\n",
    "df_no_hw = pd.read_parquet(no_hw_path)\n",
    "print(df_no_hw.info())\n",
    "df_no_hw"
   ],
   "metadata": {
    "collapsed": false,
    "ExecuteTime": {
     "end_time": "2024-03-22T20:00:59.343911Z",
     "start_time": "2024-03-22T20:00:51.238155Z"
    }
   },
   "id": "9e8ee0d5a634867e",
   "execution_count": 48
  },
  {
   "cell_type": "code",
   "outputs": [],
   "source": [
    "#todo: add UHI and NO_HW UHI to make sure they are the same as the oringal netcdf data\n"
   ],
   "metadata": {
    "collapsed": false,
    "ExecuteTime": {
     "end_time": "2024-03-22T20:00:59.348592Z",
     "start_time": "2024-03-22T20:00:59.345606Z"
    }
   },
   "id": "a4baf241ca6cd1bc",
   "execution_count": 49
  },
  {
   "cell_type": "markdown",
   "source": [
    "##  Validate there is not overlap between the HW and NO_HW data"
   ],
   "metadata": {
    "collapsed": false
   },
   "id": "6c0a2dfcd82835f6"
  },
  {
   "cell_type": "code",
   "outputs": [],
   "source": [
    "#the key for both df_hw and df_no_hw are lat, lon and time. please show python code that they don't overlap on those keys\n",
    "# Convert the MultiIndex of both DataFrames to sets\n",
    "# keys_hw = set(df_hw.index)\n",
    "# keys_no_hw = set(df_no_hw.index)\n",
    "# \n",
    "# # Check if the intersection of these sets is empty\n",
    "# overlap = keys_hw & keys_no_hw\n",
    "# \n",
    "# # If the intersection is empty, print that there is no overlap. Otherwise, print the overlapping keys.\n",
    "# if not overlap:\n",
    "#     print(\"There is no overlap between the keys of df_hw and df_no_hw.\")\n",
    "# else:\n",
    "#     print(\"The following keys overlap between df_hw and df_no_hw:\")\n",
    "#     print(overlap)"
   ],
   "metadata": {
    "collapsed": false,
    "ExecuteTime": {
     "end_time": "2024-03-22T20:00:59.357375Z",
     "start_time": "2024-03-22T20:00:59.349521Z"
    }
   },
   "id": "37a41e23a1df7c37",
   "execution_count": 50
  },
  {
   "cell_type": "code",
   "outputs": [
    {
     "data": {
      "text/plain": "                                  UHI      UBWI\nlat        lon    year hour                    \n-55.130890 291.25 1985 0     0.305542  0.122376\n                       1     0.366234  0.171864\n                       2     0.374915  0.186239\n                       3     0.351239  0.173043\n                       4     0.331068  0.164803\n...                               ...       ...\n 70.209427 31.25  1994 19    0.677809  0.283742\n                       20    0.815796  0.349291\n                       21    0.902967  0.396645\n                       22    0.955209  0.448562\n                       23    0.972885  0.492617\n\n[1002504 rows x 2 columns]",
      "text/html": "<div>\n<style scoped>\n    .dataframe tbody tr th:only-of-type {\n        vertical-align: middle;\n    }\n\n    .dataframe tbody tr th {\n        vertical-align: top;\n    }\n\n    .dataframe thead th {\n        text-align: right;\n    }\n</style>\n<table border=\"1\" class=\"dataframe\">\n  <thead>\n    <tr style=\"text-align: right;\">\n      <th></th>\n      <th></th>\n      <th></th>\n      <th></th>\n      <th>UHI</th>\n      <th>UBWI</th>\n    </tr>\n    <tr>\n      <th>lat</th>\n      <th>lon</th>\n      <th>year</th>\n      <th>hour</th>\n      <th></th>\n      <th></th>\n    </tr>\n  </thead>\n  <tbody>\n    <tr>\n      <th rowspan=\"5\" valign=\"top\">-55.130890</th>\n      <th rowspan=\"5\" valign=\"top\">291.25</th>\n      <th rowspan=\"5\" valign=\"top\">1985</th>\n      <th>0</th>\n      <td>0.305542</td>\n      <td>0.122376</td>\n    </tr>\n    <tr>\n      <th>1</th>\n      <td>0.366234</td>\n      <td>0.171864</td>\n    </tr>\n    <tr>\n      <th>2</th>\n      <td>0.374915</td>\n      <td>0.186239</td>\n    </tr>\n    <tr>\n      <th>3</th>\n      <td>0.351239</td>\n      <td>0.173043</td>\n    </tr>\n    <tr>\n      <th>4</th>\n      <td>0.331068</td>\n      <td>0.164803</td>\n    </tr>\n    <tr>\n      <th>...</th>\n      <th>...</th>\n      <th>...</th>\n      <th>...</th>\n      <td>...</td>\n      <td>...</td>\n    </tr>\n    <tr>\n      <th rowspan=\"5\" valign=\"top\">70.209427</th>\n      <th rowspan=\"5\" valign=\"top\">31.25</th>\n      <th rowspan=\"5\" valign=\"top\">1994</th>\n      <th>19</th>\n      <td>0.677809</td>\n      <td>0.283742</td>\n    </tr>\n    <tr>\n      <th>20</th>\n      <td>0.815796</td>\n      <td>0.349291</td>\n    </tr>\n    <tr>\n      <th>21</th>\n      <td>0.902967</td>\n      <td>0.396645</td>\n    </tr>\n    <tr>\n      <th>22</th>\n      <td>0.955209</td>\n      <td>0.448562</td>\n    </tr>\n    <tr>\n      <th>23</th>\n      <td>0.972885</td>\n      <td>0.492617</td>\n    </tr>\n  </tbody>\n</table>\n<p>1002504 rows × 2 columns</p>\n</div>"
     },
     "execution_count": 51,
     "metadata": {},
     "output_type": "execute_result"
    }
   ],
   "source": [
    "\n",
    "# group df_no_hw by lat, lon, year and hour of the day avaerage UHI and UBWI\n",
    "df_no_hw.index = df_no_hw.index.set_levels(\n",
    "    [df_no_hw.index.levels[0], df_no_hw.index.levels[1], pd.to_datetime(df_no_hw.index.levels[2])])\n",
    "df_no_hw['hour'] = df_no_hw.index.get_level_values('time').hour\n",
    "df_no_hw['year'] = df_no_hw.index.get_level_values('time').year\n",
    "df_no_hw_avg = df_no_hw.groupby(['lat', 'lon', 'year', 'hour']).mean()\n",
    "df_no_hw_avg"
   ],
   "metadata": {
    "collapsed": false,
    "ExecuteTime": {
     "end_time": "2024-03-22T20:01:17.037333Z",
     "start_time": "2024-03-22T20:00:59.358227Z"
    }
   },
   "id": "ac3fff9f973f6840",
   "execution_count": 51
  },
  {
   "cell_type": "markdown",
   "source": [
    "#  Calculate the difference between UHI in df_hw and df_no_hw"
   ],
   "metadata": {
    "collapsed": false
   },
   "id": "e236c292b975adc7"
  },
  {
   "cell_type": "markdown",
   "source": [
    "##  UHI HW - NO_HW ( HW hour data - NO_HW yearl average data for the hour) \n",
    "the df_no_hw_avg is the average value for a given hour of the day throughout the year.\n",
    "In the 2018 Zhao paper they seem to just do average the whole 30 years. \n",
    "I want to substract the average UHI on the given hour for a given year from the hourly UHI data I have in df_hw, matching the year and hour between the two dataframes."
   ],
   "metadata": {
    "collapsed": false
   },
   "id": "de26fbc35ae4870b"
  },
  {
   "cell_type": "markdown",
   "source": [
    "\n",
    "##  Step 1: Reset the index of df_hw and df_no_hw_avg (be careful on the increased memory usage)"
   ],
   "metadata": {
    "collapsed": false
   },
   "id": "17d41a33572272e3"
  },
  {
   "cell_type": "markdown",
   "source": [],
   "metadata": {
    "collapsed": false
   },
   "id": "24acc438d834f3a6"
  },
  {
   "cell_type": "code",
   "outputs": [
    {
     "name": "stdout",
     "output_type": "stream",
     "text": [
      "<class 'pandas.core.frame.DataFrame'>\n",
      "MultiIndex: 20107224 entries, (-40.994766, 288.75, Timestamp('1985-12-01 00:00:00')) to (62.67016, 113.75, Timestamp('1994-07-15 23:00:00'))\n",
      "Data columns (total 6 columns):\n",
      " #   Column  Dtype  \n",
      "---  ------  -----  \n",
      " 0   UHI     float32\n",
      " 1   UBWI    float32\n",
      " 2   HW      float64\n",
      " 3   hour    int32  \n",
      " 4   month   int32  \n",
      " 5   year    int32  \n",
      "dtypes: float32(2), float64(1), int32(3)\n",
      "memory usage: 672.5 MB\n",
      "<class 'pandas.core.frame.DataFrame'>\n",
      "RangeIndex: 20107224 entries, 0 to 20107223\n",
      "Data columns (total 9 columns):\n",
      " #   Column  Dtype         \n",
      "---  ------  -----         \n",
      " 0   lat     float32       \n",
      " 1   lon     float32       \n",
      " 2   time    datetime64[ns]\n",
      " 3   UHI     float32       \n",
      " 4   UBWI    float32       \n",
      " 5   HW      float64       \n",
      " 6   hour    int32         \n",
      " 7   month   int32         \n",
      " 8   year    int32         \n",
      "dtypes: datetime64[ns](1), float32(4), float64(1), int32(3)\n",
      "memory usage: 843.7 MB\n",
      "<class 'pandas.core.frame.DataFrame'>\n",
      "MultiIndex: 1002504 entries, (-55.13089, 291.25, 1985, 0) to (70.20943, 31.25, 1994, 23)\n",
      "Data columns (total 2 columns):\n",
      " #   Column  Non-Null Count    Dtype  \n",
      "---  ------  --------------    -----  \n",
      " 0   UHI     1002504 non-null  float32\n",
      " 1   UBWI    1002504 non-null  float32\n",
      "dtypes: float32(2)\n",
      "memory usage: 13.4 MB\n",
      "<class 'pandas.core.frame.DataFrame'>\n",
      "RangeIndex: 1002504 entries, 0 to 1002503\n",
      "Data columns (total 6 columns):\n",
      " #   Column  Non-Null Count    Dtype  \n",
      "---  ------  --------------    -----  \n",
      " 0   lat     1002504 non-null  float32\n",
      " 1   lon     1002504 non-null  float32\n",
      " 2   year    1002504 non-null  int32  \n",
      " 3   hour    1002504 non-null  int32  \n",
      " 4   UHI     1002504 non-null  float32\n",
      " 5   UBWI    1002504 non-null  float32\n",
      "dtypes: float32(4), int32(2)\n",
      "memory usage: 22.9 MB\n"
     ]
    }
   ],
   "source": [
    "df_hw.info()\n",
    "df_hw_reset = df_hw.reset_index()\n",
    "df_hw_reset.info()\n",
    "df_no_hw_avg.info()\n",
    "df_no_hw_avg_reset = df_no_hw_avg.reset_index()\n",
    "df_no_hw_avg_reset.info()\n"
   ],
   "metadata": {
    "collapsed": false,
    "ExecuteTime": {
     "end_time": "2024-03-22T20:19:19.434200Z",
     "start_time": "2024-03-22T20:19:18.396446Z"
    }
   },
   "id": "9ebcfa232880cb50",
   "execution_count": 63
  },
  {
   "cell_type": "markdown",
   "source": [
    "\n",
    "##   Step 2: Merge df_hw with df_no_hw_avg_reset"
   ],
   "metadata": {
    "collapsed": false
   },
   "id": "fba9ed8b47547a8f"
  },
  {
   "cell_type": "code",
   "outputs": [
    {
     "data": {
      "text/plain": "                                            UHI      UBWI   HW  hour  month  \\\nlat        lon    time                                                        \n-40.994766 288.75 1985-12-01 00:00:00  1.284210 -0.116805  1.0     0     12   \n                  1985-12-01 01:00:00  1.196442  0.104045  1.0     1     12   \n                  1985-12-01 02:00:00  1.178253  0.174866  1.0     2     12   \n                  1985-12-01 03:00:00  1.142365  0.199996  1.0     3     12   \n                  1985-12-01 04:00:00  1.093079  0.209863  1.0     4     12   \n...                                         ...       ...  ...   ...    ...   \n 62.670158 113.75 1994-07-15 19:00:00  2.029236  1.313322  1.0    19      7   \n                  1994-07-15 20:00:00  1.745575  1.034362  1.0    20      7   \n                  1994-07-15 21:00:00  1.385864  0.682290  1.0    21      7   \n                  1994-07-15 22:00:00  0.643921  0.205750  1.0    22      7   \n                  1994-07-15 23:00:00  0.090027 -0.027581  1.0    23      7   \n\n                                       year  \nlat        lon    time                       \n-40.994766 288.75 1985-12-01 00:00:00  1985  \n                  1985-12-01 01:00:00  1985  \n                  1985-12-01 02:00:00  1985  \n                  1985-12-01 03:00:00  1985  \n                  1985-12-01 04:00:00  1985  \n...                                     ...  \n 62.670158 113.75 1994-07-15 19:00:00  1994  \n                  1994-07-15 20:00:00  1994  \n                  1994-07-15 21:00:00  1994  \n                  1994-07-15 22:00:00  1994  \n                  1994-07-15 23:00:00  1994  \n\n[20107224 rows x 6 columns]",
      "text/html": "<div>\n<style scoped>\n    .dataframe tbody tr th:only-of-type {\n        vertical-align: middle;\n    }\n\n    .dataframe tbody tr th {\n        vertical-align: top;\n    }\n\n    .dataframe thead th {\n        text-align: right;\n    }\n</style>\n<table border=\"1\" class=\"dataframe\">\n  <thead>\n    <tr style=\"text-align: right;\">\n      <th></th>\n      <th></th>\n      <th></th>\n      <th>UHI</th>\n      <th>UBWI</th>\n      <th>HW</th>\n      <th>hour</th>\n      <th>month</th>\n      <th>year</th>\n    </tr>\n    <tr>\n      <th>lat</th>\n      <th>lon</th>\n      <th>time</th>\n      <th></th>\n      <th></th>\n      <th></th>\n      <th></th>\n      <th></th>\n      <th></th>\n    </tr>\n  </thead>\n  <tbody>\n    <tr>\n      <th rowspan=\"5\" valign=\"top\">-40.994766</th>\n      <th rowspan=\"5\" valign=\"top\">288.75</th>\n      <th>1985-12-01 00:00:00</th>\n      <td>1.284210</td>\n      <td>-0.116805</td>\n      <td>1.0</td>\n      <td>0</td>\n      <td>12</td>\n      <td>1985</td>\n    </tr>\n    <tr>\n      <th>1985-12-01 01:00:00</th>\n      <td>1.196442</td>\n      <td>0.104045</td>\n      <td>1.0</td>\n      <td>1</td>\n      <td>12</td>\n      <td>1985</td>\n    </tr>\n    <tr>\n      <th>1985-12-01 02:00:00</th>\n      <td>1.178253</td>\n      <td>0.174866</td>\n      <td>1.0</td>\n      <td>2</td>\n      <td>12</td>\n      <td>1985</td>\n    </tr>\n    <tr>\n      <th>1985-12-01 03:00:00</th>\n      <td>1.142365</td>\n      <td>0.199996</td>\n      <td>1.0</td>\n      <td>3</td>\n      <td>12</td>\n      <td>1985</td>\n    </tr>\n    <tr>\n      <th>1985-12-01 04:00:00</th>\n      <td>1.093079</td>\n      <td>0.209863</td>\n      <td>1.0</td>\n      <td>4</td>\n      <td>12</td>\n      <td>1985</td>\n    </tr>\n    <tr>\n      <th>...</th>\n      <th>...</th>\n      <th>...</th>\n      <td>...</td>\n      <td>...</td>\n      <td>...</td>\n      <td>...</td>\n      <td>...</td>\n      <td>...</td>\n    </tr>\n    <tr>\n      <th rowspan=\"5\" valign=\"top\">62.670158</th>\n      <th rowspan=\"5\" valign=\"top\">113.75</th>\n      <th>1994-07-15 19:00:00</th>\n      <td>2.029236</td>\n      <td>1.313322</td>\n      <td>1.0</td>\n      <td>19</td>\n      <td>7</td>\n      <td>1994</td>\n    </tr>\n    <tr>\n      <th>1994-07-15 20:00:00</th>\n      <td>1.745575</td>\n      <td>1.034362</td>\n      <td>1.0</td>\n      <td>20</td>\n      <td>7</td>\n      <td>1994</td>\n    </tr>\n    <tr>\n      <th>1994-07-15 21:00:00</th>\n      <td>1.385864</td>\n      <td>0.682290</td>\n      <td>1.0</td>\n      <td>21</td>\n      <td>7</td>\n      <td>1994</td>\n    </tr>\n    <tr>\n      <th>1994-07-15 22:00:00</th>\n      <td>0.643921</td>\n      <td>0.205750</td>\n      <td>1.0</td>\n      <td>22</td>\n      <td>7</td>\n      <td>1994</td>\n    </tr>\n    <tr>\n      <th>1994-07-15 23:00:00</th>\n      <td>0.090027</td>\n      <td>-0.027581</td>\n      <td>1.0</td>\n      <td>23</td>\n      <td>7</td>\n      <td>1994</td>\n    </tr>\n  </tbody>\n</table>\n<p>20107224 rows × 6 columns</p>\n</div>"
     },
     "execution_count": 53,
     "metadata": {},
     "output_type": "execute_result"
    }
   ],
   "source": [
    "df_hw"
   ],
   "metadata": {
    "collapsed": false,
    "ExecuteTime": {
     "end_time": "2024-03-22T20:01:17.080375Z",
     "start_time": "2024-03-22T20:01:17.063816Z"
    }
   },
   "id": "3eb9b0e4aa8c71fc",
   "execution_count": 53
  },
  {
   "cell_type": "code",
   "outputs": [
    {
     "ename": "MergeError",
     "evalue": "Can only pass argument \"on\" OR \"left_index\" and \"right_index\", not a combination of both.",
     "output_type": "error",
     "traceback": [
      "\u001B[0;31m---------------------------------------------------------------------------\u001B[0m",
      "\u001B[0;31mMergeError\u001B[0m                                Traceback (most recent call last)",
      "Cell \u001B[0;32mIn[57], line 1\u001B[0m\n\u001B[0;32m----> 1\u001B[0m merged_df \u001B[38;5;241m=\u001B[39m \u001B[43mpd\u001B[49m\u001B[38;5;241;43m.\u001B[39;49m\u001B[43mmerge\u001B[49m\u001B[43m(\u001B[49m\u001B[43mdf_hw\u001B[49m\u001B[43m,\u001B[49m\u001B[43m \u001B[49m\u001B[43mdf_no_hw_avg_reset\u001B[49m\u001B[43m[\u001B[49m\u001B[43m[\u001B[49m\u001B[38;5;124;43m'\u001B[39;49m\u001B[38;5;124;43mlat\u001B[39;49m\u001B[38;5;124;43m'\u001B[39;49m\u001B[43m,\u001B[49m\u001B[43m \u001B[49m\u001B[38;5;124;43m'\u001B[39;49m\u001B[38;5;124;43mlon\u001B[39;49m\u001B[38;5;124;43m'\u001B[39;49m\u001B[43m,\u001B[49m\u001B[43m \u001B[49m\u001B[38;5;124;43m'\u001B[39;49m\u001B[38;5;124;43myear\u001B[39;49m\u001B[38;5;124;43m'\u001B[39;49m\u001B[43m,\u001B[49m\u001B[43m \u001B[49m\u001B[38;5;124;43m'\u001B[39;49m\u001B[38;5;124;43mhour\u001B[39;49m\u001B[38;5;124;43m'\u001B[39;49m\u001B[43m,\u001B[49m\u001B[43m \u001B[49m\u001B[38;5;124;43m'\u001B[39;49m\u001B[38;5;124;43mUHI\u001B[39;49m\u001B[38;5;124;43m'\u001B[39;49m\u001B[43m]\u001B[49m\u001B[43m]\u001B[49m\u001B[43m,\u001B[49m\n\u001B[1;32m      2\u001B[0m \u001B[43m                     \u001B[49m\u001B[43mon\u001B[49m\u001B[38;5;241;43m=\u001B[39;49m\u001B[43m[\u001B[49m\u001B[38;5;124;43m'\u001B[39;49m\u001B[38;5;124;43mlat\u001B[39;49m\u001B[38;5;124;43m'\u001B[39;49m\u001B[43m,\u001B[49m\u001B[43m \u001B[49m\u001B[38;5;124;43m'\u001B[39;49m\u001B[38;5;124;43mlon\u001B[39;49m\u001B[38;5;124;43m'\u001B[39;49m\u001B[43m,\u001B[49m\u001B[43m \u001B[49m\u001B[38;5;124;43m'\u001B[39;49m\u001B[38;5;124;43myear\u001B[39;49m\u001B[38;5;124;43m'\u001B[39;49m\u001B[43m,\u001B[49m\u001B[43m \u001B[49m\u001B[38;5;124;43m'\u001B[39;49m\u001B[38;5;124;43mhour\u001B[39;49m\u001B[38;5;124;43m'\u001B[39;49m\u001B[43m]\u001B[49m\u001B[43m,\u001B[49m\n\u001B[1;32m      3\u001B[0m \u001B[43m                     \u001B[49m\u001B[43msuffixes\u001B[49m\u001B[38;5;241;43m=\u001B[39;49m\u001B[43m(\u001B[49m\u001B[38;5;124;43m'\u001B[39;49m\u001B[38;5;124;43m'\u001B[39;49m\u001B[43m,\u001B[49m\u001B[43m \u001B[49m\u001B[38;5;124;43m'\u001B[39;49m\u001B[38;5;124;43m_avg\u001B[39;49m\u001B[38;5;124;43m'\u001B[39;49m\u001B[43m)\u001B[49m\u001B[43m,\u001B[49m\n\u001B[1;32m      4\u001B[0m \u001B[43m                     \u001B[49m\u001B[43mleft_index\u001B[49m\u001B[38;5;241;43m=\u001B[39;49m\u001B[38;5;28;43;01mTrue\u001B[39;49;00m\u001B[43m)\u001B[49m\n",
      "File \u001B[0;32m~/anaconda3/envs/I2000/lib/python3.10/site-packages/pandas/core/reshape/merge.py:148\u001B[0m, in \u001B[0;36mmerge\u001B[0;34m(left, right, how, on, left_on, right_on, left_index, right_index, sort, suffixes, copy, indicator, validate)\u001B[0m\n\u001B[1;32m    131\u001B[0m \u001B[38;5;129m@Substitution\u001B[39m(\u001B[38;5;124m\"\u001B[39m\u001B[38;5;130;01m\\n\u001B[39;00m\u001B[38;5;124mleft : DataFrame or named Series\u001B[39m\u001B[38;5;124m\"\u001B[39m)\n\u001B[1;32m    132\u001B[0m \u001B[38;5;129m@Appender\u001B[39m(_merge_doc, indents\u001B[38;5;241m=\u001B[39m\u001B[38;5;241m0\u001B[39m)\n\u001B[1;32m    133\u001B[0m \u001B[38;5;28;01mdef\u001B[39;00m \u001B[38;5;21mmerge\u001B[39m(\n\u001B[0;32m   (...)\u001B[0m\n\u001B[1;32m    146\u001B[0m     validate: \u001B[38;5;28mstr\u001B[39m \u001B[38;5;241m|\u001B[39m \u001B[38;5;28;01mNone\u001B[39;00m \u001B[38;5;241m=\u001B[39m \u001B[38;5;28;01mNone\u001B[39;00m,\n\u001B[1;32m    147\u001B[0m ) \u001B[38;5;241m-\u001B[39m\u001B[38;5;241m>\u001B[39m DataFrame:\n\u001B[0;32m--> 148\u001B[0m     op \u001B[38;5;241m=\u001B[39m \u001B[43m_MergeOperation\u001B[49m\u001B[43m(\u001B[49m\n\u001B[1;32m    149\u001B[0m \u001B[43m        \u001B[49m\u001B[43mleft\u001B[49m\u001B[43m,\u001B[49m\n\u001B[1;32m    150\u001B[0m \u001B[43m        \u001B[49m\u001B[43mright\u001B[49m\u001B[43m,\u001B[49m\n\u001B[1;32m    151\u001B[0m \u001B[43m        \u001B[49m\u001B[43mhow\u001B[49m\u001B[38;5;241;43m=\u001B[39;49m\u001B[43mhow\u001B[49m\u001B[43m,\u001B[49m\n\u001B[1;32m    152\u001B[0m \u001B[43m        \u001B[49m\u001B[43mon\u001B[49m\u001B[38;5;241;43m=\u001B[39;49m\u001B[43mon\u001B[49m\u001B[43m,\u001B[49m\n\u001B[1;32m    153\u001B[0m \u001B[43m        \u001B[49m\u001B[43mleft_on\u001B[49m\u001B[38;5;241;43m=\u001B[39;49m\u001B[43mleft_on\u001B[49m\u001B[43m,\u001B[49m\n\u001B[1;32m    154\u001B[0m \u001B[43m        \u001B[49m\u001B[43mright_on\u001B[49m\u001B[38;5;241;43m=\u001B[39;49m\u001B[43mright_on\u001B[49m\u001B[43m,\u001B[49m\n\u001B[1;32m    155\u001B[0m \u001B[43m        \u001B[49m\u001B[43mleft_index\u001B[49m\u001B[38;5;241;43m=\u001B[39;49m\u001B[43mleft_index\u001B[49m\u001B[43m,\u001B[49m\n\u001B[1;32m    156\u001B[0m \u001B[43m        \u001B[49m\u001B[43mright_index\u001B[49m\u001B[38;5;241;43m=\u001B[39;49m\u001B[43mright_index\u001B[49m\u001B[43m,\u001B[49m\n\u001B[1;32m    157\u001B[0m \u001B[43m        \u001B[49m\u001B[43msort\u001B[49m\u001B[38;5;241;43m=\u001B[39;49m\u001B[43msort\u001B[49m\u001B[43m,\u001B[49m\n\u001B[1;32m    158\u001B[0m \u001B[43m        \u001B[49m\u001B[43msuffixes\u001B[49m\u001B[38;5;241;43m=\u001B[39;49m\u001B[43msuffixes\u001B[49m\u001B[43m,\u001B[49m\n\u001B[1;32m    159\u001B[0m \u001B[43m        \u001B[49m\u001B[43mindicator\u001B[49m\u001B[38;5;241;43m=\u001B[39;49m\u001B[43mindicator\u001B[49m\u001B[43m,\u001B[49m\n\u001B[1;32m    160\u001B[0m \u001B[43m        \u001B[49m\u001B[43mvalidate\u001B[49m\u001B[38;5;241;43m=\u001B[39;49m\u001B[43mvalidate\u001B[49m\u001B[43m,\u001B[49m\n\u001B[1;32m    161\u001B[0m \u001B[43m    \u001B[49m\u001B[43m)\u001B[49m\n\u001B[1;32m    162\u001B[0m     \u001B[38;5;28;01mreturn\u001B[39;00m op\u001B[38;5;241m.\u001B[39mget_result(copy\u001B[38;5;241m=\u001B[39mcopy)\n",
      "File \u001B[0;32m~/anaconda3/envs/I2000/lib/python3.10/site-packages/pandas/core/reshape/merge.py:719\u001B[0m, in \u001B[0;36m_MergeOperation.__init__\u001B[0;34m(self, left, right, how, on, left_on, right_on, axis, left_index, right_index, sort, suffixes, indicator, validate)\u001B[0m\n\u001B[1;32m    712\u001B[0m     msg \u001B[38;5;241m=\u001B[39m (\n\u001B[1;32m    713\u001B[0m         \u001B[38;5;124m\"\u001B[39m\u001B[38;5;124mNot allowed to merge between different levels. \u001B[39m\u001B[38;5;124m\"\u001B[39m\n\u001B[1;32m    714\u001B[0m         \u001B[38;5;124mf\u001B[39m\u001B[38;5;124m\"\u001B[39m\u001B[38;5;124m(\u001B[39m\u001B[38;5;132;01m{\u001B[39;00m_left\u001B[38;5;241m.\u001B[39mcolumns\u001B[38;5;241m.\u001B[39mnlevels\u001B[38;5;132;01m}\u001B[39;00m\u001B[38;5;124m levels on the left, \u001B[39m\u001B[38;5;124m\"\u001B[39m\n\u001B[1;32m    715\u001B[0m         \u001B[38;5;124mf\u001B[39m\u001B[38;5;124m\"\u001B[39m\u001B[38;5;132;01m{\u001B[39;00m_right\u001B[38;5;241m.\u001B[39mcolumns\u001B[38;5;241m.\u001B[39mnlevels\u001B[38;5;132;01m}\u001B[39;00m\u001B[38;5;124m on the right)\u001B[39m\u001B[38;5;124m\"\u001B[39m\n\u001B[1;32m    716\u001B[0m     )\n\u001B[1;32m    717\u001B[0m     \u001B[38;5;28;01mraise\u001B[39;00m MergeError(msg)\n\u001B[0;32m--> 719\u001B[0m \u001B[38;5;28mself\u001B[39m\u001B[38;5;241m.\u001B[39mleft_on, \u001B[38;5;28mself\u001B[39m\u001B[38;5;241m.\u001B[39mright_on \u001B[38;5;241m=\u001B[39m \u001B[38;5;28;43mself\u001B[39;49m\u001B[38;5;241;43m.\u001B[39;49m\u001B[43m_validate_left_right_on\u001B[49m\u001B[43m(\u001B[49m\u001B[43mleft_on\u001B[49m\u001B[43m,\u001B[49m\u001B[43m \u001B[49m\u001B[43mright_on\u001B[49m\u001B[43m)\u001B[49m\n\u001B[1;32m    721\u001B[0m cross_col \u001B[38;5;241m=\u001B[39m \u001B[38;5;28;01mNone\u001B[39;00m\n\u001B[1;32m    722\u001B[0m \u001B[38;5;28;01mif\u001B[39;00m \u001B[38;5;28mself\u001B[39m\u001B[38;5;241m.\u001B[39mhow \u001B[38;5;241m==\u001B[39m \u001B[38;5;124m\"\u001B[39m\u001B[38;5;124mcross\u001B[39m\u001B[38;5;124m\"\u001B[39m:\n",
      "File \u001B[0;32m~/anaconda3/envs/I2000/lib/python3.10/site-packages/pandas/core/reshape/merge.py:1520\u001B[0m, in \u001B[0;36m_MergeOperation._validate_left_right_on\u001B[0;34m(self, left_on, right_on)\u001B[0m\n\u001B[1;32m   1515\u001B[0m         \u001B[38;5;28;01mraise\u001B[39;00m MergeError(\n\u001B[1;32m   1516\u001B[0m             \u001B[38;5;124m'\u001B[39m\u001B[38;5;124mCan only pass argument \u001B[39m\u001B[38;5;124m\"\u001B[39m\u001B[38;5;124mon\u001B[39m\u001B[38;5;124m\"\u001B[39m\u001B[38;5;124m OR \u001B[39m\u001B[38;5;124m\"\u001B[39m\u001B[38;5;124mleft_on\u001B[39m\u001B[38;5;124m\"\u001B[39m\u001B[38;5;124m \u001B[39m\u001B[38;5;124m'\u001B[39m\n\u001B[1;32m   1517\u001B[0m             \u001B[38;5;124m'\u001B[39m\u001B[38;5;124mand \u001B[39m\u001B[38;5;124m\"\u001B[39m\u001B[38;5;124mright_on\u001B[39m\u001B[38;5;124m\"\u001B[39m\u001B[38;5;124m, not a combination of both.\u001B[39m\u001B[38;5;124m'\u001B[39m\n\u001B[1;32m   1518\u001B[0m         )\n\u001B[1;32m   1519\u001B[0m     \u001B[38;5;28;01mif\u001B[39;00m \u001B[38;5;28mself\u001B[39m\u001B[38;5;241m.\u001B[39mleft_index \u001B[38;5;129;01mor\u001B[39;00m \u001B[38;5;28mself\u001B[39m\u001B[38;5;241m.\u001B[39mright_index:\n\u001B[0;32m-> 1520\u001B[0m         \u001B[38;5;28;01mraise\u001B[39;00m MergeError(\n\u001B[1;32m   1521\u001B[0m             \u001B[38;5;124m'\u001B[39m\u001B[38;5;124mCan only pass argument \u001B[39m\u001B[38;5;124m\"\u001B[39m\u001B[38;5;124mon\u001B[39m\u001B[38;5;124m\"\u001B[39m\u001B[38;5;124m OR \u001B[39m\u001B[38;5;124m\"\u001B[39m\u001B[38;5;124mleft_index\u001B[39m\u001B[38;5;124m\"\u001B[39m\u001B[38;5;124m \u001B[39m\u001B[38;5;124m'\u001B[39m\n\u001B[1;32m   1522\u001B[0m             \u001B[38;5;124m'\u001B[39m\u001B[38;5;124mand \u001B[39m\u001B[38;5;124m\"\u001B[39m\u001B[38;5;124mright_index\u001B[39m\u001B[38;5;124m\"\u001B[39m\u001B[38;5;124m, not a combination of both.\u001B[39m\u001B[38;5;124m'\u001B[39m\n\u001B[1;32m   1523\u001B[0m         )\n\u001B[1;32m   1524\u001B[0m     left_on \u001B[38;5;241m=\u001B[39m right_on \u001B[38;5;241m=\u001B[39m \u001B[38;5;28mself\u001B[39m\u001B[38;5;241m.\u001B[39mon\n\u001B[1;32m   1525\u001B[0m \u001B[38;5;28;01melif\u001B[39;00m left_on \u001B[38;5;129;01mis\u001B[39;00m \u001B[38;5;129;01mnot\u001B[39;00m \u001B[38;5;28;01mNone\u001B[39;00m:\n",
      "\u001B[0;31mMergeError\u001B[0m: Can only pass argument \"on\" OR \"left_index\" and \"right_index\", not a combination of both."
     ]
    }
   ],
   "source": [
    "\n",
    "merged_df = pd.merge(df_hw, df_no_hw_avg_reset[['lat', 'lon', 'year', 'hour', 'UHI']],\n",
    "                     on=['lat', 'lon', 'year', 'hour'],\n",
    "                     suffixes=('', '_avg'))"
   ],
   "metadata": {
    "collapsed": false,
    "ExecuteTime": {
     "end_time": "2024-03-22T20:05:27.650228Z",
     "start_time": "2024-03-22T20:05:27.157986Z"
    }
   },
   "id": "1235cd40864887ce",
   "execution_count": 57
  },
  {
   "cell_type": "code",
   "outputs": [
    {
     "name": "stdout",
     "output_type": "stream",
     "text": [
      "<class 'pandas.core.frame.DataFrame'>\n",
      "RangeIndex: 18740520 entries, 0 to 18740519\n",
      "Data columns (total 9 columns):\n",
      " #   Column   Dtype  \n",
      "---  ------   -----  \n",
      " 0   lat      float32\n",
      " 1   lon      float32\n",
      " 2   UHI      float32\n",
      " 3   UBWI     float32\n",
      " 4   HW       float64\n",
      " 5   hour     int32  \n",
      " 6   month    int32  \n",
      " 7   year     int32  \n",
      " 8   UHI_avg  float32\n",
      "dtypes: float32(5), float64(1), int32(3)\n",
      "memory usage: 714.9 MB\n"
     ]
    }
   ],
   "source": [
    "merged_df.info()"
   ],
   "metadata": {
    "collapsed": false,
    "ExecuteTime": {
     "end_time": "2024-03-22T20:02:33.964705Z",
     "start_time": "2024-03-22T20:02:33.955276Z"
    }
   },
   "id": "3b425e5780987917",
   "execution_count": 56
  },
  {
   "cell_type": "markdown",
   "source": [
    "\n",
    "##  Step 3: Subtract the average UHI from the hourly UHI and store in a new column"
   ],
   "metadata": {
    "collapsed": false
   },
   "id": "3a2ac989c16eea46"
  },
  {
   "cell_type": "code",
   "outputs": [
    {
     "data": {
      "text/plain": "                lat     lon       UHI      UBWI   HW  hour  month  year  \\\n0        -40.994766  288.75  1.284210 -0.116805  1.0     0     12  1985   \n1        -40.994766  288.75  1.196442  0.104045  1.0     1     12  1985   \n2        -40.994766  288.75  1.178253  0.174866  1.0     2     12  1985   \n3        -40.994766  288.75  1.142365  0.199996  1.0     3     12  1985   \n4        -40.994766  288.75  1.093079  0.209863  1.0     4     12  1985   \n...             ...     ...       ...       ...  ...   ...    ...   ...   \n18740515  62.670158  113.75  0.643921  0.205750  1.0    22      7  1994   \n18740516  62.670158  113.75  0.894958 -2.112110  1.0    23      7  1994   \n18740517  62.670158  113.75  0.939423 -0.827865  1.0    23      7  1994   \n18740518  62.670158  113.75  1.404633 -0.092875  1.0    23      7  1994   \n18740519  62.670158  113.75  0.090027 -0.027581  1.0    23      7  1994   \n\n           UHI_avg  UHI_diff  \n0         0.949050  0.335160  \n1         0.949663  0.246778  \n2         0.920274  0.257979  \n3         0.864492  0.277873  \n4         0.805318  0.287760  \n...            ...       ...  \n18740515  1.093816 -0.449895  \n18740516 -0.198605  1.093564  \n18740517 -0.198605  1.138028  \n18740518 -0.198605  1.603238  \n18740519 -0.198605  0.288632  \n\n[18740520 rows x 10 columns]",
      "text/html": "<div>\n<style scoped>\n    .dataframe tbody tr th:only-of-type {\n        vertical-align: middle;\n    }\n\n    .dataframe tbody tr th {\n        vertical-align: top;\n    }\n\n    .dataframe thead th {\n        text-align: right;\n    }\n</style>\n<table border=\"1\" class=\"dataframe\">\n  <thead>\n    <tr style=\"text-align: right;\">\n      <th></th>\n      <th>lat</th>\n      <th>lon</th>\n      <th>UHI</th>\n      <th>UBWI</th>\n      <th>HW</th>\n      <th>hour</th>\n      <th>month</th>\n      <th>year</th>\n      <th>UHI_avg</th>\n      <th>UHI_diff</th>\n    </tr>\n  </thead>\n  <tbody>\n    <tr>\n      <th>0</th>\n      <td>-40.994766</td>\n      <td>288.75</td>\n      <td>1.284210</td>\n      <td>-0.116805</td>\n      <td>1.0</td>\n      <td>0</td>\n      <td>12</td>\n      <td>1985</td>\n      <td>0.949050</td>\n      <td>0.335160</td>\n    </tr>\n    <tr>\n      <th>1</th>\n      <td>-40.994766</td>\n      <td>288.75</td>\n      <td>1.196442</td>\n      <td>0.104045</td>\n      <td>1.0</td>\n      <td>1</td>\n      <td>12</td>\n      <td>1985</td>\n      <td>0.949663</td>\n      <td>0.246778</td>\n    </tr>\n    <tr>\n      <th>2</th>\n      <td>-40.994766</td>\n      <td>288.75</td>\n      <td>1.178253</td>\n      <td>0.174866</td>\n      <td>1.0</td>\n      <td>2</td>\n      <td>12</td>\n      <td>1985</td>\n      <td>0.920274</td>\n      <td>0.257979</td>\n    </tr>\n    <tr>\n      <th>3</th>\n      <td>-40.994766</td>\n      <td>288.75</td>\n      <td>1.142365</td>\n      <td>0.199996</td>\n      <td>1.0</td>\n      <td>3</td>\n      <td>12</td>\n      <td>1985</td>\n      <td>0.864492</td>\n      <td>0.277873</td>\n    </tr>\n    <tr>\n      <th>4</th>\n      <td>-40.994766</td>\n      <td>288.75</td>\n      <td>1.093079</td>\n      <td>0.209863</td>\n      <td>1.0</td>\n      <td>4</td>\n      <td>12</td>\n      <td>1985</td>\n      <td>0.805318</td>\n      <td>0.287760</td>\n    </tr>\n    <tr>\n      <th>...</th>\n      <td>...</td>\n      <td>...</td>\n      <td>...</td>\n      <td>...</td>\n      <td>...</td>\n      <td>...</td>\n      <td>...</td>\n      <td>...</td>\n      <td>...</td>\n      <td>...</td>\n    </tr>\n    <tr>\n      <th>18740515</th>\n      <td>62.670158</td>\n      <td>113.75</td>\n      <td>0.643921</td>\n      <td>0.205750</td>\n      <td>1.0</td>\n      <td>22</td>\n      <td>7</td>\n      <td>1994</td>\n      <td>1.093816</td>\n      <td>-0.449895</td>\n    </tr>\n    <tr>\n      <th>18740516</th>\n      <td>62.670158</td>\n      <td>113.75</td>\n      <td>0.894958</td>\n      <td>-2.112110</td>\n      <td>1.0</td>\n      <td>23</td>\n      <td>7</td>\n      <td>1994</td>\n      <td>-0.198605</td>\n      <td>1.093564</td>\n    </tr>\n    <tr>\n      <th>18740517</th>\n      <td>62.670158</td>\n      <td>113.75</td>\n      <td>0.939423</td>\n      <td>-0.827865</td>\n      <td>1.0</td>\n      <td>23</td>\n      <td>7</td>\n      <td>1994</td>\n      <td>-0.198605</td>\n      <td>1.138028</td>\n    </tr>\n    <tr>\n      <th>18740518</th>\n      <td>62.670158</td>\n      <td>113.75</td>\n      <td>1.404633</td>\n      <td>-0.092875</td>\n      <td>1.0</td>\n      <td>23</td>\n      <td>7</td>\n      <td>1994</td>\n      <td>-0.198605</td>\n      <td>1.603238</td>\n    </tr>\n    <tr>\n      <th>18740519</th>\n      <td>62.670158</td>\n      <td>113.75</td>\n      <td>0.090027</td>\n      <td>-0.027581</td>\n      <td>1.0</td>\n      <td>23</td>\n      <td>7</td>\n      <td>1994</td>\n      <td>-0.198605</td>\n      <td>0.288632</td>\n    </tr>\n  </tbody>\n</table>\n<p>18740520 rows × 10 columns</p>\n</div>"
     },
     "execution_count": 38,
     "metadata": {},
     "output_type": "execute_result"
    }
   ],
   "source": [
    "\n",
    "merged_df['UHI_diff'] = merged_df['UHI'] - merged_df['UHI_avg']\n",
    "\n",
    "# Now, merged_df contains your original data along with the subtracted UHI values in 'UHI_diff'\n",
    "merged_df  # To check the first few rows of the merged DataFrame"
   ],
   "metadata": {
    "collapsed": false,
    "ExecuteTime": {
     "end_time": "2024-03-22T19:54:31.224212Z",
     "start_time": "2024-03-22T19:54:31.166093Z"
    }
   },
   "id": "44408a202722573",
   "execution_count": 38
  },
  {
   "cell_type": "markdown",
   "source": [
    "## Step 4: Validate the results by checking the UHI values for a specific location and time"
   ],
   "metadata": {
    "collapsed": false
   },
   "id": "c99696a2c4ea4ab9"
  },
  {
   "cell_type": "code",
   "outputs": [
    {
     "data": {
      "text/plain": "            lat     lon  year  hour       UHI      UBWI\n8883 -39.109947  291.25  1985     3  0.758839 -0.135349",
      "text/html": "<div>\n<style scoped>\n    .dataframe tbody tr th:only-of-type {\n        vertical-align: middle;\n    }\n\n    .dataframe tbody tr th {\n        vertical-align: top;\n    }\n\n    .dataframe thead th {\n        text-align: right;\n    }\n</style>\n<table border=\"1\" class=\"dataframe\">\n  <thead>\n    <tr style=\"text-align: right;\">\n      <th></th>\n      <th>lat</th>\n      <th>lon</th>\n      <th>year</th>\n      <th>hour</th>\n      <th>UHI</th>\n      <th>UBWI</th>\n    </tr>\n  </thead>\n  <tbody>\n    <tr>\n      <th>8883</th>\n      <td>-39.109947</td>\n      <td>291.25</td>\n      <td>1985</td>\n      <td>3</td>\n      <td>0.758839</td>\n      <td>-0.135349</td>\n    </tr>\n  </tbody>\n</table>\n</div>"
     },
     "execution_count": 39,
     "metadata": {},
     "output_type": "execute_result"
    }
   ],
   "source": [
    "\n",
    "merged_df.iloc[0].lat\n",
    "a_row = merged_df.iloc[59]\n",
    "df_no_hw_avg_reset.loc[(df_no_hw_avg_reset['lat'] == a_row.lat) & (df_no_hw_avg_reset['lon'] == a_row.lon) & (\n",
    "                df_no_hw_avg_reset['year'] == a_row.year) & (\n",
    "                df_no_hw_avg_reset['hour'] == a_row.hour)]\n"
   ],
   "metadata": {
    "collapsed": false,
    "ExecuteTime": {
     "end_time": "2024-03-22T19:55:33.464771Z",
     "start_time": "2024-03-22T19:55:33.447485Z"
    }
   },
   "id": "9e223411d549cb4e",
   "execution_count": 39
  },
  {
   "cell_type": "code",
   "outputs": [],
   "source": [
    "import pandas as pd\n",
    "import numpy as np\n",
    "\n",
    "def convert_index_time_to_local(df):\n",
    "    \"\"\"\n",
    "    Converts the UTC timestamp in the DataFrame's MultiIndex to local time based on longitude.\n",
    "    \n",
    "    Parameters:\n",
    "    df (pd.DataFrame): DataFrame with a MultiIndex (latitude, longitude, UTC timestamp)\n",
    "    \n",
    "    Returns:\n",
    "    pd.DataFrame: DataFrame with the timestamp in the MultiIndex adjusted to local time\n",
    "    \"\"\"\n",
    "    # Function to calculate timezone offset from longitude\n",
    "    def calculate_timezone_offset(longitude):\n",
    "        return np.floor(longitude / 15.0).astype(int)  # Approximate, not accounting for DST or specific timezone rules\n",
    "\n",
    "    # Extract MultiIndex levels\n",
    "    latitudes, longitudes, timestamps = zip(*df.index)\n",
    "\n",
    "    # Convert to arrays for vectorized operations\n",
    "    longitudes = np.array(longitudes)\n",
    "    timestamps = pd.to_datetime(list(timestamps))\n",
    "\n",
    "    # Calculate timezone offsets\n",
    "    offsets = calculate_timezone_offset(longitudes)\n",
    "\n",
    "    # Adjust timestamps by the offsets\n",
    "    adjusted_timestamps = [timestamp + pd.Timedelta(hours=offset) for timestamp, offset in zip(timestamps, offsets)]\n",
    "\n",
    "    # Create a new MultiIndex with the adjusted timestamps\n",
    "    new_index = pd.MultiIndex.from_arrays([latitudes, longitudes, adjusted_timestamps], names=['Latitude', 'Longitude', 'LocalTime'])\n",
    "\n",
    "    # Assign the new MultiIndex to the DataFrame and return it\n",
    "    df.index = new_index\n",
    "    return df\n",
    "\n",
    "# Usage example:\n",
    "# new_df = convert_index_time_to_local(df)\n",
    "# This will return a DataFrame with the index timestamps adjusted to local time based on longitude\n",
    "# Note: ONLY CALL THIS FUNCTION ON THE DATAFRAME WITH THE MULTIINDEX (latitude, longitude, UTC timestamp), ALSO ONLY CALL AT THE FINAL STEP(AFTER ALL AGGREATION DONE!!!\n",
    "\n"
   ],
   "metadata": {
    "collapsed": false
   },
   "id": "980d0e1f89c5637f",
   "execution_count": null
  },
  {
   "cell_type": "code",
   "outputs": [],
   "source": [
    "df_hw = convert_index_time_to_local(df_hw)\n",
    "df_hw"
   ],
   "metadata": {
    "collapsed": false
   },
   "id": "114062a4f714b96b",
   "execution_count": null
  },
  {
   "cell_type": "code",
   "outputs": [],
   "source": [
    "df_count = df_hw.groupby(['lat', 'lon']).size()\n",
    "df_count"
   ],
   "metadata": {
    "collapsed": false
   },
   "id": "57cf239f91ba7eef",
   "execution_count": null
  },
  {
   "cell_type": "code",
   "outputs": [],
   "source": [
    "import os\n",
    "os.environ[\"PROJ_LIB\"] = \"/home/jguo/anaconda3/envs/I2000/share/proj\"\n",
    "\n",
    "import pandas as pd\n",
    "import numpy as np\n",
    "import xarray as xr\n",
    "import matplotlib.pyplot as plt\n",
    "import cartopy.crs as ccrs\n",
    "import cartopy.feature as cfeature\n",
    "\n",
    "df_hw = pd.read_parquet('/Trex/case_results/i.e215.I2000Clm50SpGs.hw_production.02/research_results/parquet/HW_1985_1994.parquet')\n",
    "df_count = df_hw.groupby(['lat', 'lon']).size()\n",
    "df_count_sorted = df_count.sort_values(ascending=False).head(50)\n",
    "fig = plt.figure(figsize=(10, 5))\n",
    "ax = fig.add_subplot(1, 1, 1, projection=ccrs.PlateCarree())\n",
    "ax.add_feature(cfeature.COASTLINE)\n",
    "\n",
    "# Add gridlines\n",
    "gl = ax.gridlines(draw_labels=True, linewidth=1, color='gray', alpha=0.5, linestyle='--')\n",
    "gl.top_labels = False\n",
    "gl.right_labels = False\n",
    "\n",
    "lats, lons = zip(*df_count_sorted.index)\n",
    "ax.scatter(lons, lats, color='red', transform=ccrs.PlateCarree())\n",
    "\n",
    "plt.show()"
   ],
   "metadata": {
    "collapsed": false
   },
   "id": "af55ac33c9e875f0",
   "execution_count": null
  },
  {
   "cell_type": "code",
   "outputs": [],
   "source": [
    "import geopandas as gpd\n",
    "from shapely.geometry import Point\n",
    "import matplotlib.pyplot as plt\n",
    "\n",
    "# Convert DataFrame to GeoDataFrame\n",
    "gdf = gpd.GeoDataFrame(df_count_sorted, geometry=gpd.points_from_xy(lons, lats))\n",
    "\n",
    "# Load Natural Earth dataset with coastlines\n",
    "world = gpd.read_file(gpd.datasets.get_path('naturalearth_lowres'))\n",
    "\n",
    "# Plot the world (coastlines)\n",
    "fig, ax = plt.subplots(figsize=(10, 5))\n",
    "world.boundary.plot(ax=ax, color='black')\n",
    "\n",
    "# Plot the GeoDataFrame\n",
    "gdf.plot(marker='o', color='red', markersize=5, ax=ax)\n",
    "plt.show()"
   ],
   "metadata": {
    "collapsed": false
   },
   "id": "71e2b4011aaa6e2a",
   "execution_count": null
  },
  {
   "cell_type": "code",
   "outputs": [],
   "source": [
    "df_count_sorted.info()"
   ],
   "metadata": {
    "collapsed": false
   },
   "id": "fa2cd07ee4681ae7",
   "execution_count": null
  },
  {
   "cell_type": "code",
   "outputs": [],
   "source": [
    "import matplotlib.pyplot as plt\n",
    "import cartopy.crs as ccrs\n",
    "import numpy as np\n",
    "\n",
    "# Create a plot with coastlines\n",
    "fig = plt.figure(figsize=(10, 5))\n",
    "ax = plt.axes(projection=ccrs.PlateCarree())\n",
    "ax.coastlines()\n",
    "\n",
    "# Extract latitudes, longitudes, and data values from the MultiIndex Series\n",
    "latitudes = df_count_sorted.index.get_level_values(0)\n",
    "longitudes = df_count_sorted.index.get_level_values(1) % 360  # Adjust longitudes if they are in a 0-360 format\n",
    "data_values = df_count_sorted.values\n",
    "\n",
    "# Plot the data\n",
    "scatter = plt.scatter(longitudes, latitudes, c=data_values, cmap='viridis', transform=ccrs.PlateCarree())\n",
    "\n",
    "# Add gridlines and labels\n",
    "gl = ax.gridlines(draw_labels=True, linewidth=0.5, color='gray', alpha=0.5, linestyle='--')\n",
    "gl.top_labels = False\n",
    "gl.right_labels = False\n",
    "\n",
    "# Add a colorbar\n",
    "cbar = plt.colorbar(scatter, orientation='vertical', pad=0.02, aspect=50)\n",
    "cbar.set_label('Data Value')\n",
    "\n",
    "plt.show()\n",
    "\n",
    "\n"
   ],
   "metadata": {
    "collapsed": false
   },
   "id": "5d2dd7807065fff7",
   "execution_count": null
  },
  {
   "cell_type": "code",
   "outputs": [],
   "source": [
    "# Convert the Series with a MultiIndex to an xarray DataArray\n",
    "da = xr.DataArray(df_count_sorted, dims=['lat_lon'], name='data')\n",
    "da['lat'] = ('lat_lon', df_count_sorted.index.get_level_values('lat'))\n",
    "da['lon'] = ('lat_lon', df_count_sorted.index.get_level_values('lon'))\n",
    "# Define the new grid (adjust the resolution as needed)\n",
    "new_lat = np.linspace(da['lat'].min(), da['lat'].max(), num=100)\n",
    "new_lon = np.linspace(da['lon'].min(), da['lon'].max(), num=100)\n",
    "\n",
    "# Interpolate the DataArray onto the new grid\n",
    "da_interp = da.interp(lat=new_lat, lon=new_lon)\n"
   ],
   "metadata": {
    "collapsed": false
   },
   "id": "fea5ebebd98351d9",
   "execution_count": null
  },
  {
   "cell_type": "code",
   "outputs": [],
   "source": [
    "da.HW_Count.plot()\n"
   ],
   "metadata": {
    "collapsed": false
   },
   "id": "d0569166f164a03a",
   "execution_count": null
  },
  {
   "cell_type": "code",
   "outputs": [],
   "source": [
    "\n",
    "df_no_hw = pd.read_parquet('/Trex/case_results/i.e215.I2000Clm50SpGs.hw_production.02/research_results/parquet/NO_HW_1985_1994.parquet')\n",
    "\n",
    "print(df_no_hw.info())  \n"
   ],
   "metadata": {
    "collapsed": false
   },
   "id": "d38124c98965eac9",
   "execution_count": null
  },
  {
   "cell_type": "code",
   "outputs": [],
   "source": [
    "df_hw.index.levels[2]"
   ],
   "metadata": {
    "collapsed": false
   },
   "id": "2ced860dc34abd47",
   "execution_count": null
  },
  {
   "cell_type": "code",
   "outputs": [],
   "source": [
    "# Ensure 'time' is of datetime type\n",
    "df_hw.index = df_hw.index.set_levels([df_hw.index.levels[0], df_hw.index.levels[1], pd.to_datetime(df_hw.index.levels[2])])\n",
    "\n",
    "# Extract hour, month and year from 'time'\n",
    "df_hw['hour'] = df_hw.index.get_level_values('time').hour\n",
    "df_hw['month'] = df_hw.index.get_level_values('time').month\n",
    "df_hw['year'] = df_hw.index.get_level_values('time').year\n",
    "\n",
    "# Group by 'lat', 'lon', 'year', 'month', and 'hour', then calculate the mean of 'UHI' and 'UBWI'\n",
    "df_avg = df_hw.groupby(['lat', 'lon', 'year', 'month', 'hour']).mean()\n",
    "df_avg"
   ],
   "metadata": {
    "collapsed": false
   },
   "id": "6d667d9b9203493",
   "execution_count": null
  },
  {
   "cell_type": "code",
   "outputs": [],
   "source": [],
   "metadata": {
    "collapsed": false
   },
   "id": "9f1b4b82e2e5b73f",
   "execution_count": null
  }
 ],
 "metadata": {
  "kernelspec": {
   "display_name": "Python 3 (ipykernel)",
   "language": "python",
   "name": "python3"
  },
  "language_info": {
   "codemirror_mode": {
    "name": "ipython",
    "version": 3
   },
   "file_extension": ".py",
   "mimetype": "text/x-python",
   "name": "python",
   "nbconvert_exporter": "python",
   "pygments_lexer": "ipython3",
   "version": "3.10.13"
  }
 },
 "nbformat": 4,
 "nbformat_minor": 5
}
