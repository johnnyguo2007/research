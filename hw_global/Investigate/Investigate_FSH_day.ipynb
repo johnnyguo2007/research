{
 "cells": [
  {
   "cell_type": "code",
   "execution_count": 1,
   "metadata": {
    "ExecuteTime": {
     "end_time": "2024-06-20T11:22:18.609956Z",
     "start_time": "2024-06-20T11:22:17.379122Z"
    }
   },
   "outputs": [],
   "source": [
    "import xarray as xr\n",
    "import matplotlib.pyplot as plt\n",
    "from mpl_toolkits.basemap import Basemap\n",
    "import numpy as np\n",
    "\n",
    "# Open the Zarr store\n",
    "str_no_hw_zarr = '/Trex/case_results/i.e215.I2000Clm50SpGs.hw_production.02/research_results/zarr/NO_HW'\n",
    "str_hw_zarr = '/Trex/case_results/i.e215.I2000Clm50SpGs.hw_production.02/research_results/zarr/HW'\n",
    "# ds_no_hw_zarr = xr.open_zarr('/Trex/case_results/i.e215.I2000Clm50SpGs.hw_production.02/research_results/zarr/NO_HW')\n",
    "# ds_hw_zarr = xr.open_zarr('/Trex/case_results/i.e215.I2000Clm50SpGs.hw_production.02/research_results/zarr/HW')\n",
    "\n",
    "def normalize_longitude(lons):\n",
    "    \"\"\"\n",
    "    Normalize longitudes to be within the range [-180, 180].\n",
    "    \"\"\"\n",
    "    normalized_lons = np.where(lons > 180, lons - 360, lons)\n",
    "    return normalized_lons\n",
    "\n",
    "def draw_map_subplot(ax,, title, variable):\n",
    "    if data.empty:\n",
    "        print(f\"No data available for {title}. Skipping plot.\")\n",
    "        ax.set_title(title + \" - No Data Available\")\n",
    "        return\n",
    "\n",
    "    m = Basemap(projection='cyl', lon_0=0, ax=ax,\n",
    "                fix_aspect=False,\n",
    "                llcrnrlat=-90, urcrnrlat=90,\n",
    "                llcrnrlon=-180, urcrnrlon=180)\n",
    "    m.drawcoastlines(color='0.15', linewidth=0.5, zorder=3)\n",
    "    m.drawcountries(linewidth=0.1)\n",
    "    m.fillcontinents(color='white', lake_color='lightcyan')\n",
    "    m.drawmapboundary(fill_color='lightcyan')\n",
    "    m.drawparallels(np.arange(-90., 91., 30.), labels=[1, 0, 0, 0], fontsize=10)\n",
    "    m.drawmeridians(np.arange(-180., 181., 60.), labels=[0, 0, 0, 1], fontsize=10)\n",
    "\n",
    "    normalized_lons = normalize_longitude(data['lon'].values)\n",
    "    x, y = m(normalized_lons, data['lat'].values)\n",
    "\n",
    "    vmin, vmax = data[variable].min(), data[variable].max()\n",
    "    sc = m.scatter(x, y, c=data[variable], cmap='coolwarm', marker='o', edgecolor='none', s=10, alpha=0.75, vmin=vmin, vmax=vmax)\n",
    "    plt.colorbar(sc, ax=ax, orientation='vertical', pad=0.02)\n",
    "    ax.set_title(title)\n"
   ]
  },
  {
   "cell_type": "markdown",
   "metadata": {},
   "source": [
    "# Define variables to retrieve"
   ]
  },
  {
   "cell_type": "code",
   "execution_count": 3,
   "metadata": {
    "ExecuteTime": {
     "end_time": "2024-06-20T11:22:18.636437Z",
     "start_time": "2024-06-20T11:22:18.634042Z"
    }
   },
   "outputs": [],
   "source": [
    "\n",
    "variables = {\n",
    "    'Q2M': 'Global mean 2m Specific Humidity (Q2M)', \n",
    "    # 'FSH': 'Sensible Heat Flux (FSH)',\n",
    "    # 'EFLX_LH_TOT': 'Latent Heat Flux (EFLX_LH_TOT)',\n",
    "    # 'FSA': 'Shortwave Radiation (FSA)',\n",
    "    # 'U10': 'Wind Speed (U10)',\n",
    "}\n",
    "\n",
    "\n"
   ]
  },
  {
   "cell_type": "markdown",
   "metadata": {},
   "source": [
    "#  get datafraem from zarr"
   ]
  },
  {
   "cell_type": "code",
   "execution_count": 4,
   "metadata": {},
   "outputs": [],
   "source": [
    "from typing import List, Optional\n",
    "import pandas as pd\n",
    "import xarray as xr\n",
    "import os\n",
    "\n",
    "def zarr_to_dataframe(zarr_path: str, start_year: int, end_year: int, \n",
    "                      core_vars: Optional[List[str]] = None, years_per_chunk: int = 1) -> pd.DataFrame:\n",
    " \n",
    "    \"\"\"\n",
    "    Converts Zarr data to DataFrame format and saves it as Parquet files.\n",
    "    \"\"\"\n",
    "    df_list = []\n",
    "    ds = xr.open_zarr(zarr_path, chunks='auto')\n",
    "    # core_vars = ['UHI', 'UBWI']\n",
    "    if core_vars:\n",
    "        ds = ds[core_vars]\n",
    "\n",
    "    for year in range(start_year, end_year + 1):\n",
    "        ds_year = ds.sel(time=slice(f'{year}-01-01', f'{year}-12-31'))\n",
    "        df_year = ds_year.to_dataframe(['lat', 'lon', 'time']).dropna()\n",
    "        df_list.append(df_year)\n",
    "\n",
    "    df_out = pd.concat(df_list)\n",
    "    return df_out\n"
   ]
  },
  {
   "cell_type": "code",
   "execution_count": null,
   "metadata": {},
   "outputs": [],
   "source": []
  },
  {
   "cell_type": "code",
   "execution_count": 6,
   "metadata": {
    "ExecuteTime": {
     "start_time": "2024-06-20T11:22:18.644058Z"
    },
    "jupyter": {
     "is_executing": true
    }
   },
   "outputs": [],
   "source": [
    "var = 'FSH'\n",
    "# data_array_no_hw = ds_no_hw_zarr[var]\n",
    "# data_array_no_hw =filter_daytime_by_local_hour(data_array_no_hw)  \n",
    "\n"
   ]
  },
  {
   "cell_type": "code",
   "execution_count": 9,
   "metadata": {},
   "outputs": [],
   "source": [
    "df_no_hw = zarr_to_dataframe(str_no_hw_zarr, 1985, 2013, core_vars=[var])\n",
    "df_hw = zarr_to_dataframe(str_hw_zarr, 1985, 2013, core_vars=[var])"
   ]
  },
  {
   "cell_type": "code",
   "execution_count": 10,
   "metadata": {},
   "outputs": [
    {
     "name": "stdout",
     "output_type": "stream",
     "text": [
      "<class 'pandas.core.frame.DataFrame'>\n",
      "MultiIndex: 208953480 entries, (-55.13089, 291.25, Timestamp('1985-01-01 00:00:00')) to (70.20943, 31.25, Timestamp('2013-08-31 23:00:00'))\n",
      "Data columns (total 1 columns):\n",
      " #   Column  Dtype  \n",
      "---  ------  -----  \n",
      " 0   FSH     float32\n",
      "dtypes: float32(1)\n",
      "memory usage: 2.3 GB\n"
     ]
    }
   ],
   "source": [
    "df_no_hw.info()\n"
   ]
  },
  {
   "cell_type": "code",
   "execution_count": 11,
   "metadata": {},
   "outputs": [
    {
     "name": "stdout",
     "output_type": "stream",
     "text": [
      "<class 'pandas.core.frame.DataFrame'>\n",
      "MultiIndex: 61524648 entries, (-40.994766, 288.75, Timestamp('1985-12-01 00:00:00')) to (67.3822, 52.5, Timestamp('2013-06-27 23:00:00'))\n",
      "Data columns (total 1 columns):\n",
      " #   Column  Dtype  \n",
      "---  ------  -----  \n",
      " 0   FSH     float32\n",
      "dtypes: float32(1)\n",
      "memory usage: 714.1 MB\n"
     ]
    }
   ],
   "source": [
    "df_hw.info()"
   ]
  },
  {
   "cell_type": "code",
   "execution_count": 13,
   "metadata": {},
   "outputs": [
    {
     "name": "stdout",
     "output_type": "stream",
     "text": [
      "<class 'pandas.core.frame.DataFrame'>\n",
      "RangeIndex: 61524648 entries, 0 to 61524647\n",
      "Data columns (total 4 columns):\n",
      " #   Column  Dtype         \n",
      "---  ------  -----         \n",
      " 0   lat     float32       \n",
      " 1   lon     float32       \n",
      " 2   time    datetime64[ns]\n",
      " 3   FSH     float32       \n",
      "dtypes: datetime64[ns](1), float32(3)\n",
      "memory usage: 1.1 GB\n"
     ]
    }
   ],
   "source": [
    "df_hw = df_hw.reset_index()\n",
    "df_no_hw = df_no_hw.reset_index()\n",
    "df_hw.info()"
   ]
  },
  {
   "cell_type": "markdown",
   "metadata": {},
   "source": [
    "#  add local_hour to dfs"
   ]
  },
  {
   "cell_type": "code",
   "execution_count": 14,
   "metadata": {},
   "outputs": [],
   "source": [
    "def convert_time_to_local_and_add_hour(df):\n",
    "    \"\"\"\n",
    "    Adjusts DataFrame time data to local based on longitude and extracts local hour.\n",
    "\n",
    "    Args:\n",
    "        df (pd.DataFrame): DataFrame to process.\n",
    "\n",
    "    Returns:\n",
    "        pd.DataFrame: Modified DataFrame with 'local_time' and 'local_hour' columns.\n",
    "    \"\"\"\n",
    "    def calculate_timezone_offset(longitude):\n",
    "        return np.floor(longitude / 15.0).astype(int)\n",
    "\n",
    "    offsets = calculate_timezone_offset(df['lon'].values)\n",
    "    df['local_time'] = df['time'] + pd.to_timedelta(offsets, unit='h')\n",
    "    df['local_hour'] = df['local_time'].dt.hour\n",
    "    return df"
   ]
  },
  {
   "cell_type": "code",
   "execution_count": 15,
   "metadata": {},
   "outputs": [],
   "source": [
    "df_hw = convert_time_to_local_and_add_hour(df_hw)\n",
    "df_no_hw = convert_time_to_local_and_add_hour(df_no_hw)"
   ]
  },
  {
   "cell_type": "code",
   "execution_count": 16,
   "metadata": {},
   "outputs": [
    {
     "name": "stdout",
     "output_type": "stream",
     "text": [
      "<class 'pandas.core.frame.DataFrame'>\n",
      "RangeIndex: 208953480 entries, 0 to 208953479\n",
      "Data columns (total 6 columns):\n",
      " #   Column      Dtype         \n",
      "---  ------      -----         \n",
      " 0   lat         float32       \n",
      " 1   lon         float32       \n",
      " 2   time        datetime64[ns]\n",
      " 3   FSH         float32       \n",
      " 4   local_time  datetime64[ns]\n",
      " 5   local_hour  int32         \n",
      "dtypes: datetime64[ns](2), float32(3), int32(1)\n",
      "memory usage: 6.2 GB\n"
     ]
    }
   ],
   "source": [
    "df_no_hw.info()"
   ]
  },
  {
   "cell_type": "markdown",
   "metadata": {},
   "source": [
    "# create daytime and nighttime dfs"
   ]
  },
  {
   "cell_type": "code",
   "execution_count": 23,
   "metadata": {},
   "outputs": [],
   "source": [
    "# Define day and night masks\n",
    "daytime_hw = df_hw[df_hw['local_hour'].between(8, 16)]\n",
    "nighttime_hw = df_hw[(df_hw['local_hour'].between(20, 24) | df_hw['local_hour'].between(0, 4))]\n",
    "\n",
    "# Define day and night masks\n",
    "daytime_no_hw = df_no_hw[df_no_hw['local_hour'].between(8, 16)]\n",
    "nighttime_no_hw =df_no_hw[(df_no_hw['local_hour'].between(20, 24) | df_no_hw['local_hour'].between(0, 4))]"
   ]
  },
  {
   "cell_type": "code",
   "execution_count": 25,
   "metadata": {},
   "outputs": [
    {
     "name": "stdout",
     "output_type": "stream",
     "text": [
      "<class 'pandas.core.frame.DataFrame'>\n",
      "Index: 23071743 entries, 13 to 61524637\n",
      "Data columns (total 6 columns):\n",
      " #   Column      Dtype         \n",
      "---  ------      -----         \n",
      " 0   lat         float32       \n",
      " 1   lon         float32       \n",
      " 2   time        datetime64[ns]\n",
      " 3   FSH         float32       \n",
      " 4   local_time  datetime64[ns]\n",
      " 5   local_hour  int32         \n",
      "dtypes: datetime64[ns](2), float32(3), int32(1)\n",
      "memory usage: 880.1 MB\n",
      "None\n",
      "<class 'pandas.core.frame.DataFrame'>\n",
      "Index: 23071743 entries, 1 to 61524647\n",
      "Data columns (total 6 columns):\n",
      " #   Column      Dtype         \n",
      "---  ------      -----         \n",
      " 0   lat         float32       \n",
      " 1   lon         float32       \n",
      " 2   time        datetime64[ns]\n",
      " 3   FSH         float32       \n",
      " 4   local_time  datetime64[ns]\n",
      " 5   local_hour  int32         \n",
      "dtypes: datetime64[ns](2), float32(3), int32(1)\n",
      "memory usage: 880.1 MB\n",
      "None\n"
     ]
    }
   ],
   "source": [
    "print(daytime_hw.info())\n",
    "print(nighttime_hw.info())"
   ]
  },
  {
   "cell_type": "code",
   "execution_count": 1,
   "metadata": {},
   "outputs": [],
   "source": [
    "import pandas as pd\n",
    "import numpy as np\n",
    "import matplotlib.pyplot as plt\n",
    "from mpl_toolkits.basemap import Basemap\n",
    "\n",
    "\n",
    "def plot_hw_no_diff(df_hw, df_no_hw, title:str, variable:str):\n",
    "    # Compute the mean of the specified variable for both dataframes\n",
    "    df_hw_mean = df_hw.groupby(['lat', 'lon'])[variable].mean().reset_index()\n",
    "    df_no_hw_mean = df_no_hw.groupby(['lat', 'lon'])[variable].mean().reset_index()\n",
    "    \n",
    "    # Merge the two dataframes on latitude and longitude\n",
    "    df_diff = pd.merge(df_hw_mean, df_no_hw_mean, on=['lat', 'lon'], suffixes=('_hw', '_no_hw'))\n",
    "    \n",
    "    # Compute the difference between the two variables\n",
    "    df_diff['difference'] = df_diff[f'{variable}_hw'] - df_diff[f'{variable}_no_hw']\n",
    "    \n",
    "    # Plot the map using the draw_map_subplot function\n",
    "    fig, ax = plt.subplots(figsize=(12, 6))\n",
    "    # fig, axs = plt.subplots(figsize=(10, 6), dpi=300)  # Correct subplot structure\n",
    "    draw_map_subplot(ax, title, df_diff, 'difference')\n",
    "    plt.show()\n",
    "\n",
    "# Example usage:\n",
    "# plot_hw_no_diff(df_hw, df_no_hw, 'Title of the Map', 'variable_name')\n"
   ]
  },
  {
   "cell_type": "code",
   "execution_count": 2,
   "metadata": {},
   "outputs": [
    {
     "ename": "NameError",
     "evalue": "name 'daytime_hw' is not defined",
     "output_type": "error",
     "traceback": [
      "\u001b[0;31m---------------------------------------------------------------------------\u001b[0m",
      "\u001b[0;31mNameError\u001b[0m                                 Traceback (most recent call last)",
      "Cell \u001b[0;32mIn[2], line 1\u001b[0m\n\u001b[0;32m----> 1\u001b[0m plot_hw_no_diff(\u001b[43mdaytime_hw\u001b[49m, daytime_no_hw, \u001b[38;5;124m'\u001b[39m\u001b[38;5;124mDaytime HW vs No HW\u001b[39m\u001b[38;5;124m'\u001b[39m, \u001b[38;5;124m'\u001b[39m\u001b[38;5;124mFSH\u001b[39m\u001b[38;5;124m'\u001b[39m)\n",
      "\u001b[0;31mNameError\u001b[0m: name 'daytime_hw' is not defined"
     ]
    }
   ],
   "source": [
    "plot_hw_no_diff(daytime_hw, daytime_no_hw, 'Daytime HW vs No HW', 'FSH')"
   ]
  }
 ],
 "metadata": {
  "kernelspec": {
   "display_name": "pipJupyter",
   "language": "python",
   "name": "python3"
  },
  "language_info": {
   "codemirror_mode": {
    "name": "ipython",
    "version": 3
   },
   "file_extension": ".py",
   "mimetype": "text/x-python",
   "name": "python",
   "nbconvert_exporter": "python",
   "pygments_lexer": "ipython3",
   "version": "3.11.9"
  }
 },
 "nbformat": 4,
 "nbformat_minor": 2
}
