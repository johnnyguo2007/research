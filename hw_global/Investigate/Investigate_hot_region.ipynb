{
 "cells": [
  {
   "metadata": {
    "ExecuteTime": {
     "end_time": "2024-06-20T02:33:29.344781Z",
     "start_time": "2024-06-20T02:33:28.988368Z"
    }
   },
   "cell_type": "code",
   "source": [
    "import pandas as pd\n",
    "import numpy as np\n",
    "import xarray as xr\n",
    "import os"
   ],
   "id": "5351a9df29a18071",
   "outputs": [],
   "execution_count": 1
  },
  {
   "cell_type": "code",
   "id": "initial_id",
   "metadata": {
    "collapsed": true,
    "ExecuteTime": {
     "end_time": "2024-06-20T02:33:41.343733Z",
     "start_time": "2024-06-20T02:33:34.783104Z"
    }
   },
   "source": [
    "summary_dir = '/Trex/test_case_results/i.e215.I2000Clm50SpGs.hw_production.02/research_results/summary'\n",
    "# Load data\n",
    "merged_feather_path = os.path.join(summary_dir, 'local_hour_adjusted_variables_with_location_ID_event_ID_and_sur.feather')\n",
    "local_hour_adjusted_df = pd.read_feather(merged_feather_path)"
   ],
   "outputs": [],
   "execution_count": 2
  },
  {
   "metadata": {
    "ExecuteTime": {
     "end_time": "2024-06-20T02:33:50.709225Z",
     "start_time": "2024-06-20T02:33:50.696165Z"
    }
   },
   "cell_type": "code",
   "source": "local_hour_adjusted_df.info()",
   "id": "3c57682baa615d2d",
   "outputs": [
    {
     "name": "stdout",
     "output_type": "stream",
     "text": [
      "<class 'pandas.core.frame.DataFrame'>\n",
      "RangeIndex: 58245960 entries, 0 to 58245959\n",
      "Data columns (total 74 columns):\n",
      " #   Column           Dtype         \n",
      "---  ------           -----         \n",
      " 0   index            int64         \n",
      " 1   time             datetime64[ns]\n",
      " 2   lat              float32       \n",
      " 3   lon              float32       \n",
      " 4   APPAR_TEMP       float32       \n",
      " 5   APPAR_TEMP_R     float32       \n",
      " 6   APPAR_TEMP_U     float32       \n",
      " 7   EFLX_LH_TOT      float32       \n",
      " 8   EFLX_LH_TOT_R    float32       \n",
      " 9   EFLX_LH_TOT_U    float32       \n",
      " 10  FGR              float32       \n",
      " 11  FGR_R            float32       \n",
      " 12  FGR_U            float32       \n",
      " 13  FIRA             float32       \n",
      " 14  FIRA_R           float32       \n",
      " 15  FIRA_U           float32       \n",
      " 16  FIRE             float32       \n",
      " 17  FIRE_R           float32       \n",
      " 18  FIRE_U           float32       \n",
      " 19  FLDS             float32       \n",
      " 20  FSA              float32       \n",
      " 21  FSA_R            float32       \n",
      " 22  FSA_U            float32       \n",
      " 23  FSDS             float32       \n",
      " 24  FSH              float32       \n",
      " 25  FSH_R            float32       \n",
      " 26  FSH_U            float32       \n",
      " 27  HEAT_FROM_AC     float32       \n",
      " 28  HIA              float32       \n",
      " 29  HIA_R            float32       \n",
      " 30  HIA_U            float32       \n",
      " 31  HW               float64       \n",
      " 32  PBOT             float32       \n",
      " 33  Q2M              float32       \n",
      " 34  Q2M_R            float32       \n",
      " 35  Q2M_U            float32       \n",
      " 36  QBOT             float32       \n",
      " 37  RAIN             float32       \n",
      " 38  SNOW             float32       \n",
      " 39  TBOT             float32       \n",
      " 40  THBOT            float32       \n",
      " 41  TSA              float32       \n",
      " 42  TSA_R            float32       \n",
      " 43  TSA_U            float32       \n",
      " 44  TSKIN            float32       \n",
      " 45  TSKIN_R          float32       \n",
      " 46  TSKIN_U          float32       \n",
      " 47  U10              float32       \n",
      " 48  UWBI             float32       \n",
      " 49  UHI              float32       \n",
      " 50  URBAN_HEAT       float32       \n",
      " 51  VAPOR_PRES       float32       \n",
      " 52  VAPOR_PRES_R     float32       \n",
      " 53  VAPOR_PRES_U     float32       \n",
      " 54  WASTEHEAT        float32       \n",
      " 55  WBA              float32       \n",
      " 56  WBA_R            float32       \n",
      " 57  WBA_U            float32       \n",
      " 58  WIND             float32       \n",
      " 59  hour             int32         \n",
      " 60  month            int32         \n",
      " 61  year             int32         \n",
      " 62  UHI_avg          float32       \n",
      " 63  UWBI_avg         float32       \n",
      " 64  UHI_diff         float32       \n",
      " 65  UWBI_diff        float32       \n",
      " 66  local_time       datetime64[ns]\n",
      " 67  local_hour       int32         \n",
      " 68  location_ID      int64         \n",
      " 69  time_diff        float64       \n",
      " 70  new_event        bool          \n",
      " 71  event_ID         int64         \n",
      " 72  global_event_ID  object        \n",
      " 73  TOPO             float64       \n",
      "dtypes: bool(1), datetime64[ns](2), float32(60), float64(3), int32(4), int64(3), object(1)\n",
      "memory usage: 17.8+ GB\n"
     ]
    }
   ],
   "execution_count": 3
  },
  {
   "metadata": {
    "ExecuteTime": {
     "end_time": "2024-06-20T03:31:26.677645Z",
     "start_time": "2024-06-20T03:31:25.784446Z"
    }
   },
   "cell_type": "code",
   "source": [
    "#group by global event ID and count the number of days in each event\n",
    "event_count = local_hour_adjusted_df.groupby('location_ID')['time'].count().sort_values(ascending=False)\n",
    "event_count"
   ],
   "id": "ca3e2a604ed67888",
   "outputs": [
    {
     "data": {
      "text/plain": [
       "location_ID\n",
       "25025    56640\n",
       "26178    56544\n",
       "18737    55176\n",
       "25663    53616\n",
       "27394    53136\n",
       "         ...  \n",
       "27745       48\n",
       "44369       48\n",
       "35793       24\n",
       "44076       24\n",
       "40348       24\n",
       "Name: time, Length: 3704, dtype: int64"
      ]
     },
     "execution_count": 8,
     "metadata": {},
     "output_type": "execute_result"
    }
   ],
   "execution_count": 8
  },
  {
   "metadata": {
    "ExecuteTime": {
     "end_time": "2024-06-20T03:44:14.076462Z",
     "start_time": "2024-06-20T03:44:12.834860Z"
    }
   },
   "cell_type": "code",
   "source": [
    "\n",
    "location_hw_count = (\n",
    "    local_hour_adjusted_df[['location_ID']]\n",
    "    .groupby(['location_ID'])\n",
    "    .size()\n",
    "    .reset_index(name='count')\n",
    "    .query('count / (24 *29) > 40')\n",
    ")\n",
    "\n",
    "# Divide count by 24 to get the number of days\n",
    "location_hw_count['count'] = location_hw_count['count'] / (24 *29)\n",
    "\n",
    "\n",
    "location_hw_count\n"
   ],
   "id": "3a3a37533c767d7f",
   "outputs": [
    {
     "data": {
      "text/plain": [
       "      location_ID      count\n",
       "63          17515  40.206897\n",
       "89          17949  52.137931\n",
       "97          18097  40.448276\n",
       "98          18098  41.655172\n",
       "102         18380  49.344828\n",
       "...           ...        ...\n",
       "3026        41236  52.793103\n",
       "3029        41252  47.172414\n",
       "3030        41253  46.931034\n",
       "3086        41523  47.551724\n",
       "3140        41802  49.310345\n",
       "\n",
       "[952 rows x 2 columns]"
      ],
      "text/html": [
       "<div>\n",
       "<style scoped>\n",
       "    .dataframe tbody tr th:only-of-type {\n",
       "        vertical-align: middle;\n",
       "    }\n",
       "\n",
       "    .dataframe tbody tr th {\n",
       "        vertical-align: top;\n",
       "    }\n",
       "\n",
       "    .dataframe thead th {\n",
       "        text-align: right;\n",
       "    }\n",
       "</style>\n",
       "<table border=\"1\" class=\"dataframe\">\n",
       "  <thead>\n",
       "    <tr style=\"text-align: right;\">\n",
       "      <th></th>\n",
       "      <th>location_ID</th>\n",
       "      <th>count</th>\n",
       "    </tr>\n",
       "  </thead>\n",
       "  <tbody>\n",
       "    <tr>\n",
       "      <th>63</th>\n",
       "      <td>17515</td>\n",
       "      <td>40.206897</td>\n",
       "    </tr>\n",
       "    <tr>\n",
       "      <th>89</th>\n",
       "      <td>17949</td>\n",
       "      <td>52.137931</td>\n",
       "    </tr>\n",
       "    <tr>\n",
       "      <th>97</th>\n",
       "      <td>18097</td>\n",
       "      <td>40.448276</td>\n",
       "    </tr>\n",
       "    <tr>\n",
       "      <th>98</th>\n",
       "      <td>18098</td>\n",
       "      <td>41.655172</td>\n",
       "    </tr>\n",
       "    <tr>\n",
       "      <th>102</th>\n",
       "      <td>18380</td>\n",
       "      <td>49.344828</td>\n",
       "    </tr>\n",
       "    <tr>\n",
       "      <th>...</th>\n",
       "      <td>...</td>\n",
       "      <td>...</td>\n",
       "    </tr>\n",
       "    <tr>\n",
       "      <th>3026</th>\n",
       "      <td>41236</td>\n",
       "      <td>52.793103</td>\n",
       "    </tr>\n",
       "    <tr>\n",
       "      <th>3029</th>\n",
       "      <td>41252</td>\n",
       "      <td>47.172414</td>\n",
       "    </tr>\n",
       "    <tr>\n",
       "      <th>3030</th>\n",
       "      <td>41253</td>\n",
       "      <td>46.931034</td>\n",
       "    </tr>\n",
       "    <tr>\n",
       "      <th>3086</th>\n",
       "      <td>41523</td>\n",
       "      <td>47.551724</td>\n",
       "    </tr>\n",
       "    <tr>\n",
       "      <th>3140</th>\n",
       "      <td>41802</td>\n",
       "      <td>49.310345</td>\n",
       "    </tr>\n",
       "  </tbody>\n",
       "</table>\n",
       "<p>952 rows × 2 columns</p>\n",
       "</div>"
      ]
     },
     "execution_count": 11,
     "metadata": {},
     "output_type": "execute_result"
    }
   ],
   "execution_count": 11
  }
 ],
 "metadata": {
  "kernelspec": {
   "display_name": "Python 3",
   "language": "python",
   "name": "python3"
  },
  "language_info": {
   "codemirror_mode": {
    "name": "ipython",
    "version": 2
   },
   "file_extension": ".py",
   "mimetype": "text/x-python",
   "name": "python",
   "nbconvert_exporter": "python",
   "pygments_lexer": "ipython2",
   "version": "2.7.6"
  }
 },
 "nbformat": 4,
 "nbformat_minor": 5
}
