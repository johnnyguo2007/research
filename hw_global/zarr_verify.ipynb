{
 "cells": [
  {
   "cell_type": "code",
   "execution_count": 27,
   "id": "initial_id",
   "metadata": {
    "collapsed": true,
    "ExecuteTime": {
     "end_time": "2024-03-17T19:59:52.001046Z",
     "start_time": "2024-03-17T19:59:51.991519Z"
    }
   },
   "source": [
    "import zarr\n",
    "import os\n",
    "import pandas as pd\n",
    "import xarray as xr\n",
    "import numpy as np"
   ],
   "outputs": []
  },
  {
   "cell_type": "code",
   "source": [
    "# Read the Zarr dataset using Xarray with automatic chunking for Dask\n",
    "# ds = xr.open_zarr('/Trex/case_results/i.e215.I2000Clm50SpGs.hw_production.02/research_results/zarr/3Dvars', chunks='auto')\n",
    "ds = xr.open_zarr('/Trex/case_results/i.e215.I2000Clm50SpGs.hw_production.02/research_results/zarr/3Dvars')\n",
    "core_vars = ['TSA', 'TSA_R', 'TSA_U', 'WBA', 'WBA_R', 'WBA_U', 'HW']\n",
    "# ds = ds[core_vars]\n",
    "ds"
   ],
   "metadata": {
    "collapsed": false,
    "ExecuteTime": {
     "end_time": "2024-03-17T19:59:52.350330Z",
     "start_time": "2024-03-17T19:59:52.130549Z"
    }
   },
   "id": "3a4ac11f54d3a095",
   "execution_count": 28,
   "outputs": []
  },
  {
   "cell_type": "code",
   "source": [],
   "metadata": {
    "collapsed": false,
    "ExecuteTime": {
     "end_time": "2024-03-17T19:59:52.353715Z",
     "start_time": "2024-03-17T19:59:52.351754Z"
    }
   },
   "id": "6260ca50b9fc917e",
   "execution_count": 28,
   "outputs": []
  },
  {
   "cell_type": "code",
   "source": [
    "ds.TSA.isel(time=0).plot()\n",
    "ds.TSA.isel(time=0).sum().compute()\n"
   ],
   "metadata": {
    "collapsed": false,
    "ExecuteTime": {
     "end_time": "2024-03-17T19:59:53.031805Z",
     "start_time": "2024-03-17T19:59:52.354695Z"
    }
   },
   "id": "b66851218797eee9",
   "execution_count": 29,
   "outputs": []
  },
  {
   "cell_type": "code",
   "source": [
    "#read in netcdf file i.e215.I2000Clm50SpGs.hw_production.02.clm2.h2.1985-01-01-00000.nc\n",
    "ds_netcdf = xr.open_dataset('/Trex/case_results/i.e215.I2000Clm50SpGs.hw_production.02/sim_results/hourly/i.e215.I2000Clm50SpGs.hw_production.02.clm2.h2.1985-01-01-00000.nc')\n",
    "ds_netcdf.TSA.isel(time=0).plot()\n",
    "\n",
    "\n",
    "\n"
   ],
   "metadata": {
    "collapsed": false,
    "ExecuteTime": {
     "end_time": "2024-03-17T19:59:53.425981Z",
     "start_time": "2024-03-17T19:59:53.033324Z"
    }
   },
   "id": "e6cd9e02343d219e",
   "execution_count": 30,
   "outputs": []
  },
  {
   "cell_type": "code",
   "source": [
    "type(ds.HW.isel(time=0).values[0][0])"
   ],
   "metadata": {
    "collapsed": false,
    "ExecuteTime": {
     "end_time": "2024-03-17T19:59:53.451918Z",
     "start_time": "2024-03-17T19:59:53.427140Z"
    }
   },
   "id": "fe5517db65ad4b7d",
   "execution_count": 31,
   "outputs": []
  },
  {
   "cell_type": "markdown",
   "source": [
    "#  Select Urban cells only"
   ],
   "metadata": {
    "collapsed": false
   },
   "id": "403c8b5e0d33130e"
  },
  {
   "cell_type": "code",
   "source": [
    "#get first year from ds\n",
    "ds_1985 = ds.sel(time=slice('1985-01-01', '1985-12-31'))"
   ],
   "metadata": {
    "collapsed": false,
    "ExecuteTime": {
     "end_time": "2024-03-17T19:59:53.488797Z",
     "start_time": "2024-03-17T19:59:53.452810Z"
    }
   },
   "id": "196d4ec71c575d1e",
   "execution_count": 32,
   "outputs": []
  },
  {
   "cell_type": "code",
   "source": [],
   "metadata": {
    "collapsed": false,
    "ExecuteTime": {
     "end_time": "2024-03-17T19:59:53.491661Z",
     "start_time": "2024-03-17T19:59:53.489818Z"
    }
   },
   "id": "b3b2de778265e0a3",
   "execution_count": 32,
   "outputs": []
  },
  {
   "cell_type": "code",
   "source": [
    "# Identify lat and lon values where the mask is True\n",
    "mask = ds_netcdf.isel(time=22)['TSA_U'].notnull()\n",
    "mask.sum()"
   ],
   "metadata": {
    "collapsed": false,
    "ExecuteTime": {
     "end_time": "2024-03-17T19:59:53.502965Z",
     "start_time": "2024-03-17T19:59:53.492514Z"
    }
   },
   "id": "53c4d7c02ff0915a",
   "execution_count": 33,
   "outputs": []
  },
  {
   "cell_type": "code",
   "source": [
    "lat_values = ds_1985['lat'].values[np.any(mask, axis=1)]\n",
    "lon_values = ds_1985['lon'].values[np.any(mask, axis=0)]\n"
   ],
   "metadata": {
    "collapsed": false,
    "ExecuteTime": {
     "end_time": "2024-03-17T19:59:53.509381Z",
     "start_time": "2024-03-17T19:59:53.504032Z"
    }
   },
   "id": "8b3d7f85daafd158",
   "execution_count": 34,
   "outputs": []
  },
  {
   "cell_type": "code",
   "source": [
    "\n",
    "# # Select only the data corresponding to the True mask values for 'lat' and 'lon'\n",
    "# ds_1985_selected = ds_1985.sel(lat=lat_values, lon=lon_values)\n",
    "# ds_1985_selected.TSA.isel(time=0).plot()\n",
    "# print(ds_1985_selected.TSA.isel(time=0).sum().compute())\n",
    "# print(ds.TSA.isel(time=0).sum().compute())"
   ],
   "metadata": {
    "collapsed": false,
    "ExecuteTime": {
     "end_time": "2024-03-17T19:59:53.519630Z",
     "start_time": "2024-03-17T19:59:53.511336Z"
    }
   },
   "id": "5ec7454209f2d905",
   "execution_count": 35,
   "outputs": []
  },
  {
   "cell_type": "code",
   "source": [
    "ds['UHI'] = ds.TSA_U - ds.TSA_R\n",
    "ds['UBWI'] = ds.WBA_U - ds.WBA_R\n"
   ],
   "metadata": {
    "collapsed": false,
    "ExecuteTime": {
     "end_time": "2024-03-17T19:59:53.537463Z",
     "start_time": "2024-03-17T19:59:53.520571Z"
    }
   },
   "id": "c7840486f860a4f3",
   "execution_count": 36,
   "outputs": []
  },
  {
   "cell_type": "code",
   "source": [],
   "metadata": {
    "collapsed": false,
    "ExecuteTime": {
     "end_time": "2024-03-17T19:59:53.540552Z",
     "start_time": "2024-03-17T19:59:53.538533Z"
    }
   },
   "id": "458d2702eb4d9ef8",
   "execution_count": 36,
   "outputs": []
  },
  {
   "cell_type": "code",
   "source": [
    "\n",
    "def append_to_zarr(ds, zarr_group):\n",
    "    chunk_size = {'time': 24 * 365, 'lat': 96, 'lon': 144}\n",
    "    ds = ds.chunk(chunk_size)\n",
    "    if os.path.exists(zarr_group):\n",
    "        ds.to_zarr(zarr_group, mode='a', append_dim='time', consolidated=True)\n",
    "    else:\n",
    "        encoding = {var: {'compressor': zarr.Blosc(cname='zstd', clevel=3)} for var in ds.data_vars}\n",
    "        ds.to_zarr(zarr_group, mode='w', encoding=encoding, consolidated=True)"
   ],
   "metadata": {
    "collapsed": false,
    "ExecuteTime": {
     "end_time": "2024-03-17T19:59:53.549394Z",
     "start_time": "2024-03-17T19:59:53.541550Z"
    }
   },
   "id": "ee1dfebf37a06f2e",
   "execution_count": 37,
   "outputs": []
  },
  {
   "cell_type": "code",
   "source": [
    "import xarray as xr\n",
    "import numpy as np\n",
    "\n",
    "# Function to process data in smaller chunks\n",
    "def process_in_chunks(ds, chunk_size, zarr_path):\n",
    "    # Determine the number of time steps\n",
    "    num_time_steps = ds.dims['time']\n",
    "\n",
    "    # Iterate over the dataset in chunks\n",
    "    for start in range(0, num_time_steps, chunk_size):\n",
    "        end = start + chunk_size\n",
    "        print(f\"Processing time steps {start} to {min(end, num_time_steps)}\")\n",
    "\n",
    "        # Select the chunk\n",
    "        ds_chunk = ds.isel(time=slice(start, end)) #.sel(lat=lat_values, lon=lon_values)\n",
    "\n",
    "        # Compute the boolean indexer for the current chunk\n",
    "        hw_computed = ds_chunk.HW.compute()\n",
    "\n",
    "        # Apply the condition and compute the chunk\n",
    "        ds_hw_chunk = ds_chunk.where(hw_computed).compute()\n",
    "        ds_no_hw_chunk = ds_chunk.where(~hw_computed).compute()\n",
    "\n",
    "        # Append the processed chunk to the list\n",
    "        print(f\"Appending HW to Zarr\", ds_hw_chunk.time.values[0], ds_hw_chunk.time.values[-1])\n",
    "        append_to_zarr(ds_hw_chunk, os.path.join(zarr_path, 'HW'))\n",
    "        print(f\"Appending No HW to Zarr\", ds_no_hw_chunk.time.values[0], ds_no_hw_chunk.time.values[-1])\n",
    "        append_to_zarr(ds_no_hw_chunk, os.path.join(zarr_path, 'NO_HW'))\n",
    "        \n",
    "    return "
   ],
   "metadata": {
    "collapsed": false,
    "ExecuteTime": {
     "end_time": "2024-03-17T19:59:53.556767Z",
     "start_time": "2024-03-17T19:59:53.550400Z"
    }
   },
   "id": "d5c98a66c74ccfa",
   "execution_count": 38,
   "outputs": []
  },
  {
   "cell_type": "code",
   "source": [
    "zarr_path = '/Trex/case_results/i.e215.I2000Clm50SpGs.hw_production.02/research_results/zarr'\n",
    "\n",
    "# Apply the function to your dataset\n",
    "process_in_chunks(ds=ds, chunk_size=24 * 3 * 31, zarr_path=zarr_path)  # Adjust chunk_size as needed\n",
    "\n",
    "# Now ds_hw and ds_no_hw contain the processed data\n"
   ],
   "metadata": {
    "collapsed": false,
    "ExecuteTime": {
     "end_time": "2024-03-17T20:01:16.006910Z",
     "start_time": "2024-03-17T19:59:53.557752Z"
    }
   },
   "id": "233831b1caab8be3",
   "execution_count": 39,
   "outputs": []
  }
 ],
 "metadata": {
  "kernelspec": {
   "display_name": "Python 3",
   "language": "python",
   "name": "python3"
  },
  "language_info": {
   "codemirror_mode": {
    "name": "ipython",
    "version": 2
   },
   "file_extension": ".py",
   "mimetype": "text/x-python",
   "name": "python",
   "nbconvert_exporter": "python",
   "pygments_lexer": "ipython2",
   "version": "2.7.6"
  }
 },
 "nbformat": 4,
 "nbformat_minor": 5
}
